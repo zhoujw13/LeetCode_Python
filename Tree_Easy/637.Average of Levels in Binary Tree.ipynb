{
 "cells": [
  {
   "cell_type": "code",
   "execution_count": null,
   "metadata": {},
   "outputs": [],
   "source": [
    "# 637.Average of Levels in Binary Tree"
   ]
  },
  {
   "cell_type": "code",
   "execution_count": 2,
   "metadata": {},
   "outputs": [],
   "source": [
    "# Definition for a binary tree node.\n",
    "# class TreeNode(object):\n",
    "#     def __init__(self, x):\n",
    "#         self.val = x\n",
    "#         self.left = None\n",
    "#         self.right = None\n",
    "\n",
    "class Solution(object):\n",
    "    def averageOfLevels(self, root):\n",
    "        \"\"\"\n",
    "        :type root: TreeNode\n",
    "        :rtype: List[float]\n",
    "        \"\"\"\n",
    "        if not root:\n",
    "            return []\n",
    "        res =[]\n",
    "        count = []\n",
    "        queue = collections.deque()\n",
    "        queue.append((root,0))\n",
    "        while queue:\n",
    "            node,level = queue.popleft()\n",
    "            if node:\n",
    "                queue.append((node.left,level+1))\n",
    "                queue.append((node.right,level+1))\n",
    "                if len(res)<level+1:\n",
    "                    res.append(0)\n",
    "                    count.append(0)\n",
    "                count[-1] +=1\n",
    "                res[-1] += node.val\n",
    "                \n",
    "        for i in range(len(res)):\n",
    "            res[i] =res[i]/count[i]\n",
    "            \n",
    "        return res\n",
    "            "
   ]
  },
  {
   "cell_type": "code",
   "execution_count": null,
   "metadata": {},
   "outputs": [],
   "source": []
  }
 ],
 "metadata": {
  "kernelspec": {
   "display_name": "Python 3",
   "language": "python",
   "name": "python3"
  },
  "language_info": {
   "codemirror_mode": {
    "name": "ipython",
    "version": 3
   },
   "file_extension": ".py",
   "mimetype": "text/x-python",
   "name": "python",
   "nbconvert_exporter": "python",
   "pygments_lexer": "ipython3",
   "version": "3.6.5"
  }
 },
 "nbformat": 4,
 "nbformat_minor": 2
}
