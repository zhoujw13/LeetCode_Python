{
 "cells": [
  {
   "cell_type": "code",
   "execution_count": null,
   "metadata": {},
   "outputs": [],
   "source": [
    "# 572.Subtree of Another Tree"
   ]
  },
  {
   "cell_type": "code",
   "execution_count": 1,
   "metadata": {},
   "outputs": [],
   "source": [
    "# Definition for a binary tree node.\n",
    "# class TreeNode(object):\n",
    "#     def __init__(self, x):\n",
    "#         self.val = x\n",
    "#         self.left = None\n",
    "#         self.right = None\n",
    "\n",
    "class Solution(object):\n",
    "    def isSubtree(self, s, t):\n",
    "        \"\"\"\n",
    "        :type s: TreeNode\n",
    "        :type t: TreeNode\n",
    "        :rtype: bool\n",
    "        \"\"\"\n",
    "        def isSametree(s,t):\n",
    "            if s==None and t==None:\n",
    "                return True\n",
    "            if s and t and s.val ==t.val:\n",
    "                return isSametree(s.left,t.left) and isSametree(s.right,t.right)\n",
    "            return False\n",
    "\n",
    "    \n",
    "        if isSametree(s,t):\n",
    "            return True\n",
    "        if not s:\n",
    "            return False\n",
    "        return self.isSubtree(s.left,t) or self.isSubtree(s.right,t)\n",
    "    "
   ]
  },
  {
   "cell_type": "code",
   "execution_count": null,
   "metadata": {},
   "outputs": [],
   "source": [
    "# Definition for a binary tree node.\n",
    "# class TreeNode(object):\n",
    "#     def __init__(self, x):\n",
    "#         self.val = x\n",
    "#         self.left = None\n",
    "#         self.right = None\n",
    "\n",
    "class Solution(object):\n",
    "    def isSubtree(self, s, t):\n",
    "        \"\"\"\n",
    "        :type s: TreeNode\n",
    "        :type t: TreeNode\n",
    "        :rtype: bool\n",
    "        \"\"\"\n",
    "        '''\n",
    "        def isSametree(s,t):\n",
    "            if s==None and t==None:\n",
    "                return True\n",
    "            if s and t and s.val ==t.val:\n",
    "                return isSametree(s.left,t.left) and isSametree(s.right,t.right)\n",
    "            return False\n",
    "\n",
    "    \n",
    "        if isSametree(s,t):\n",
    "            return True\n",
    "        if not s:\n",
    "            return False\n",
    "        return self.isSubtree(s.left,t) or self.isSubtree(s.right,t)\n",
    "        '''\n",
    "        '''\n",
    "        Bsically we convert our tree into string representation, then just check whether substring exists in target string.\n",
    "        '''\n",
    "        \n",
    "        def convert(p):\n",
    "            return \"^\" + str(p.val) + \"#\" + convert(p.left) + convert(p.right) if p else \"$\"\n",
    "        \n",
    "        return convert(t) in convert(s)\n",
    "    "
   ]
  }
 ],
 "metadata": {
  "kernelspec": {
   "display_name": "Python 3",
   "language": "python",
   "name": "python3"
  },
  "language_info": {
   "codemirror_mode": {
    "name": "ipython",
    "version": 3
   },
   "file_extension": ".py",
   "mimetype": "text/x-python",
   "name": "python",
   "nbconvert_exporter": "python",
   "pygments_lexer": "ipython3",
   "version": "3.6.5"
  }
 },
 "nbformat": 4,
 "nbformat_minor": 2
}
