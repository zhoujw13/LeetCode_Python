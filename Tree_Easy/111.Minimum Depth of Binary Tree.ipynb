{
 "cells": [
  {
   "cell_type": "code",
   "execution_count": 1,
   "metadata": {
    "collapsed": true
   },
   "outputs": [],
   "source": [
    "# 111.Minimum Depth of Binary Tree"
   ]
  },
  {
   "cell_type": "code",
   "execution_count": 2,
   "metadata": {
    "collapsed": true
   },
   "outputs": [],
   "source": [
    "# Definition for a binary tree node.\n",
    "# class TreeNode:\n",
    "#     def __init__(self, x):\n",
    "#         self.val = x\n",
    "#         self.left = None\n",
    "#         self.right = None\n",
    "\n",
    "class Solution:\n",
    "    def minDepth(self, root):\n",
    "        \"\"\"\n",
    "        :type root: TreeNode\n",
    "        :rtype: int\n",
    "        \"\"\"\n",
    "\n",
    "        if root==None:\n",
    "            return 0\n",
    "        elif root.left ==None and root.right==None:\n",
    "            return 1\n",
    "        elif root.left ==None:\n",
    "            return self.minDepth(root.right)+1\n",
    "        elif root.right ==None:\n",
    "            return self.minDepth(root.left)+1\n",
    "        return min(self.minDepth(root.left),self.minDepth(root.right))+1"
   ]
  },
  {
   "cell_type": "code",
   "execution_count": null,
   "metadata": {
    "collapsed": true
   },
   "outputs": [],
   "source": [
    "# answer from web\n",
    "def minDepth(self, root):\n",
    "    if not root: return 0\n",
    "    d = map(self.minDepth, (root.left, root.right))\n",
    "    return 1 + (min(d) or max(d))\n",
    "\n",
    "def minDepth(self, root):\n",
    "    if not root: return 0\n",
    "    d, D = sorted(map(self.minDepth, (root.left, root.right)))\n",
    "    return 1 + (d or D)"
   ]
  }
 ],
 "metadata": {
  "anaconda-cloud": {},
  "kernelspec": {
   "display_name": "Python [conda root]",
   "language": "python",
   "name": "conda-root-py"
  },
  "language_info": {
   "codemirror_mode": {
    "name": "ipython",
    "version": 3
   },
   "file_extension": ".py",
   "mimetype": "text/x-python",
   "name": "python",
   "nbconvert_exporter": "python",
   "pygments_lexer": "ipython3",
   "version": "3.5.2"
  }
 },
 "nbformat": 4,
 "nbformat_minor": 2
}
