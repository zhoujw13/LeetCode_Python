{
 "cells": [
  {
   "cell_type": "code",
   "execution_count": null,
   "metadata": {},
   "outputs": [],
   "source": [
    "# 563.Binary Tree Tilt"
   ]
  },
  {
   "cell_type": "code",
   "execution_count": 1,
   "metadata": {},
   "outputs": [],
   "source": [
    "# Definition for a binary tree node.\n",
    "# class TreeNode(object):\n",
    "#     def __init__(self, x):\n",
    "#         self.val = x\n",
    "#         self.left = None\n",
    "#         self.right = None\n",
    "\n",
    "class Solution(object):\n",
    "    def findTilt(self, root):\n",
    "        \"\"\"\n",
    "        :type root: TreeNode\n",
    "        :rtype: int\n",
    "        \"\"\"\n",
    "        \n",
    "        def Countsum(root):\n",
    "            if not root:\n",
    "                return 0\n",
    "            return root.val + Countsum(root.left) + Countsum(root.right)\n",
    "        \n",
    "        def Counttilt(root):\n",
    "            if not root:\n",
    "                return 0\n",
    "            return abs(Countsum(root.left)-Countsum(root.right))\n",
    "        \n",
    "        \n",
    "        def Tilt(root):\n",
    "            if not root:\n",
    "                return 0 \n",
    "            return Counttilt(root)+Tilt(root.left)+Tilt(root.right)\n",
    "        \n",
    "        return Tilt(root)\n",
    "    \n",
    "     #这个是自己写的，运行特别慢 500ms左右"
   ]
  },
  {
   "cell_type": "code",
   "execution_count": null,
   "metadata": {},
   "outputs": [],
   "source": [
    "# Definition for a binary tree node.\n",
    "# class TreeNode(object):\n",
    "#     def __init__(self, x):\n",
    "#         self.val = x\n",
    "#         self.left = None\n",
    "#         self.right = None\n",
    "\n",
    "class Solution(object):\n",
    "    def findTilt(self, root):\n",
    "        \"\"\"\n",
    "        :type root: TreeNode\n",
    "        :rtype: int\n",
    "        \"\"\"\n",
    "      \n",
    "        self.ans = 0\n",
    "        def _sum(node):\n",
    "            if not node: return 0\n",
    "            left, right = _sum(node.left), _sum(node.right)\n",
    "            self.ans += abs(left - right)\n",
    "            return node.val + left + right\n",
    "    \n",
    "        _sum(root)\n",
    "        return self.ans\n",
    "    \n",
    "    #这个是别人的 60ms左右！！要减少迭代！！！"
   ]
  }
 ],
 "metadata": {
  "kernelspec": {
   "display_name": "Python 3",
   "language": "python",
   "name": "python3"
  },
  "language_info": {
   "codemirror_mode": {
    "name": "ipython",
    "version": 3
   },
   "file_extension": ".py",
   "mimetype": "text/x-python",
   "name": "python",
   "nbconvert_exporter": "python",
   "pygments_lexer": "ipython3",
   "version": "3.6.5"
  }
 },
 "nbformat": 4,
 "nbformat_minor": 2
}
