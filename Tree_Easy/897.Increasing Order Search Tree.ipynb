{
 "cells": [
  {
   "cell_type": "code",
   "execution_count": 1,
   "metadata": {},
   "outputs": [],
   "source": [
    "# 897.Increasing Order Search Tree"
   ]
  },
  {
   "cell_type": "markdown",
   "metadata": {},
   "source": [
    "in-order\n",
    "\n",
    "中序遍历（LDR）是二叉树遍历的一种，也叫做中根遍历、中序周游。在二叉树中，中序遍历首先遍历左子树，然后访问根结点，最后遍历右子树。"
   ]
  },
  {
   "cell_type": "code",
   "execution_count": 2,
   "metadata": {},
   "outputs": [],
   "source": [
    "# Definition for a binary tree node.\n",
    "# class TreeNode:\n",
    "#     def __init__(self, x):\n",
    "#         self.val = x\n",
    "#         self.left = None\n",
    "#         self.right = None\n",
    "\n",
    "class Solution:\n",
    "    def increasingBST(self, root):\n",
    "        \"\"\"\n",
    "        :type root: TreeNode\n",
    "        :rtype: TreeNode\n",
    "        \"\"\"\n",
    "        if not root:\n",
    "            return None\n",
    "        \n",
    "        nodes = [root]\n",
    "        values = []\n",
    "        while nodes:\n",
    "            node = nodes.pop()\n",
    "            if not node.right: nodes.append(node.right)\n",
    "            nodes.append(node)\n",
    "            if not node.left: nodes.append(node.left)\n",
    "        \n",
    "        for i in range(len(nodes)-1):\n",
    "            nodes[i].left = None\n",
    "            nodes[i].right  = nodes[i+1]\n",
    "        nodes[-1].left = None\n",
    "        nodes[-1].right = None\n",
    "        return nodes[0]\n",
    "    # 这个方法不对！！！！应该是出栈入栈这个位置有问题！！！"
   ]
  },
  {
   "cell_type": "code",
   "execution_count": 3,
   "metadata": {},
   "outputs": [],
   "source": [
    "# Definition for a binary tree node.\n",
    "# class TreeNode:\n",
    "#     def __init__(self, x):\n",
    "#         self.val = x\n",
    "#         self.left = None\n",
    "#         self.right = None\n",
    "\n",
    "class Solution:\n",
    "    def increasingBST(self, root):\n",
    "        \"\"\"\n",
    "        :type root: TreeNode\n",
    "        :rtype: TreeNode\n",
    "        \"\"\"\n",
    "        \n",
    "        nodes =[]\n",
    "        \n",
    "        def  inorder(root):\n",
    "            if not root:\n",
    "                return []\n",
    "            return inorder(root.left)+[root]+inorder(root.right)\n",
    "        \n",
    "        nodes = inorder(root)\n",
    "        for i in range(len(nodes)-1):\n",
    "            nodes[i].left = None\n",
    "            nodes[i].right = nodes[i+1]\n",
    "        nodes[-1].left = None\n",
    "        nodes[-1].right = None\n",
    "        return nodes[0]"
   ]
  },
  {
   "cell_type": "markdown",
   "metadata": {},
   "source": [
    "二叉树遍历（前序、中序、后序、层次、深度优先、广度优先遍历）\n",
    "\n",
    "https://www.cnblogs.com/llguanli/p/7363657.html"
   ]
  },
  {
   "cell_type": "code",
   "execution_count": null,
   "metadata": {},
   "outputs": [],
   "source": [
    "# 尝试用一个栈来解决，好像想不明白了。。。。。下面这个代码是对的\n",
    "# Definition for a binary tree node.\n",
    "# class TreeNode:\n",
    "#     def __init__(self, x):\n",
    "#         self.val = x\n",
    "#         self.left = None\n",
    "#         self.right = None\n",
    "\n",
    "class Solution:\n",
    "    def increasingBST(self, root):\n",
    "        \"\"\"\n",
    "        :type root: TreeNode\n",
    "        :rtype: TreeNode\n",
    "        \"\"\"\n",
    "\n",
    "        nodes = []\n",
    "        node = root\n",
    "        ans = []\n",
    "        while nodes or node:\n",
    "            while node:\n",
    "                nodes.append(node)\n",
    "                node = node.left\n",
    "            if nodes:\n",
    "                node = nodes.pop()\n",
    "                ans +=[node]\n",
    "                node = node.right\n",
    "       \n",
    "        for i in range(len(ans)-1):\n",
    "            ans[i].left = None\n",
    "            ans[i].right = ans[i+1]\n",
    "        ans[-1].left = None\n",
    "        ans[-1].right = None\n",
    "        return ans[0]\n",
    "        \n",
    "            "
   ]
  }
 ],
 "metadata": {
  "kernelspec": {
   "display_name": "Python 3",
   "language": "python",
   "name": "python3"
  },
  "language_info": {
   "codemirror_mode": {
    "name": "ipython",
    "version": 3
   },
   "file_extension": ".py",
   "mimetype": "text/x-python",
   "name": "python",
   "nbconvert_exporter": "python",
   "pygments_lexer": "ipython3",
   "version": "3.6.5"
  }
 },
 "nbformat": 4,
 "nbformat_minor": 2
}
