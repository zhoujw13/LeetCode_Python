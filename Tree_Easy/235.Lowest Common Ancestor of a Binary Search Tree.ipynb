{
 "cells": [
  {
   "cell_type": "code",
   "execution_count": null,
   "metadata": {},
   "outputs": [],
   "source": [
    "# 235.Lowest Common Ancestor of a Binary Search Tree"
   ]
  },
  {
   "cell_type": "code",
   "execution_count": 1,
   "metadata": {},
   "outputs": [],
   "source": [
    "# Definition for a binary tree node.\n",
    "# class TreeNode:\n",
    "#     def __init__(self, x):\n",
    "#         self.val = x\n",
    "#         self.left = None\n",
    "#         self.right = None\n",
    "\n",
    "class Solution:\n",
    "    def lowestCommonAncestor(self, root, p, q):\n",
    "        \"\"\"\n",
    "        :type root: TreeNode\n",
    "        :type p: TreeNode\n",
    "        :type q: TreeNode\n",
    "        :rtype: TreeNode\n",
    "        \"\"\"\n",
    "        \n",
    "        def findpath(root,p):\n",
    "            if root:\n",
    "                if root.val==p.val:\n",
    "                    return [root]\n",
    "                elif root.val>p.val:\n",
    "                    return findpath(root.left,p)+[root]\n",
    "                else:\n",
    "                    return findpath(root.right,p)+[root]\n",
    "            return []\n",
    "            \n",
    "        path1 = findpath(root,p)\n",
    "        path2 = findpath(root,q)\n",
    "        #print(path1)\n",
    "        #print(path2)\n",
    "        \n",
    "        ans = None\n",
    "        while path1 and path2 and path1[-1]== path2[-1]:\n",
    "            ans = path1[-1]\n",
    "            path1.pop()\n",
    "            path2.pop()\n",
    "        return ans\n",
    "    "
   ]
  },
  {
   "cell_type": "markdown",
   "metadata": {},
   "source": [
    "这道题一直报错是因为一开始我的函数返回值是int而题目要求返回TreeNode\n",
    "\n",
    "上面的思路是把到达p和q的路径完全找出来，但实际上是没有必要的为，只要找到他们之前相同的路径就可以了，所以可以像下面这样写"
   ]
  },
  {
   "cell_type": "code",
   "execution_count": null,
   "metadata": {},
   "outputs": [],
   "source": [
    "# Definition for a binary tree node.\n",
    "# class TreeNode:\n",
    "#     def __init__(self, x):\n",
    "#         self.val = x\n",
    "#         self.left = None\n",
    "#         self.right = None\n",
    "\n",
    "class Solution:\n",
    "    def lowestCommonAncestor(self, root, p, q):\n",
    "        \"\"\"\n",
    "        :type root: TreeNode\n",
    "        :type p: TreeNode\n",
    "        :type q: TreeNode\n",
    "        :rtype: TreeNode\n",
    "        \"\"\"\n",
    "        while root:\n",
    "            if root.val>p.val and root.val>q.val:\n",
    "                root = root.left\n",
    "            elif root.val<p.val and root.val<q.val:\n",
    "                root = root.right\n",
    "            else:\n",
    "                return root\n",
    "        \n",
    "        "
   ]
  }
 ],
 "metadata": {
  "kernelspec": {
   "display_name": "Python 3",
   "language": "python",
   "name": "python3"
  },
  "language_info": {
   "codemirror_mode": {
    "name": "ipython",
    "version": 3
   },
   "file_extension": ".py",
   "mimetype": "text/x-python",
   "name": "python",
   "nbconvert_exporter": "python",
   "pygments_lexer": "ipython3",
   "version": "3.6.5"
  }
 },
 "nbformat": 4,
 "nbformat_minor": 2
}
