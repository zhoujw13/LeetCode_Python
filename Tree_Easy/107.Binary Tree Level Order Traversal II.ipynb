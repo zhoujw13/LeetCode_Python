{
 "cells": [
  {
   "cell_type": "code",
   "execution_count": 1,
   "metadata": {
    "collapsed": true
   },
   "outputs": [],
   "source": [
    "# 107.Binary Tree Level Order Traversal II"
   ]
  },
  {
   "cell_type": "code",
   "execution_count": 2,
   "metadata": {
    "collapsed": true
   },
   "outputs": [],
   "source": [
    "# Definition for a binary tree node.\n",
    "# class TreeNode:\n",
    "#     def __init__(self, x):\n",
    "#         self.val = x\n",
    "#         self.left = None\n",
    "#         self.right = None\n",
    "\n",
    "class Solution:\n",
    "    def levelOrderBottom(self, root):\n",
    "        \"\"\"\n",
    "        :type root: TreeNode\n",
    "        :rtype: List[List[int]]\n",
    "        \"\"\"\n",
    "        ans = []\n",
    "        L  = [root]\n",
    "        while root and L:\n",
    "            ans.insert(0,[n.val for n in L])\n",
    "            L = [node for X in L for node in(X.left,X.right) if node]\n",
    "        return ans"
   ]
  },
  {
   "cell_type": "code",
   "execution_count": 3,
   "metadata": {
    "collapsed": true
   },
   "outputs": [],
   "source": [
    "# answer from web\n",
    "# dfs + stack\n",
    "def levelOrderBottom2(self, root):\n",
    "    stack = [(root, 0)]\n",
    "    res = []\n",
    "    while stack:\n",
    "        node, level = stack.pop()\n",
    "        if node:\n",
    "            if len(res) < level+1:\n",
    "                res.insert(0, [])\n",
    "            res[-(level+1)].append(node.val)\n",
    "            stack.append((node.right, level+1))\n",
    "            stack.append((node.left, level+1))\n",
    "    return res"
   ]
  },
  {
   "cell_type": "code",
   "execution_count": 4,
   "metadata": {
    "collapsed": true
   },
   "outputs": [],
   "source": [
    "# Definition for a binary tree node.\n",
    "# class TreeNode:\n",
    "#     def __init__(self, x):\n",
    "#         self.val = x\n",
    "#         self.left = None\n",
    "#         self.right = None\n",
    "\n",
    "class Solution:\n",
    "    def levelOrderBottom(self, root):\n",
    "        \"\"\"\n",
    "        :type root: TreeNode\n",
    "        :rtype: List[List[int]]\n",
    "        \"\"\"\n",
    "        \n",
    "        stack = [(root,0)]\n",
    "        ans = []\n",
    "        \n",
    "        while stack:\n",
    "            node,level = stack.pop()\n",
    "            if node:\n",
    "                stack.append((node.right,level+1))\n",
    "                stack.append((node.left, level+1))\n",
    "                if level+1>len(ans):\n",
    "                    ans.insert(0,[])\n",
    "                ans[-(level+1)].append(node.val)\n",
    "        return ans"
   ]
  },
  {
   "cell_type": "code",
   "execution_count": null,
   "metadata": {
    "collapsed": true
   },
   "outputs": [],
   "source": [
    "# try to do it in queue by myself\n",
    "# Definition for a binary tree node.\n",
    "# class TreeNode:\n",
    "#     def __init__(self, x):\n",
    "#         self.val = x\n",
    "#         self.left = None\n",
    "#         self.right = None\n",
    "\n",
    "class Solution:\n",
    "    def levelOrderBottom(self, root):\n",
    "        \"\"\"\n",
    "        :type root: TreeNode\n",
    "        :rtype: List[List[int]]\n",
    "        \"\"\"\n",
    "        \n",
    "        queue = collections.deque([(root,0)])\n",
    "        ans = []\n",
    "        \n",
    "        while queue:\n",
    "            node,level = queue.popleft()\n",
    "            if node:\n",
    "                queue.append((node.left,level+1))\n",
    "                queue.append((node.right, level+1))\n",
    "                if level+1>len(ans):\n",
    "                    ans.insert(0,[])\n",
    "                ans[-(level+1)].append(node.val)\n",
    "        return ans"
   ]
  }
 ],
 "metadata": {
  "anaconda-cloud": {},
  "kernelspec": {
   "display_name": "Python [conda root]",
   "language": "python",
   "name": "conda-root-py"
  },
  "language_info": {
   "codemirror_mode": {
    "name": "ipython",
    "version": 3
   },
   "file_extension": ".py",
   "mimetype": "text/x-python",
   "name": "python",
   "nbconvert_exporter": "python",
   "pygments_lexer": "ipython3",
   "version": "3.5.2"
  }
 },
 "nbformat": 4,
 "nbformat_minor": 2
}
