{
 "cells": [
  {
   "cell_type": "code",
   "execution_count": 1,
   "metadata": {},
   "outputs": [],
   "source": [
    "# 671.Second Minimum Node In a Binary Tree"
   ]
  },
  {
   "cell_type": "markdown",
   "metadata": {},
   "source": [
    "关于二叉搜索树的一些知识补充：\n",
    "\n",
    "数据结构-二叉搜索树(BST binary search tree)\n",
    "\n",
    "本文由@呆代待殆原创，转载请注明出处：\n",
    "\n",
    "http://www.cnblogs.com/coffeeSS/\n",
    "     \n",
    "    "
   ]
  },
  {
   "cell_type": "code",
   "execution_count": 2,
   "metadata": {},
   "outputs": [],
   "source": [
    "# Definition for a binary tree node.\n",
    "# class TreeNode:\n",
    "#     def __init__(self, x):\n",
    "#         self.val = x\n",
    "#         self.left = None\n",
    "#         self.right = None\n",
    "\n",
    "class Solution:\n",
    "    def findSecondMinimumValue(self, root):\n",
    "        \"\"\"\n",
    "        :type root: TreeNode\n",
    "        :rtype: int\n",
    "        \"\"\"\n",
    "        if not root:\n",
    "            return -1\n",
    "        \n",
    "        con1 = -1\n",
    "        con2 = -1\n",
    "\n",
    "        if root.left and root.left.val != root.val:\n",
    "            con1 = root.left.val\n",
    "            con2 = self.findSecondMinimumValue(root.right)\n",
    "            return min(con1,con2)\n",
    "        if root.right and root.right.val !=root.val:\n",
    "            con1 = root.right.val\n",
    "            con2= self.findSecondMinimumValue(root.left)\n",
    "            return min(con1,con2)\n",
    "        if root.right:\n",
    "            con1 = self.findSecondMinimumValue(root.left)\n",
    "            con2 = self.findSecondMinimumValue(root.right)\n",
    "            return min(con1,con2)\n",
    "        \n",
    "    # 哎不知道后面怎么写了。。。。。\n",
    "            "
   ]
  },
  {
   "cell_type": "markdown",
   "metadata": {},
   "source": [
    "感觉每次这种递归的方法我都写不出来。。。。算了，还是老老实实用个队列或者栈来做吧。。。"
   ]
  },
  {
   "cell_type": "code",
   "execution_count": null,
   "metadata": {},
   "outputs": [],
   "source": [
    "# Definition for a binary tree node.\n",
    "# class TreeNode:\n",
    "#     def __init__(self, x):\n",
    "#         self.val = x\n",
    "#         self.left = None\n",
    "#         self.right = None\n",
    "\n",
    "class Solution:\n",
    "    def findSecondMinimumValue(self, root):\n",
    "        \"\"\"\n",
    "        :type root: TreeNode\n",
    "        :rtype: int\n",
    "        \"\"\"\n",
    "        if not root:\n",
    "            return -1\n",
    "        \n",
    "        nodes =[root]\n",
    "        ans = float('inf')\n",
    "        while nodes:\n",
    "            node = nodes.pop()\n",
    "            if node:\n",
    "                if node.val> root.val and node.val<ans:\n",
    "                    ans = node.val\n",
    "                if node.left: \n",
    "                    nodes.insert(0,node.left)\n",
    "                    nodes.insert(0,node.right)\n",
    "                    \n",
    "        if ans ==float('inf'):\n",
    "            return -1\n",
    "        return ans"
   ]
  },
  {
   "cell_type": "markdown",
   "metadata": {},
   "source": [
    "Based on the special property of the tree, we can guarantee that the root node is the smallest node in the tree. We just have to recursively traverse the tree and find a node that is bigger than the root node but smaller than any existing node we have come across.\n",
    "\n",
    "- Yangshun"
   ]
  },
  {
   "cell_type": "code",
   "execution_count": null,
   "metadata": {},
   "outputs": [],
   "source": [
    "# 这个我自己编的，感觉也是乱乱的。。。。。。\n",
    "# Definition for a binary tree node.\n",
    "# class TreeNode:\n",
    "#     def __init__(self, x):\n",
    "#         self.val = x\n",
    "#         self.left = None\n",
    "#         self.right = None\n",
    "\n",
    "class Solution:\n",
    "    def findSecondMinimumValue(self, root):\n",
    "        \"\"\"\n",
    "        :type root: TreeNode\n",
    "        :rtype: int\n",
    "        \"\"\"\n",
    "        \n",
    "        res = float('inf')\n",
    "        def findbigger(node,res):\n",
    "            if not node:\n",
    "                return res\n",
    "            if root.val < node.val < res:\n",
    "                res = min(node.val,res)\n",
    "            res = min(res,findbigger(node.left,res))\n",
    "            res = min(res,findbigger(node.right,res))\n",
    "            return res\n",
    "        \n",
    "        res = findbigger(root,res)\n",
    "        if res == float('inf'):\n",
    "            return -1\n",
    "        return res\n",
    "            "
   ]
  }
 ],
 "metadata": {
  "kernelspec": {
   "display_name": "Python 3",
   "language": "python",
   "name": "python3"
  },
  "language_info": {
   "codemirror_mode": {
    "name": "ipython",
    "version": 3
   },
   "file_extension": ".py",
   "mimetype": "text/x-python",
   "name": "python",
   "nbconvert_exporter": "python",
   "pygments_lexer": "ipython3",
   "version": "3.6.5"
  }
 },
 "nbformat": 4,
 "nbformat_minor": 2
}
