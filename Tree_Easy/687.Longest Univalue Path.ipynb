{
 "cells": [
  {
   "cell_type": "code",
   "execution_count": 1,
   "metadata": {},
   "outputs": [],
   "source": [
    "# 687.Longest Univalue Path"
   ]
  },
  {
   "cell_type": "code",
   "execution_count": null,
   "metadata": {},
   "outputs": [],
   "source": [
    "#  这个题我是有点没绕明白！！！以后还要重新看重新做一下！！！\n",
    "# Definition for a binary tree node.\n",
    "# class TreeNode:\n",
    "#     def __init__(self, x):\n",
    "#         self.val = x\n",
    "#         self.left = None\n",
    "#         self.right = None\n",
    "\n",
    "class Solution:\n",
    "    def longestUnivaluePath(self, root):\n",
    "        \"\"\"\n",
    "        :type root: TreeNode\n",
    "        :rtype: int\n",
    "        \"\"\"\n",
    "        longest = [0]\n",
    "        \n",
    "        def findlongest(node):\n",
    "            if not node:\n",
    "                return 0\n",
    "\n",
    "            left = findlongest(node.left)\n",
    "            right = findlongest(node.right)\n",
    "            if node.left and node.left.val == node.val:\n",
    "                 left +=1\n",
    "            else:\n",
    "                left = 0\n",
    "            if node.right and node.right.val == node.val:\n",
    "                right +=1\n",
    "            else:\n",
    "                right = 0\n",
    "            \n",
    "            longest[0] = max(longest[0],left+right)  \n",
    "            return max(left,right)\n",
    "        \n",
    "        if not root:\n",
    "            return 0\n",
    "        findlongest(root)\n",
    "        return longest[0]\n",
    "        "
   ]
  }
 ],
 "metadata": {
  "kernelspec": {
   "display_name": "Python 3",
   "language": "python",
   "name": "python3"
  },
  "language_info": {
   "codemirror_mode": {
    "name": "ipython",
    "version": 3
   },
   "file_extension": ".py",
   "mimetype": "text/x-python",
   "name": "python",
   "nbconvert_exporter": "python",
   "pygments_lexer": "ipython3",
   "version": "3.6.5"
  }
 },
 "nbformat": 4,
 "nbformat_minor": 2
}
