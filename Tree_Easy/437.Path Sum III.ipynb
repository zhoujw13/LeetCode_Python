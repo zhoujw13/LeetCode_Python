{
 "cells": [
  {
   "cell_type": "code",
   "execution_count": null,
   "metadata": {},
   "outputs": [],
   "source": [
    "# 437.Path Sum III"
   ]
  },
  {
   "cell_type": "code",
   "execution_count": 1,
   "metadata": {},
   "outputs": [],
   "source": [
    "# Definition for a binary tree node.\n",
    "# class TreeNode(object):\n",
    "#     def __init__(self, x):\n",
    "#         self.val = x\n",
    "#         self.left = None\n",
    "#         self.right = None\n",
    "\n",
    "class Solution(object):\n",
    "    def pathSum(self, root, sum):\n",
    "        \"\"\"\n",
    "        :type root: TreeNode\n",
    "        :type sum: int\n",
    "        :rtype: int\n",
    "        \"\"\"\n",
    "        \n",
    "        def findpath(root,sum):\n",
    "            if root:\n",
    "                if root.val ==sum:\n",
    "                    return 1\n",
    "                else:\n",
    "                    sum = sum-root.val\n",
    "                    return findpath(root.left,sum)+findpath(root.right,sum)\n",
    "            return 0\n",
    "        \n",
    "        if root ==None:\n",
    "            return 0\n",
    "        return findpath(root,sum)+self.pathSum(root.left,sum)+self.pathSum(root.right,sum)"
   ]
  },
  {
   "cell_type": "markdown",
   "metadata": {},
   "source": [
    "上面的方法不对！\n",
    "\n",
    "主要是可以不从根部开始，也可以不到最后的叶子！\n",
    "\n",
    "下面这个对啦！"
   ]
  },
  {
   "cell_type": "code",
   "execution_count": null,
   "metadata": {},
   "outputs": [],
   "source": [
    "# Definition for a binary tree node.\n",
    "# class TreeNode(object):\n",
    "#     def __init__(self, x):\n",
    "#         self.val = x\n",
    "#         self.left = None\n",
    "#         self.right = None\n",
    "\n",
    "class Solution(object):\n",
    "    def pathSum(self, root, sum):\n",
    "        \"\"\"\n",
    "        :type root: TreeNode\n",
    "        :type sum: int\n",
    "        :rtype: int\n",
    "        \"\"\"\n",
    "        \n",
    "        def findpath(root,sum):\n",
    "            if root:\n",
    "                if root.val ==sum:\n",
    "                    return 1+findpath(root.left,0)+findpath(root.right,0)\n",
    "                else:\n",
    "                    sum = sum-root.val\n",
    "                    return findpath(root.left,sum)+findpath(root.right,sum)\n",
    "            return 0\n",
    "        \n",
    "        if root ==None:\n",
    "            return 0\n",
    "        return findpath(root,sum)+self.pathSum(root.left,sum)+self.pathSum(root.right,sum)"
   ]
  }
 ],
 "metadata": {
  "kernelspec": {
   "display_name": "Python 3",
   "language": "python",
   "name": "python3"
  },
  "language_info": {
   "codemirror_mode": {
    "name": "ipython",
    "version": 3
   },
   "file_extension": ".py",
   "mimetype": "text/x-python",
   "name": "python",
   "nbconvert_exporter": "python",
   "pygments_lexer": "ipython3",
   "version": "3.6.5"
  }
 },
 "nbformat": 4,
 "nbformat_minor": 2
}
