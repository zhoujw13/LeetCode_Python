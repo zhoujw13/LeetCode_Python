{
 "cells": [
  {
   "cell_type": "code",
   "execution_count": null,
   "metadata": {},
   "outputs": [],
   "source": [
    "# 501.Find Mode in Binary Search Tree"
   ]
  },
  {
   "cell_type": "markdown",
   "metadata": {},
   "source": [
    "下面这种方法是把所有的数字个数都统计了一遍，而且特别慢还特别占容量"
   ]
  },
  {
   "cell_type": "code",
   "execution_count": 7,
   "metadata": {},
   "outputs": [],
   "source": [
    "# Definition for a binary tree node.\n",
    "# class TreeNode(object):\n",
    "#     def __init__(self, x):\n",
    "#         self.val = x\n",
    "#         self.left = None\n",
    "#         self.right = None\n",
    "\n",
    "class Solution(object):\n",
    "    def findMode(self, root):\n",
    "        \"\"\"\n",
    "        :type root: TreeNode\n",
    "        :rtype: List[int]\n",
    "        \"\"\"\n",
    "        def countnum(root):\n",
    "            count = dict()\n",
    "            if root:\n",
    "                count[root.val]=count.get(root.val,0)+1\n",
    "                a = countnum(root.left)\n",
    "                b = countnum(root.right)\n",
    "                for i in a:\n",
    "                    count[i] = count.get(i,0)+ a[i]\n",
    "                for i in b:\n",
    "                    count[i] = count.get(i,0)+ b[i]\n",
    "            return count\n",
    "        \n",
    "        d = countnum(root)\n",
    "        ans = []\n",
    "        if d:\n",
    "            modenum = max(d.values())\n",
    "            for i in d:\n",
    "                if d[i]==modenum:\n",
    "                    ans.append(i)\n",
    "        return ans"
   ]
  },
  {
   "cell_type": "code",
   "execution_count": 3,
   "metadata": {},
   "outputs": [],
   "source": [
    "dic = {1:2,3:4}"
   ]
  },
  {
   "cell_type": "code",
   "execution_count": 6,
   "metadata": {},
   "outputs": [
    {
     "name": "stdout",
     "output_type": "stream",
     "text": [
      "1\n",
      "3\n"
     ]
    }
   ],
   "source": [
    "for i in dic:\n",
    "    print(i)"
   ]
  },
  {
   "cell_type": "code",
   "execution_count": 8,
   "metadata": {},
   "outputs": [],
   "source": [
    "# Definition for a binary tree node.\n",
    "# class TreeNode(object):\n",
    "#     def __init__(self, x):\n",
    "#         self.val = x\n",
    "#         self.left = None\n",
    "#         self.right = None\n",
    "\n",
    "class Solution(object):\n",
    "    def findMode(self, root):\n",
    "        \"\"\"\n",
    "        :type root: TreeNode\n",
    "        :rtype: List[int]\n",
    "        \"\"\"\n",
    "        \n",
    "        count = collections.Counter()\n",
    "\n",
    "        def dfs(node):\n",
    "            if node:\n",
    "                count[node.val] += 1\n",
    "                dfs(node.left)\n",
    "                dfs(node.right)\n",
    "        \n",
    "        dfs(root)\n",
    "        if count:\n",
    "            max_ct = max(count.itervalues())\n",
    "        return [k for k, v in count.iteritems() if v == max_ct]\n"
   ]
  },
  {
   "cell_type": "code",
   "execution_count": null,
   "metadata": {},
   "outputs": [],
   "source": [
    "# Definition for a binary tree node.\n",
    "# class TreeNode(object):\n",
    "#     def __init__(self, x):\n",
    "#         self.val = x\n",
    "#         self.left = None\n",
    "#         self.right = None\n",
    "\n",
    "class Solution(object):\n",
    "    def findMode(self, root):\n",
    "        \"\"\"\n",
    "        :type root: TreeNode\n",
    "        :rtype: List[int]\n",
    "        \"\"\"\n",
    "        \n",
    "        count = {}\n",
    "\n",
    "        def dfs(node):\n",
    "            if node:\n",
    "                count[node.val] = count.get(node.val,0)+1\n",
    "                dfs(node.left)\n",
    "                dfs(node.right)\n",
    "        \n",
    "        dfs(root)\n",
    "        if count:\n",
    "            max_ct = max(count.itervalues())\n",
    "        return [k for k, v in count.iteritems() if v == max_ct]\n",
    "\n"
   ]
  }
 ],
 "metadata": {
  "kernelspec": {
   "display_name": "Python 3",
   "language": "python",
   "name": "python3"
  },
  "language_info": {
   "codemirror_mode": {
    "name": "ipython",
    "version": 3
   },
   "file_extension": ".py",
   "mimetype": "text/x-python",
   "name": "python",
   "nbconvert_exporter": "python",
   "pygments_lexer": "ipython3",
   "version": "3.6.5"
  }
 },
 "nbformat": 4,
 "nbformat_minor": 2
}
