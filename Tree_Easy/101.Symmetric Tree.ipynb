{
 "cells": [
  {
   "cell_type": "code",
   "execution_count": null,
   "metadata": {
    "collapsed": true
   },
   "outputs": [],
   "source": [
    "# 101.Symmetric Tree"
   ]
  },
  {
   "cell_type": "code",
   "execution_count": 1,
   "metadata": {
    "collapsed": true
   },
   "outputs": [],
   "source": [
    "# Definition for a binary tree node.\n",
    "# class TreeNode:\n",
    "#     def __init__(self, x):\n",
    "#         self.val = x\n",
    "#         self.left = None\n",
    "#         self.right = None\n",
    "\n",
    "class Solution:\n",
    "    def isSymmetric(self, root):\n",
    "        \"\"\"\n",
    "        :type root: TreeNode\n",
    "        :rtype: bool\n",
    "        \"\"\"\n",
    "        \n",
    "        def isMirror(l,r):\n",
    "            if l== None and r==None:\n",
    "                return True\n",
    "            elif l!=None and r==None:\n",
    "                return False\n",
    "            elif l==None and r!=None:\n",
    "                return False\n",
    "            else:\n",
    "                if l.val ==r.val and isMirror(l.left,r.right) and isMirror(l.right,r.left):\n",
    "                    return True\n",
    "                return False\n",
    "            \n",
    "        if root==None:\n",
    "            return True\n",
    "        return isMirror(root.left,root.right)"
   ]
  },
  {
   "cell_type": "code",
   "execution_count": null,
   "metadata": {
    "collapsed": true
   },
   "outputs": [],
   "source": [
    "#The essence of recursively is Stack, so we can use our own stack to rewrite it into iteratively:\n",
    "class Solution2:\n",
    "    def isSymmetric(self, root):\n",
    "        if root is None:\n",
    "            return True\n",
    "\n",
    "        stack = [[root.left, root.right]]\n",
    "\n",
    "        while len(stack) > 0:\n",
    "            pair = stack.pop(0)\n",
    "            left = pair[0]\n",
    "            right = pair[1]\n",
    "\n",
    "            if left is None and right is None:\n",
    "                continue\n",
    "            if left is None or right is None:\n",
    "                return False\n",
    "            if left.val == right.val:\n",
    "                stack.insert(0, [left.left, right.right])\n",
    "\n",
    "                stack.insert(0, [left.right, right.left])\n",
    "            else:\n",
    "                return False\n",
    "            return True"
   ]
  }
 ],
 "metadata": {
  "anaconda-cloud": {},
  "kernelspec": {
   "display_name": "Python [conda root]",
   "language": "python",
   "name": "conda-root-py"
  },
  "language_info": {
   "codemirror_mode": {
    "name": "ipython",
    "version": 3
   },
   "file_extension": ".py",
   "mimetype": "text/x-python",
   "name": "python",
   "nbconvert_exporter": "python",
   "pygments_lexer": "ipython3",
   "version": "3.5.2"
  }
 },
 "nbformat": 4,
 "nbformat_minor": 2
}
