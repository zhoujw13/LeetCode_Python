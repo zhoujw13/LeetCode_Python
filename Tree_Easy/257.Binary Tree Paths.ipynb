{
 "cells": [
  {
   "cell_type": "code",
   "execution_count": null,
   "metadata": {},
   "outputs": [],
   "source": [
    "# 257.Binary Tree Paths"
   ]
  },
  {
   "cell_type": "code",
   "execution_count": 1,
   "metadata": {},
   "outputs": [],
   "source": [
    "# Definition for a binary tree node.\n",
    "# class TreeNode:\n",
    "#     def __init__(self, x):\n",
    "#         self.val = x\n",
    "#         self.left = None\n",
    "#         self.right = None\n",
    "\n",
    "class Solution:\n",
    "    def binaryTreePaths(self, root):\n",
    "        \"\"\"\n",
    "        :type root: TreeNode\n",
    "        :rtype: List[str]\n",
    "        \"\"\"\n",
    "        if not root:\n",
    "            return []\n",
    "        elif root.left ==None and root.right ==None:\n",
    "            return [str(root.val)]\n",
    "        elif root.left ==None:\n",
    "            return [str(root.val)+'->'+i for i in self.binaryTreePaths(root.right)]\n",
    "        elif root.right ==None:\n",
    "            return [str(root.val)+'->'+i for i in self.binaryTreePaths(root.left)]\n",
    "        else:\n",
    "            s =[ str(root.val)+'->'+i for i in self.binaryTreePaths(root.left)]\n",
    "            t = [str(root.val)+'->'+i for i in self.binaryTreePaths(root.right)]\n",
    "            return s+t"
   ]
  },
  {
   "cell_type": "markdown",
   "metadata": {},
   "source": [
    "这个一定要多分几种情况讨论，不然结果就出不来或者是错的"
   ]
  },
  {
   "cell_type": "code",
   "execution_count": null,
   "metadata": {},
   "outputs": [],
   "source": []
  }
 ],
 "metadata": {
  "kernelspec": {
   "display_name": "Python 3",
   "language": "python",
   "name": "python3"
  },
  "language_info": {
   "codemirror_mode": {
    "name": "ipython",
    "version": 3
   },
   "file_extension": ".py",
   "mimetype": "text/x-python",
   "name": "python",
   "nbconvert_exporter": "python",
   "pygments_lexer": "ipython3",
   "version": "3.6.5"
  }
 },
 "nbformat": 4,
 "nbformat_minor": 2
}
