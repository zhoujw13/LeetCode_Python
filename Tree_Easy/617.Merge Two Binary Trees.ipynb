{
 "cells": [
  {
   "cell_type": "code",
   "execution_count": null,
   "metadata": {},
   "outputs": [],
   "source": [
    "# 617.Merge Two Binary Trees"
   ]
  },
  {
   "cell_type": "code",
   "execution_count": 2,
   "metadata": {},
   "outputs": [],
   "source": [
    "# Definition for a binary tree node.\n",
    "# class TreeNode(object):\n",
    "#     def __init__(self, x):\n",
    "#         self.val = x\n",
    "#         self.left = None\n",
    "#         self.right = None\n",
    "\n",
    "class Solution(object):\n",
    "    def mergeTrees(self, t1, t2):\n",
    "        \"\"\"\n",
    "        :type t1: TreeNode\n",
    "        :type t2: TreeNode\n",
    "        :rtype: TreeNode\n",
    "        \"\"\"\n",
    "        \n",
    "        if t1==None and t2==None:\n",
    "            return\n",
    "        if t1==None and t2!=None:\n",
    "            t = TreeNode(t2.val)\n",
    "            t.left = self.mergeTrees(None,t2.left)\n",
    "            t.right =self. mergeTrees(None,t2.right)\n",
    "            return t\n",
    "        if t1!=None and t2==None:\n",
    "            t = TreeNode(t1.val)\n",
    "            t.left = self.mergeTrees(t1.left,None)\n",
    "            t.right =self. mergeTrees(t1.right,None)\n",
    "            return t\n",
    "        t = TreeNode(t1.val+t2.val)\n",
    "        t.left =self.mergeTrees(t1.left,t2.left)\n",
    "        t.right = self.mergeTrees(t1.right,t2.right)\n",
    "        return t"
   ]
  },
  {
   "cell_type": "code",
   "execution_count": null,
   "metadata": {},
   "outputs": [],
   "source": []
  }
 ],
 "metadata": {
  "kernelspec": {
   "display_name": "Python 3",
   "language": "python",
   "name": "python3"
  },
  "language_info": {
   "codemirror_mode": {
    "name": "ipython",
    "version": 3
   },
   "file_extension": ".py",
   "mimetype": "text/x-python",
   "name": "python",
   "nbconvert_exporter": "python",
   "pygments_lexer": "ipython3",
   "version": "3.6.5"
  }
 },
 "nbformat": 4,
 "nbformat_minor": 2
}
