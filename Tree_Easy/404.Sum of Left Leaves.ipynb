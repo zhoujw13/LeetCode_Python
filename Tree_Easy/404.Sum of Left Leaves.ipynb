{
 "cells": [
  {
   "cell_type": "code",
   "execution_count": null,
   "metadata": {},
   "outputs": [],
   "source": [
    "# 404.Sum of Left Leaves"
   ]
  },
  {
   "cell_type": "code",
   "execution_count": 1,
   "metadata": {},
   "outputs": [],
   "source": [
    "# Definition for a binary tree node.\n",
    "# class TreeNode:\n",
    "#     def __init__(self, x):\n",
    "#         self.val = x\n",
    "#         self.left = None\n",
    "#         self.right = None\n",
    "\n",
    "class Solution:\n",
    "    def sumOfLeftLeaves(self, root):\n",
    "        \"\"\"\n",
    "        :type root: TreeNode\n",
    "        :rtype: int\n",
    "        \"\"\"\n",
    "        \n",
    "        def findLeftLeaves(root):\n",
    "            if not root:\n",
    "                return []\n",
    "            elif root.left ==None and root.right ==None:\n",
    "                return [root.val]\n",
    "            elif root.right ==None:\n",
    "                return findLeftLeaves(root.left)\n",
    "            elif root.left ==None:\n",
    "                return findLeftLeaves(root.right)\n",
    "            else:\n",
    "                return findLeftLeaves(root.left)+findLeftLeaves(root.right)\n",
    "        \n",
    "        res = findLeftLeaves(root)\n",
    "        print(res)\n",
    "        #上面这个代码是把所有的Leaves叶子给找到了，左叶子leftleaves应该怎么找呢？如下！"
   ]
  },
  {
   "cell_type": "code",
   "execution_count": null,
   "metadata": {},
   "outputs": [],
   "source": [
    "# Definition for a binary tree node.\n",
    "# class TreeNode:\n",
    "#     def __init__(self, x):\n",
    "#         self.val = x\n",
    "#         self.left = None\n",
    "#         self.right = None\n",
    "\n",
    "class Solution:\n",
    "    def sumOfLeftLeaves(self, root):\n",
    "        \"\"\"\n",
    "        :type root: TreeNode\n",
    "        :rtype: int\n",
    "        \"\"\"\n",
    "        if not root:\n",
    "            return 0\n",
    "        \n",
    "        elif root.left!=None and root.left.left==None and root.left.right==None:\n",
    "            return root.left.val + self.sumOfLeftLeaves(root.right)\n",
    "        else:\n",
    "            return self.sumOfLeftLeaves(root.left)+self.sumOfLeftLeaves(root.right)"
   ]
  }
 ],
 "metadata": {
  "kernelspec": {
   "display_name": "Python 3",
   "language": "python",
   "name": "python3"
  },
  "language_info": {
   "codemirror_mode": {
    "name": "ipython",
    "version": 3
   },
   "file_extension": ".py",
   "mimetype": "text/x-python",
   "name": "python",
   "nbconvert_exporter": "python",
   "pygments_lexer": "ipython3",
   "version": "3.6.5"
  }
 },
 "nbformat": 4,
 "nbformat_minor": 2
}
