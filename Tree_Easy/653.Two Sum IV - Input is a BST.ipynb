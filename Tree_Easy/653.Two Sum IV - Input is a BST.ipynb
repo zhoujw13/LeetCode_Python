{
 "cells": [
  {
   "cell_type": "code",
   "execution_count": 12,
   "metadata": {},
   "outputs": [],
   "source": [
    "# 653.Two Sum IV - Input is a BST"
   ]
  },
  {
   "cell_type": "code",
   "execution_count": 1,
   "metadata": {},
   "outputs": [],
   "source": [
    "class Solution:\n",
    "    def findTarget(self, root, k):\n",
    "        \"\"\"\n",
    "        :type root: TreeNode\n",
    "        :type k: int\n",
    "        :rtype: bool\n",
    "        \"\"\"\n",
    "        \n",
    "        def findSame(root,res):\n",
    "            if not root:\n",
    "                return False\n",
    "            if root.val ==res:\n",
    "                return True\n",
    "            elif root.val <res:\n",
    "                return findSame(root.right,res)     \n",
    "            return findSame(root.left,res)\n",
    "        \n",
    "        if not root:\n",
    "            return False\n",
    "        return findSame(root.left,k-root.val) or findSame(root.right,k-root.val) or self.findTarget(root.left,k) or self.findTarget(root.right,k)"
   ]
  },
  {
   "cell_type": "markdown",
   "metadata": {},
   "source": [
    "上面这个方法是错误的啊！！！哎呀呀！！！"
   ]
  },
  {
   "cell_type": "code",
   "execution_count": 9,
   "metadata": {},
   "outputs": [],
   "source": [
    "class Solution:\n",
    "    def findTarget(self, root, k):\n",
    "        \"\"\"\n",
    "        :type root: TreeNode\n",
    "        :type k: int\n",
    "        :rtype: bool\n",
    "        \"\"\"\n",
    "        \n",
    "        values = set()\n",
    "        nodes = [root]\n",
    "        for node in nodes:\n",
    "            if not node:\n",
    "                return False\n",
    "            if k - node.val in values:\n",
    "                return True\n",
    "            values.add(node.val)\n",
    "            if node.left:nodes.append(node.left) \n",
    "            if node.right: nodes.append(node.right)  \n",
    "        return False\n",
    "        "
   ]
  },
  {
   "cell_type": "markdown",
   "metadata": {},
   "source": [
    "看来要用队列之类的存储一下以遍历这颗树，然后还要用一个set()来记录一下已经遍历过得数字，然后每一个新节点去set里面查找一下看看有没有满足条件的值\n",
    "\n",
    "节点用完之后就要删除，但是上面这边方法很明显重复了很多次，不好。\n",
    "\n",
    "自己写下面的。"
   ]
  },
  {
   "cell_type": "code",
   "execution_count": 11,
   "metadata": {},
   "outputs": [],
   "source": [
    "class Solution:\n",
    "    def findTarget(self, root, k):\n",
    "        \"\"\"\n",
    "        :type root: TreeNode\n",
    "        :type k: int\n",
    "        :rtype: bool\n",
    "        \"\"\"\n",
    "        \n",
    "        values = set()\n",
    "        nodes = [root]\n",
    "        while nodes:\n",
    "            node = nodes.pop()\n",
    "            if not node:\n",
    "                return False\n",
    "            if k- node.val in values:\n",
    "                return True\n",
    "            values.add(node.val)\n",
    "            if node.left: nodes.insert(0,node.left)\n",
    "            if node.right:nodes.insert(0,node.right)\n",
    "        return False"
   ]
  },
  {
   "cell_type": "code",
   "execution_count": null,
   "metadata": {},
   "outputs": [],
   "source": []
  }
 ],
 "metadata": {
  "kernelspec": {
   "display_name": "Python 3",
   "language": "python",
   "name": "python3"
  },
  "language_info": {
   "codemirror_mode": {
    "name": "ipython",
    "version": 3
   },
   "file_extension": ".py",
   "mimetype": "text/x-python",
   "name": "python",
   "nbconvert_exporter": "python",
   "pygments_lexer": "ipython3",
   "version": "3.6.5"
  }
 },
 "nbformat": 4,
 "nbformat_minor": 2
}
