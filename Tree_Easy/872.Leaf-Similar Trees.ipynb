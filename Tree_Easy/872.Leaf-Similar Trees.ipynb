{
 "cells": [
  {
   "cell_type": "code",
   "execution_count": null,
   "metadata": {},
   "outputs": [],
   "source": [
    "# 872.Leaf-Similar Trees"
   ]
  },
  {
   "cell_type": "code",
   "execution_count": 2,
   "metadata": {},
   "outputs": [],
   "source": [
    "# Definition for a binary tree node.\n",
    "# class TreeNode:\n",
    "#     def __init__(self, x):\n",
    "#         self.val = x\n",
    "#         self.left = None\n",
    "#         self.right = None\n",
    "\n",
    "class Solution:\n",
    "    def leafSimilar(self, root1, root2):\n",
    "        \"\"\"\n",
    "        :type root1: TreeNode\n",
    "        :type root2: TreeNode\n",
    "        :rtype: bool\n",
    "        \"\"\"\n",
    "        def listleaf(root):\n",
    "            if not root:\n",
    "                return []\n",
    "            if root.left==None and root.right==None:\n",
    "                return [root.val]\n",
    "            return listleaf(root.left)+listleaf(root.right)\n",
    "        \n",
    "        leaves1 = listleaf(root1)\n",
    "        leaves2 = listleaf(root2)\n",
    "        import operator\n",
    "        return operator.eq(leaves1,leaves2)\n",
    "       "
   ]
  },
  {
   "cell_type": "code",
   "execution_count": null,
   "metadata": {},
   "outputs": [],
   "source": []
  }
 ],
 "metadata": {
  "kernelspec": {
   "display_name": "Python 3",
   "language": "python",
   "name": "python3"
  },
  "language_info": {
   "codemirror_mode": {
    "name": "ipython",
    "version": 3
   },
   "file_extension": ".py",
   "mimetype": "text/x-python",
   "name": "python",
   "nbconvert_exporter": "python",
   "pygments_lexer": "ipython3",
   "version": "3.6.5"
  }
 },
 "nbformat": 4,
 "nbformat_minor": 2
}
