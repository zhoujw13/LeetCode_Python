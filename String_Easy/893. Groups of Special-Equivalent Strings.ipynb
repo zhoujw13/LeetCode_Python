{
 "cells": [
  {
   "cell_type": "code",
   "execution_count": 2,
   "metadata": {
    "collapsed": true
   },
   "outputs": [],
   "source": [
    "# 893. Groups of Special-Equivalent Strings"
   ]
  },
  {
   "cell_type": "markdown",
   "metadata": {},
   "source": [
    "something about odd and even location\n",
    "\n",
    "sort() return none\n",
    "\n",
    "sorted() return a new list"
   ]
  },
  {
   "cell_type": "code",
   "execution_count": 57,
   "metadata": {
    "collapsed": false
   },
   "outputs": [],
   "source": [
    "class Solution:\n",
    "    def numSpecialEquivGroups(self, A):\n",
    "        \"\"\"\n",
    "        :type A: List[str]\n",
    "        :rtype: int\n",
    "        \"\"\"\n",
    "        from collections import Counter\n",
    "        S = []\n",
    "        for i in range(len(A)):\n",
    "            x = list(A[i][::2])\n",
    "            y = list(A[i][1::2])\n",
    "            S +=[''.join(sorted(x)+sorted(y))]\n",
    "        print(S)\n",
    "        return len(Counter(S))\n",
    "\n",
    "    "
   ]
  },
  {
   "cell_type": "code",
   "execution_count": 58,
   "metadata": {
    "collapsed": false
   },
   "outputs": [
    {
     "name": "stdout",
     "output_type": "stream",
     "text": [
      "['acbd', 'acbd', 'acbd', 'acbd']\n",
      "1\n"
     ]
    }
   ],
   "source": [
    "print(Solution().numSpecialEquivGroups(  [\"abcd\",\"cdab\",\"adcb\",\"cbad\"]))"
   ]
  },
  {
   "cell_type": "code",
   "execution_count": null,
   "metadata": {
    "collapsed": true
   },
   "outputs": [],
   "source": []
  },
  {
   "cell_type": "code",
   "execution_count": null,
   "metadata": {
    "collapsed": true
   },
   "outputs": [],
   "source": []
  }
 ],
 "metadata": {
  "anaconda-cloud": {},
  "kernelspec": {
   "display_name": "Python [conda root]",
   "language": "python",
   "name": "conda-root-py"
  },
  "language_info": {
   "codemirror_mode": {
    "name": "ipython",
    "version": 3
   },
   "file_extension": ".py",
   "mimetype": "text/x-python",
   "name": "python",
   "nbconvert_exporter": "python",
   "pygments_lexer": "ipython3",
   "version": "3.5.2"
  }
 },
 "nbformat": 4,
 "nbformat_minor": 2
}
