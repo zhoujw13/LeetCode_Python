{
 "cells": [
  {
   "cell_type": "code",
   "execution_count": 1,
   "metadata": {},
   "outputs": [],
   "source": [
    "# 14. Longest Common Prefix"
   ]
  },
  {
   "cell_type": "code",
   "execution_count": 10,
   "metadata": {},
   "outputs": [],
   "source": [
    "class Solution:\n",
    "    def longestCommonPrefix(self, strs):\n",
    "        \"\"\"\n",
    "        :type strs: List[str]\n",
    "        :rtype: str\n",
    "        \"\"\"\n",
    "        if strs==[]:\n",
    "            return \"\" # 要考虑空集的情况\n",
    "        \n",
    "        x = strs[0]\n",
    "        res = ''\n",
    "        i=0\n",
    "        while (i<len(x)):#还要考虑超过索引范围的情况\n",
    "            for y in strs:\n",
    "                if i>=len(y) or x[i]!=y[i]:\n",
    "                    return res\n",
    "                \n",
    "            res = res+x[i]\n",
    "            i=i +1\n",
    "        return res\n",
    "        "
   ]
  },
  {
   "cell_type": "code",
   "execution_count": 11,
   "metadata": {},
   "outputs": [
    {
     "name": "stdout",
     "output_type": "stream",
     "text": [
      "\n"
     ]
    }
   ],
   "source": [
    "print(Solution().longestCommonPrefix([\"dog\",\"racecar\",\"car\"]))"
   ]
  },
  {
   "cell_type": "code",
   "execution_count": null,
   "metadata": {},
   "outputs": [],
   "source": [
    "# 网上有一个答案写的很美\n",
    "\n",
    "class Solution:\n",
    "    # @return a string\n",
    "    def longestCommonPrefix(self, strs):\n",
    "        if not strs:\n",
    "            return \"\"\n",
    "            \n",
    "        for i, letter_group in enumerate(zip(*strs)):\n",
    "            if len(set(letter_group)) > 1:\n",
    "                return strs[0][:i]\n",
    "        else:\n",
    "            return min(strs)"
   ]
  }
 ],
 "metadata": {
  "kernelspec": {
   "display_name": "Python 3",
   "language": "python",
   "name": "python3"
  },
  "language_info": {
   "codemirror_mode": {
    "name": "ipython",
    "version": 3
   },
   "file_extension": ".py",
   "mimetype": "text/x-python",
   "name": "python",
   "nbconvert_exporter": "python",
   "pygments_lexer": "ipython3",
   "version": "3.6.5"
  }
 },
 "nbformat": 4,
 "nbformat_minor": 2
}
