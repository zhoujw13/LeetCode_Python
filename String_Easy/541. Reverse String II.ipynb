{
 "cells": [
  {
   "cell_type": "code",
   "execution_count": null,
   "metadata": {},
   "outputs": [],
   "source": [
    "# 541. Reverse String II"
   ]
  },
  {
   "cell_type": "code",
   "execution_count": 23,
   "metadata": {},
   "outputs": [],
   "source": [
    "class Solution:\n",
    "    def reverseStr(self, s, k):\n",
    "        \"\"\"\n",
    "        :type s: str\n",
    "        :type k: int\n",
    "        :rtype: str\n",
    "        \"\"\"\n",
    "        t = []\n",
    "        n=len(s)//(2*k)\n",
    "        m=len(s)%(2*k)\n",
    "        for i in range(n):\n",
    "            t = t + list(s[i*2*k : i*2*k+k])[::-1]+list(s[i*2*k+k : i*2*k+2*k])\n",
    "            #print(t)\n",
    "        if m<k:\n",
    "            t+=list(s[n*2*k:])[::-1]\n",
    "            #print(t)\n",
    "        else:\n",
    "            t+=list(s[n*2*k : n*2*k+k])[::-1]+list(s[n*k*2+k:])\n",
    "            #print(t)\n",
    "        return ''.join(t)"
   ]
  },
  {
   "cell_type": "code",
   "execution_count": 24,
   "metadata": {},
   "outputs": [
    {
     "name": "stdout",
     "output_type": "stream",
     "text": [
      "abcdefg\n"
     ]
    }
   ],
   "source": [
    "print(Solution().reverseStr(s = \"abcdefg\", k = 1))"
   ]
  },
  {
   "cell_type": "code",
   "execution_count": null,
   "metadata": {},
   "outputs": [],
   "source": [
    "\n",
    "\n",
    "def reverseStr(self, s, k):\n",
    "    s = list(s)\n",
    "    for i in xrange(0, len(s), 2*k):\n",
    "        s[i:i+k] = reversed(s[i:i+k])\n",
    "    return \"\".join(s)"
   ]
  }
 ],
 "metadata": {
  "kernelspec": {
   "display_name": "Python 3",
   "language": "python",
   "name": "python3"
  },
  "language_info": {
   "codemirror_mode": {
    "name": "ipython",
    "version": 3
   },
   "file_extension": ".py",
   "mimetype": "text/x-python",
   "name": "python",
   "nbconvert_exporter": "python",
   "pygments_lexer": "ipython3",
   "version": "3.6.5"
  }
 },
 "nbformat": 4,
 "nbformat_minor": 2
}
