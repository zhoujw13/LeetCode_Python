{
 "cells": [
  {
   "cell_type": "code",
   "execution_count": 1,
   "metadata": {
    "collapsed": true
   },
   "outputs": [],
   "source": [
    "# 443. String Compression"
   ]
  },
  {
   "cell_type": "code",
   "execution_count": 43,
   "metadata": {
    "collapsed": false
   },
   "outputs": [],
   "source": [
    "class Solution:\n",
    "    def compress(self, chars):\n",
    "        \"\"\"\n",
    "        :type chars: List[str]\n",
    "        :rtype: int\n",
    "        \"\"\"\n",
    "        \n",
    "        import itertools\n",
    "        a = ''.join(chars)\n",
    "        b = ''\n",
    "        for g,h in itertools.groupby(a):\n",
    "            num = len(list(h))\n",
    "            if num == 1:\n",
    "                b = b+g\n",
    "            else:\n",
    "                b=b+g+str(num)\n",
    "        c = len(b)\n",
    "        chars[:c] = list(b)\n",
    "        return c\n",
    "            \n",
    "            \n",
    "            "
   ]
  },
  {
   "cell_type": "code",
   "execution_count": 44,
   "metadata": {
    "collapsed": false
   },
   "outputs": [
    {
     "name": "stdout",
     "output_type": "stream",
     "text": [
      "['a', 'b', '2', 'c', '3', 'c']\n",
      "5\n"
     ]
    }
   ],
   "source": [
    "print(Solution().compress([\"a\",\"b\",\"b\",\"c\",\"c\",\"c\"]))"
   ]
  },
  {
   "cell_type": "code",
   "execution_count": null,
   "metadata": {
    "collapsed": true
   },
   "outputs": [],
   "source": []
  }
 ],
 "metadata": {
  "anaconda-cloud": {},
  "kernelspec": {
   "display_name": "Python [conda root]",
   "language": "python",
   "name": "conda-root-py"
  },
  "language_info": {
   "codemirror_mode": {
    "name": "ipython",
    "version": 3
   },
   "file_extension": ".py",
   "mimetype": "text/x-python",
   "name": "python",
   "nbconvert_exporter": "python",
   "pygments_lexer": "ipython3",
   "version": "3.5.2"
  }
 },
 "nbformat": 4,
 "nbformat_minor": 2
}
