{
 "cells": [
  {
   "cell_type": "code",
   "execution_count": 1,
   "metadata": {
    "collapsed": true
   },
   "outputs": [],
   "source": [
    "# 383. Ransom Note"
   ]
  },
  {
   "cell_type": "code",
   "execution_count": 6,
   "metadata": {
    "collapsed": true
   },
   "outputs": [],
   "source": [
    "class Solution:\n",
    "    def canConstruct(self, ransomNote, magazine):\n",
    "        \"\"\"\n",
    "        :type ransomNote: str\n",
    "        :type magazine: str\n",
    "        :rtype: bool\n",
    "        \"\"\"\n",
    "        \n",
    "        if magazine.find(ransomNote)==-1:\n",
    "            return False\n",
    "        return True"
   ]
  },
  {
   "cell_type": "code",
   "execution_count": 7,
   "metadata": {
    "collapsed": false
   },
   "outputs": [
    {
     "name": "stdout",
     "output_type": "stream",
     "text": [
      "False\n"
     ]
    }
   ],
   "source": [
    "print(Solution().canConstruct(\"abc\", \"aab\"))"
   ]
  },
  {
   "cell_type": "markdown",
   "metadata": {},
   "source": [
    "not substring \n",
    "\n",
    "I misunderstand"
   ]
  },
  {
   "cell_type": "code",
   "execution_count": 17,
   "metadata": {
    "collapsed": false
   },
   "outputs": [],
   "source": [
    "class Solution:\n",
    "    def canConstruct(self, ransomNote, magazine):\n",
    "        \"\"\"\n",
    "        :type ransomNote: str\n",
    "        :type magazine: str\n",
    "        :rtype: bool\n",
    "        \"\"\"\n",
    "        \n",
    "        from collections import Counter\n",
    "        \n",
    "        return not Counter(ransomNote)-Counter(magazine)"
   ]
  },
  {
   "cell_type": "code",
   "execution_count": 19,
   "metadata": {
    "collapsed": false
   },
   "outputs": [
    {
     "name": "stdout",
     "output_type": "stream",
     "text": [
      "True\n"
     ]
    }
   ],
   "source": [
    "print(Solution().canConstruct(\"ab\", \"aab\"))"
   ]
  },
  {
   "cell_type": "markdown",
   "metadata": {},
   "source": [
    "【再回首Python之美】【逻辑运算】七个逻辑运算符：not, or, and, not or, not and, !=, ==\n",
    "\n",
    "七个逻辑运算符 not  ret = not condition，not的结果和condition的值相反or,  ret = left or right，只要有一个值为True，or的结果就是Trueand  ret = left and right，只要有一个值为False，and的结果就是Falsenot or  ret = not(left or right), 只有left和right有一个为True时，not or的结果就是Falsenot and  ret = not(left and right),只有left和right有一个为False时，not and的结果就是True!=  ret = left != right，left和right的值不相等，!=的结果就是True==  ret = left == right，left和right的值相等，==的结果就是True\n",
    "\n",
    "---------------------\n",
    "作者：CV_ML_DP \n",
    "来源：CSDN \n",
    "原文：https://blog.csdn.net/u012421852/article/details/79294462?utm_source=copy \n",
    "版权声明：本文为博主原创文章，转载请附上博文链接！"
   ]
  }
 ],
 "metadata": {
  "anaconda-cloud": {},
  "kernelspec": {
   "display_name": "Python [conda root]",
   "language": "python",
   "name": "conda-root-py"
  },
  "language_info": {
   "codemirror_mode": {
    "name": "ipython",
    "version": 3
   },
   "file_extension": ".py",
   "mimetype": "text/x-python",
   "name": "python",
   "nbconvert_exporter": "python",
   "pygments_lexer": "ipython3",
   "version": "3.5.2"
  }
 },
 "nbformat": 4,
 "nbformat_minor": 2
}
