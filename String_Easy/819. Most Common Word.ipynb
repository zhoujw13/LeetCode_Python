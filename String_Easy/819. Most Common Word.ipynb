{
 "cells": [
  {
   "cell_type": "code",
   "execution_count": 1,
   "metadata": {},
   "outputs": [],
   "source": [
    "# 819. Most Common Word"
   ]
  },
  {
   "cell_type": "code",
   "execution_count": 28,
   "metadata": {},
   "outputs": [],
   "source": [
    "class Solution:\n",
    "    def mostCommonWord(self, paragraph, banned):\n",
    "        \"\"\"\n",
    "        :type paragraph: str\n",
    "        :type banned: List[str]\n",
    "        :rtype: str\n",
    "        \"\"\"\n",
    "        from collections import Counter\n",
    "        import re\n",
    "        words = re.sub(r'[^a-zA-Z]', ' ', paragraph).lower().split()\n",
    "        print(words)\n",
    "        maxnum = 0\n",
    "        res = ''\n",
    "        for w, num in Counter(words).items():\n",
    "            if w not in banned and num>maxnum:\n",
    "                maxnum = num\n",
    "                res = w\n",
    "        return res"
   ]
  },
  {
   "cell_type": "code",
   "execution_count": 29,
   "metadata": {},
   "outputs": [
    {
     "name": "stdout",
     "output_type": "stream",
     "text": [
      "['bob', 'hit', 'a', 'ball', 'the', 'hit', 'ball', 'flew', 'far', 'after', 'it', 'was', 'hit']\n",
      "ball\n"
     ]
    }
   ],
   "source": [
    "print(Solution().mostCommonWord(paragraph = \"Bob hit a ball, the hit BALL flew far after it was hit.\",banned = [\"hit\"]))"
   ]
  },
  {
   "cell_type": "code",
   "execution_count": null,
   "metadata": {},
   "outputs": [],
   "source": [
    "正则表达式！！\n",
    "\n",
    "words = re.sub(r'[^a-zA-Z]', ' ', p).lower().split()"
   ]
  }
 ],
 "metadata": {
  "kernelspec": {
   "display_name": "Python 3",
   "language": "python",
   "name": "python3"
  },
  "language_info": {
   "codemirror_mode": {
    "name": "ipython",
    "version": 3
   },
   "file_extension": ".py",
   "mimetype": "text/x-python",
   "name": "python",
   "nbconvert_exporter": "python",
   "pygments_lexer": "ipython3",
   "version": "3.6.5"
  }
 },
 "nbformat": 4,
 "nbformat_minor": 2
}
