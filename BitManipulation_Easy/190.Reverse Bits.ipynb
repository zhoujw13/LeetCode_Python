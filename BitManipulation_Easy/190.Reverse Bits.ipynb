{
 "cells": [
  {
   "cell_type": "code",
   "execution_count": null,
   "metadata": {
    "collapsed": true
   },
   "outputs": [],
   "source": [
    "# 190.Reverse Bits"
   ]
  },
  {
   "cell_type": "markdown",
   "metadata": {},
   "source": [
    "你必须知道的简单的位操作技巧\n",
    "\n",
    "https://www.cnblogs.com/programnote/p/4686330.html\n",
    "    \n",
    "    \n",
    "Python位运算符\n",
    "\n",
    "按位运算符是把数字看作二进制来进行计算的。\n",
    "    \n",
    "    http://www.runoob.com/python/python-operators.html#ysf5"
   ]
  },
  {
   "cell_type": "code",
   "execution_count": 25,
   "metadata": {
    "collapsed": true
   },
   "outputs": [],
   "source": [
    "class Solution:\n",
    "    # @param n, an integer\n",
    "    # @return an integer\n",
    "    def reverseBits(self, n):\n",
    "        \n",
    "        t = bin(n)[2:]\n",
    "        l = len(t)\n",
    "        m = '0'*(32-l)+t[:]\n",
    "        r = int(m[::-1],2)\n",
    "        return r"
   ]
  },
  {
   "cell_type": "code",
   "execution_count": 26,
   "metadata": {
    "collapsed": false
   },
   "outputs": [
    {
     "name": "stdout",
     "output_type": "stream",
     "text": [
      "964176192\n"
     ]
    }
   ],
   "source": [
    "print(Solution().reverseBits(43261596))"
   ]
  },
  {
   "cell_type": "code",
   "execution_count": 10,
   "metadata": {
    "collapsed": false
   },
   "outputs": [
    {
     "data": {
      "text/plain": [
       "1"
      ]
     },
     "execution_count": 10,
     "metadata": {},
     "output_type": "execute_result"
    }
   ],
   "source": [
    "int(bin(4)[2:][::-1],2)"
   ]
  },
  {
   "cell_type": "code",
   "execution_count": null,
   "metadata": {
    "collapsed": true
   },
   "outputs": [],
   "source": [
    "# this is an answer from the web\n",
    "\n",
    "class Solution:\n",
    "    # @param n, an integer\n",
    "    # @return an integer\n",
    "    def reverseBits(self, n):\n",
    "        oribin='{0:032b}'.format(n)\n",
    "        reversebin=oribin[::-1]\n",
    "        return int(reversebin,2)\n",
    "    \n",
    "    "
   ]
  },
  {
   "cell_type": "markdown",
   "metadata": {},
   "source": [
    "Python format 格式化函数\n",
    "\n",
    "Python 字符串 Python 字符串\n",
    "\n",
    "Python2.6 开始，新增了一种格式化字符串的函数 str.format()，它增强了字符串格式化的功能。\n",
    "\n",
    "基本语法是通过 {} 和 : 来代替以前的 % 。\n",
    "\n",
    "format 函数可以接受不限个参数，位置可以不按顺序。\n",
    "\n",
    "数字格式化\n",
    "\n",
    "下表展示了 str.format() 格式化数字的多种方法：\n",
    "\n",
    "http://www.runoob.com/python/att-string-format.html"
   ]
  },
  {
   "cell_type": "code",
   "execution_count": null,
   "metadata": {
    "collapsed": true
   },
   "outputs": [],
   "source": []
  }
 ],
 "metadata": {
  "anaconda-cloud": {},
  "kernelspec": {
   "display_name": "Python [conda root]",
   "language": "python",
   "name": "conda-root-py"
  },
  "language_info": {
   "codemirror_mode": {
    "name": "ipython",
    "version": 3
   },
   "file_extension": ".py",
   "mimetype": "text/x-python",
   "name": "python",
   "nbconvert_exporter": "python",
   "pygments_lexer": "ipython3",
   "version": "3.5.2"
  }
 },
 "nbformat": 4,
 "nbformat_minor": 2
}
