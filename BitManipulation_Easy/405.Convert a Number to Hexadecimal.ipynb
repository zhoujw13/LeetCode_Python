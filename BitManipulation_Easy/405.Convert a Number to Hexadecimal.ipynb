{
 "cells": [
  {
   "cell_type": "code",
   "execution_count": 1,
   "metadata": {},
   "outputs": [],
   "source": [
    "# 405.Convert a Number to Hexadecimal"
   ]
  },
  {
   "cell_type": "code",
   "execution_count": 39,
   "metadata": {},
   "outputs": [],
   "source": [
    "class Solution:\n",
    "    def toHex(self, num):\n",
    "        \"\"\"\n",
    "        :type num: int\n",
    "        :rtype: str\n",
    "        \"\"\"\n",
    "        d = ['0','1','2','3','4','5','6','7','8','9','a','b','c','d','e','f']\n",
    "        if num ==0:\n",
    "            return '0'\n",
    "        \n",
    "        s =''\n",
    "        if num<0:\n",
    "            num =num +2**32\n",
    "        while num:\n",
    "            a,num = num%16,num//16\n",
    "            s  = d[a]+s\n",
    "        return s\n",
    "        \n",
    "\n",
    "        "
   ]
  },
  {
   "cell_type": "markdown",
   "metadata": {},
   "source": [
    "\n",
    "\n",
    "如果用数学方法的话就是除以16这样的，但是负数的话我还不知道应该怎么办。\n",
    "\n",
    "网上写的是 if num < 0:  num = num + 2**32\n",
    "        \n",
    "试一下！成功！"
   ]
  },
  {
   "cell_type": "code",
   "execution_count": 40,
   "metadata": {},
   "outputs": [
    {
     "name": "stdout",
     "output_type": "stream",
     "text": [
      "ffffffff\n"
     ]
    }
   ],
   "source": [
    "print(Solution().toHex(-1))"
   ]
  },
  {
   "cell_type": "markdown",
   "metadata": {},
   "source": [
    "正数\n",
    "\n",
    "正整数的补码是其二进制表示，与原码相同 [2]  。\n",
    "\n",
    "【例1】+9的补码是00001001。（备注：这个+9的补码是用8位2进制来表示的，补码表示方式很多，还有16位二进制补码表示形式，以及32位二进制补码表示形式,64位进制补码表示形式等。每一种补码表示形式都只能表示有限的数字。）\n",
    "\n",
    "负数\n",
    "\n",
    "求负整数的补码，将其对应正数二进制表示所有位取反（包括符号位，0变1，1变0）后加1 [2]  。\n",
    "\n",
    "https://baike.baidu.com/item/补码/6854613?fr=aladdin"
   ]
  },
  {
   "cell_type": "code",
   "execution_count": 32,
   "metadata": {},
   "outputs": [],
   "source": [
    "#【方二】采用位运算\n",
    "\n",
    "class Solution:\n",
    "    def toHex(self, num):\n",
    "        \"\"\"\n",
    "        :type num: int\n",
    "        :rtype: str\n",
    "        \"\"\"\n",
    "        d = ['0','1','2','3','4','5','6','7','8','9','a','b','c','d','e','f']\n",
    "        if num ==0:\n",
    "            return '0'\n",
    "        \n",
    "        s =''\n",
    "        for i in range(8):\n",
    "            n = num &15\n",
    "            a = d[n]\n",
    "            s = a + s\n",
    "            num = num >>4\n",
    "        return s.lstrip('0')# Python lstrip() 方法用于截掉字符串左边的空格或指定字符。"
   ]
  },
  {
   "cell_type": "code",
   "execution_count": 33,
   "metadata": {},
   "outputs": [
    {
     "name": "stdout",
     "output_type": "stream",
     "text": [
      "ffffffff\n"
     ]
    }
   ],
   "source": [
    "print(Solution().toHex(-1))"
   ]
  },
  {
   "cell_type": "code",
   "execution_count": 34,
   "metadata": {},
   "outputs": [
    {
     "data": {
      "text/plain": [
       "'-0b1'"
      ]
     },
     "execution_count": 34,
     "metadata": {},
     "output_type": "execute_result"
    }
   ],
   "source": [
    "bin(-1)"
   ]
  },
  {
   "cell_type": "code",
   "execution_count": 36,
   "metadata": {},
   "outputs": [
    {
     "data": {
      "text/plain": [
       "1111111"
      ]
     },
     "execution_count": 36,
     "metadata": {},
     "output_type": "execute_result"
    }
   ],
   "source": []
  },
  {
   "cell_type": "code",
   "execution_count": null,
   "metadata": {},
   "outputs": [],
   "source": []
  }
 ],
 "metadata": {
  "kernelspec": {
   "display_name": "Python 3",
   "language": "python",
   "name": "python3"
  },
  "language_info": {
   "codemirror_mode": {
    "name": "ipython",
    "version": 3
   },
   "file_extension": ".py",
   "mimetype": "text/x-python",
   "name": "python",
   "nbconvert_exporter": "python",
   "pygments_lexer": "ipython3",
   "version": "3.6.5"
  }
 },
 "nbformat": 4,
 "nbformat_minor": 2
}
