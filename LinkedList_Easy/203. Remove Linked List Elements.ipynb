{
 "cells": [
  {
   "cell_type": "code",
   "execution_count": 1,
   "metadata": {
    "collapsed": true
   },
   "outputs": [],
   "source": [
    "# 203. Remove Linked List Elements"
   ]
  },
  {
   "cell_type": "code",
   "execution_count": null,
   "metadata": {
    "collapsed": true
   },
   "outputs": [],
   "source": [
    "'''\n",
    "PYTHON\n",
    "NOT PYTHON3\n",
    "'''\n",
    "# Definition for singly-linked list.\n",
    "# class ListNode(object):\n",
    "#     def __init__(self, x):\n",
    "#         self.val = x\n",
    "#         self.next = None\n",
    "\n",
    "class Solution(object):\n",
    "    def removeElements(self, head, val):\n",
    "        \"\"\"\n",
    "        :type head: ListNode\n",
    "        :type val: int\n",
    "        :rtype: ListNode\n",
    "        \"\"\"\n",
    "        \n",
    "        cur = head\n",
    "        \n",
    "        dummy = ListNode(0)\n",
    "        dummy.next = head\n",
    "        last = dummy\n",
    "        \n",
    "        while(cur !=None):\n",
    "            if cur.val == val:\n",
    "                last.next = cur.next\n",
    "            else:\n",
    "                last = cur\n",
    "            cur = cur.next\n",
    "        return dummy.next\n",
    "                "
   ]
  },
  {
   "cell_type": "markdown",
   "metadata": {},
   "source": [
    "sOMETHING ABOUT DUMMY!!! DUMMY NODE \n",
    "\n",
    "一般来说，链表的头结点不存放具体的数据，所以也被称为哑节点（dummy node）。原因在于这样可以比较好地区分链表的头结点，而且可以大大简化链表的各种操作，避免很多不必要的边界讨论。\n",
    "\n",
    "https://blog.csdn.net/androidcon/article/details/50950629"
   ]
  },
  {
   "cell_type": "code",
   "execution_count": null,
   "metadata": {
    "collapsed": true
   },
   "outputs": [],
   "source": []
  }
 ],
 "metadata": {
  "anaconda-cloud": {},
  "kernelspec": {
   "display_name": "Python [conda root]",
   "language": "python",
   "name": "conda-root-py"
  },
  "language_info": {
   "codemirror_mode": {
    "name": "ipython",
    "version": 3
   },
   "file_extension": ".py",
   "mimetype": "text/x-python",
   "name": "python",
   "nbconvert_exporter": "python",
   "pygments_lexer": "ipython3",
   "version": "3.5.2"
  }
 },
 "nbformat": 4,
 "nbformat_minor": 2
}
