{
 "cells": [
  {
   "cell_type": "code",
   "execution_count": 1,
   "metadata": {
    "collapsed": true
   },
   "outputs": [],
   "source": [
    "# 206. Reverse Linked List"
   ]
  },
  {
   "cell_type": "code",
   "execution_count": 2,
   "metadata": {
    "collapsed": false
   },
   "outputs": [
    {
     "data": {
      "text/plain": [
       "\"\\nWHY WRONG?!!!\\nI CAN'T FIGURE IT OUT\\n\""
      ]
     },
     "execution_count": 2,
     "metadata": {},
     "output_type": "execute_result"
    }
   ],
   "source": [
    "# Definition for singly-linked list.\n",
    "# class ListNode(object):\n",
    "#     def __init__(self, x):\n",
    "#         self.val = x\n",
    "#         self.next = None\n",
    "\n",
    "class Solution(object):\n",
    "    def reverseList(self, head):\n",
    "        \"\"\"\n",
    "        :type head: ListNode\n",
    "        :rtype: ListNode\n",
    "        \"\"\"\n",
    "        if head ==None:\n",
    "            return None\n",
    "                   \n",
    "        cur = head.next\n",
    "        last = head\n",
    "        \n",
    "        while(cur):\n",
    "            t = cur.next\n",
    "            cur.next = last\n",
    "            last = cur\n",
    "            cur = t\n",
    "            \n",
    "        return last\n",
    "        \n",
    "'''\n",
    "WHY WRONG?!!!\n",
    "I CAN'T FIGURE IT OUT\n",
    "\n",
    "I know!!!\n",
    "no end at the end there will be a loop like this :2->1->2->1->2->1\n",
    "1 should point to null 2->1->NULL\n",
    "'''"
   ]
  },
  {
   "cell_type": "code",
   "execution_count": null,
   "metadata": {
    "collapsed": true
   },
   "outputs": [],
   "source": [
    "# Definition for singly-linked list.\n",
    "# class ListNode(object):\n",
    "#     def __init__(self, x):\n",
    "#         self.val = x\n",
    "#         self.next = None\n",
    "\n",
    "class Solution(object):\n",
    "    def reverseList(self, head):\n",
    "        \"\"\"\n",
    "        :type head: ListNode\n",
    "        :rtype: ListNode\n",
    "        \"\"\"\n",
    "        if head ==None:\n",
    "            return None\n",
    "                   \n",
    "        cur = head\n",
    "        last = None\n",
    "        \n",
    "        while(cur):\n",
    "            t = cur.next\n",
    "            cur.next = last\n",
    "            last = cur\n",
    "            cur = t\n",
    "            print last.val\n",
    "           \n",
    "        return last\n",
    "    '''\n",
    "    this one is right!!!!!\n",
    "    '''"
   ]
  },
  {
   "cell_type": "code",
   "execution_count": null,
   "metadata": {
    "collapsed": true
   },
   "outputs": [],
   "source": [
    "'''\n",
    "Recursion\n",
    "'''\n",
    "\n",
    "# Definition for singly-linked list.\n",
    "# class ListNode(object):\n",
    "#     def __init__(self, x):\n",
    "#         self.val = x\n",
    "#         self.next = None\n",
    "\n",
    "class Solution(object):\n",
    "    def reverseList(self, head):\n",
    "        \"\"\"\n",
    "        :type head: ListNode\n",
    "        :rtype: ListNode\n",
    "        \"\"\"\n",
    "        return self.reverse(head)\n",
    "        \n",
    "    def reverse(self,node,prev=None):\n",
    "        if not node:\n",
    "            return prev\n",
    "        n=node.next\n",
    "        node.next = prev\n",
    "        return self.reverse(n,node)"
   ]
  }
 ],
 "metadata": {
  "anaconda-cloud": {},
  "kernelspec": {
   "display_name": "Python [conda root]",
   "language": "python",
   "name": "conda-root-py"
  },
  "language_info": {
   "codemirror_mode": {
    "name": "ipython",
    "version": 3
   },
   "file_extension": ".py",
   "mimetype": "text/x-python",
   "name": "python",
   "nbconvert_exporter": "python",
   "pygments_lexer": "ipython3",
   "version": "3.5.2"
  }
 },
 "nbformat": 4,
 "nbformat_minor": 2
}
