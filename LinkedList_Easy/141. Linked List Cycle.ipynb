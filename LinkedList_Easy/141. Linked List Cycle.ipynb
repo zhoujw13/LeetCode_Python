{
 "cells": [
  {
   "cell_type": "code",
   "execution_count": 3,
   "metadata": {
    "collapsed": false
   },
   "outputs": [],
   "source": [
    "# 141. Linked List Cycle"
   ]
  },
  {
   "cell_type": "code",
   "execution_count": 4,
   "metadata": {
    "collapsed": false
   },
   "outputs": [
    {
     "data": {
      "text/plain": [
       "'\\npython \\nnot python3\\n'"
      ]
     },
     "execution_count": 4,
     "metadata": {},
     "output_type": "execute_result"
    }
   ],
   "source": [
    "'''\n",
    "python \n",
    "not python3\n",
    "'''"
   ]
  },
  {
   "cell_type": "markdown",
   "metadata": {},
   "source": [
    "Reference:\n",
    "  \n",
    "-Use two pointers, walker and runner.\n",
    "\n",
    "-walker moves step by step. runner moves two steps at time.\n",
    "\n",
    "-if the Linked List has a cycle walker and runner will meet at some point.\n",
    "\n",
    "Articles:\n",
    "\n",
    "https://leetcode.com/articles/linked-list-cycle/#\n"
   ]
  },
  {
   "cell_type": "code",
   "execution_count": 5,
   "metadata": {
    "collapsed": true
   },
   "outputs": [],
   "source": [
    "# Definition for singly-linked list.\n",
    "# class ListNode(object):\n",
    "#     def __init__(self, x):\n",
    "#         self.val = x\n",
    "#         self.next = None\n",
    "\n",
    "class Solution(object):\n",
    "    def hasCycle(self, head):\n",
    "        \"\"\"\n",
    "        :type head: ListNode\n",
    "        :rtype: bool\n",
    "        \"\"\"\n",
    "        if head==None:\n",
    "            return False\n",
    "        \n",
    "        slow = head\n",
    "        fast = head\n",
    "        while(fast.next!=None and fast.next.next !=None):\n",
    "            slow = slow.next\n",
    "            fast = fast.next.next\n",
    "            if slow ==fast:\n",
    "                return True\n",
    "        return False"
   ]
  },
  {
   "cell_type": "markdown",
   "metadata": {},
   "source": [
    "the method below is time limit exceeded:\n",
    "\n",
    "    I want to use a dict to store every node's location(id) and find out if there is duplicate"
   ]
  },
  {
   "cell_type": "code",
   "execution_count": null,
   "metadata": {
    "collapsed": true
   },
   "outputs": [],
   "source": [
    "# Definition for singly-linked list.\n",
    "# class ListNode(object):\n",
    "#     def __init__(self, x):\n",
    "#         self.val = x\n",
    "#         self.next = None\n",
    "\n",
    "class Solution(object):\n",
    "    def hasCycle(self, head):\n",
    "        \"\"\"\n",
    "        :type head: ListNode\n",
    "        :rtype: bool\n",
    "        \"\"\"\n",
    "        if head ==None:\n",
    "            return False\n",
    "        \n",
    "        dic = {}\n",
    "        cur = head\n",
    "        while(cur !=None):\n",
    "            dic[id(cur)] = cur.val\n",
    "            cur = cur.next\n",
    "            if id(cur) in dic.keys():\n",
    "                return True\n",
    "        return False"
   ]
  }
 ],
 "metadata": {
  "anaconda-cloud": {},
  "kernelspec": {
   "display_name": "Python [default]",
   "language": "python",
   "name": "python3"
  },
  "language_info": {
   "codemirror_mode": {
    "name": "ipython",
    "version": 3
   },
   "file_extension": ".py",
   "mimetype": "text/x-python",
   "name": "python",
   "nbconvert_exporter": "python",
   "pygments_lexer": "ipython3",
   "version": "3.5.2"
  }
 },
 "nbformat": 4,
 "nbformat_minor": 2
}
