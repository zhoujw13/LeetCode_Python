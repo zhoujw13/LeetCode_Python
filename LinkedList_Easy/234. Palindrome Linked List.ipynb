{
 "cells": [
  {
   "cell_type": "code",
   "execution_count": null,
   "metadata": {
    "collapsed": true
   },
   "outputs": [],
   "source": [
    "# 234. Palindrome Linked List"
   ]
  },
  {
   "cell_type": "code",
   "execution_count": 1,
   "metadata": {
    "collapsed": true
   },
   "outputs": [],
   "source": [
    "# Definition for singly-linked list.\n",
    "# class ListNode(object):\n",
    "#     def __init__(self, x):\n",
    "#         self.val = x\n",
    "#         self.next = None\n",
    "\n",
    "class Solution(object):\n",
    "    def isPalindrome(self, head):\n",
    "        \"\"\"\n",
    "        :type head: ListNode\n",
    "        :rtype: bool\n",
    "        \"\"\"\n",
    " \n",
    "            \n",
    "        cur = head\n",
    "        value = []\n",
    "        while(cur):\n",
    "            value = value + [cur.val]\n",
    "            cur =cur.next\n",
    "        \n",
    "        if value ==value[::-1]:\n",
    "            return True\n",
    "        return False\n",
    "        "
   ]
  },
  {
   "cell_type": "markdown",
   "metadata": {},
   "source": [
    "the method above is time exceeded.\n",
    "\n",
    "    but !!WHY THIS ONE BELOW PASS?!!!!!!"
   ]
  },
  {
   "cell_type": "code",
   "execution_count": 2,
   "metadata": {
    "collapsed": true
   },
   "outputs": [],
   "source": [
    "# Definition for singly-linked list.\n",
    "# class ListNode(object):\n",
    "#     def __init__(self, x):\n",
    "#         self.val = x\n",
    "#         self.next = None\n",
    "\n",
    "class Solution(object):\n",
    "    def isPalindrome(self, head):\n",
    "        \"\"\"\n",
    "        :type head: ListNode\n",
    "        :rtype: bool\n",
    "        \"\"\"\n",
    " \n",
    "            \n",
    "        vals = []\n",
    "        while head:\n",
    "            vals += head.val,\n",
    "            head = head.next\n",
    "        return vals == vals[::-1]"
   ]
  },
  {
   "cell_type": "markdown",
   "metadata": {},
   "source": [
    "HERE IS THE REASON \n",
    "\n",
    "TUPLE FASTER!!\n",
    "\n",
    "head.val is an int, head.val, is a tuple (containing just that int). I don't know a functional difference between \"+= xxx,\", \"+= [xxx]\" and \".append(xxx)\", and I choose the tuple way because it's less code and fast. I thought it's the fastest of the three based on earlier testing, but new testing disagrees, so maybe it changed in the meantime or maybe I misremember. The test I just did appends three million ints to an empty list and I get times like these:"
   ]
  }
 ],
 "metadata": {
  "anaconda-cloud": {},
  "kernelspec": {
   "display_name": "Python [conda root]",
   "language": "python",
   "name": "conda-root-py"
  },
  "language_info": {
   "codemirror_mode": {
    "name": "ipython",
    "version": 3
   },
   "file_extension": ".py",
   "mimetype": "text/x-python",
   "name": "python",
   "nbconvert_exporter": "python",
   "pygments_lexer": "ipython3",
   "version": "3.5.2"
  }
 },
 "nbformat": 4,
 "nbformat_minor": 2
}
