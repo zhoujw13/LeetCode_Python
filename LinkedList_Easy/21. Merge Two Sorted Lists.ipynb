{
 "cells": [
  {
   "cell_type": "code",
   "execution_count": 1,
   "metadata": {
    "collapsed": true
   },
   "outputs": [],
   "source": [
    "# 21. Merge Two Sorted Lists"
   ]
  },
  {
   "cell_type": "markdown",
   "metadata": {},
   "source": [
    "Some knowledge about Linked List\n",
    "\n",
    "什么是linkedlist？\n",
    "\n",
    "\n",
    "linkedlist的意义我们知道 ArrayList 是以数组实现的，遍历时很快，但是插入、删除时都需要移动后面的元素，效率略差些。而LinkedList 是以链表实现的，插入、删除时只需要改变前后两个节点指针指向即可，省事不少。LinkedList的定义LinkedList 是链表实现的线性表（双链表）。\n",
    "\n",
    "---------------------\n",
    "\n",
    "本文来自 酒吧七 的CSDN 博客 ，全文地址请点击：https://blog.csdn.net/qq_36711757/article/details/80411721?utm_source=copy \n",
    "\n",
    "菜鸟看源码之LinkedList  Java?\n",
    "\n",
    "https://blog.csdn.net/leilifengxingmw/article/details/73012743"
   ]
  },
  {
   "cell_type": "code",
   "execution_count": null,
   "metadata": {
    "collapsed": true
   },
   "outputs": [],
   "source": [
    "# Definition for singly-linked list.\n",
    "class ListNode:\n",
    "    def __init__(self, x):\n",
    "        self.val = x\n",
    "        self.next = None\n",
    "\n",
    "class Solution:\n",
    "    def mergeTwoLists(self, l1, l2):\n",
    "        \"\"\"\n",
    "        :type l1: ListNode\n",
    "        :type l2: ListNode\n",
    "        :rtype: ListNode\n",
    "        \"\"\"\n",
    "        if l1 ==None:\n",
    "            return l2\n",
    "        elif l2 ==None:\n",
    "            return l1\n",
    "        \n",
    "        if l1.val<=l2.val:\n",
    "            l = ListNode(l1.val)\n",
    "            l1 = l1.next\n",
    "        else:\n",
    "            l = ListNode(l2.val)\n",
    "            l2 = l2.next\n",
    "        \n",
    "        t = l\n",
    "            \n",
    "        while(l1 != None and l2!=None):\n",
    "            if l1.val<=l2.val:\n",
    "                t.next = l1\n",
    "                t = t.next\n",
    "                l1 = l1.next\n",
    "            else:\n",
    "                t.next = l2\n",
    "                t =t.next\n",
    "                l2 = l2.next\n",
    "        if l1==None:\n",
    "            t.next = l2\n",
    "        else:\n",
    "            t.next = l1\n",
    "        return l\n",
    "            \n",
    "        "
   ]
  },
  {
   "cell_type": "markdown",
   "metadata": {},
   "source": [
    "It works!! Although I did really bad, but I think I am moving on\n",
    "\n",
    "below here are some beautiful answers from others:\n",
    "    "
   ]
  },
  {
   "cell_type": "code",
   "execution_count": null,
   "metadata": {
    "collapsed": true
   },
   "outputs": [],
   "source": [
    "# iteratively\n",
    "def mergeTwoLists1(self, l1, l2):\n",
    "    dummy = cur = ListNode(0)\n",
    "    while l1 and l2:\n",
    "        if l1.val < l2.val:\n",
    "            cur.next = l1\n",
    "            l1 = l1.next\n",
    "        else:\n",
    "            cur.next = l2\n",
    "            l2 = l2.next\n",
    "        cur = cur.next\n",
    "    cur.next = l1 or l2\n",
    "    return dummy.next\n",
    "    \n",
    "# recursively    \n",
    "def mergeTwoLists2(self, l1, l2):\n",
    "    if not l1 or not l2:\n",
    "        return l1 or l2\n",
    "    if l1.val < l2.val:\n",
    "        l1.next = self.mergeTwoLists(l1.next, l2)\n",
    "        return l1\n",
    "    else:\n",
    "        l2.next = self.mergeTwoLists(l1, l2.next)\n",
    "        return l2"
   ]
  }
 ],
 "metadata": {
  "anaconda-cloud": {},
  "kernelspec": {
   "display_name": "Python [conda root]",
   "language": "python",
   "name": "conda-root-py"
  },
  "language_info": {
   "codemirror_mode": {
    "name": "ipython",
    "version": 3
   },
   "file_extension": ".py",
   "mimetype": "text/x-python",
   "name": "python",
   "nbconvert_exporter": "python",
   "pygments_lexer": "ipython3",
   "version": "3.5.2"
  }
 },
 "nbformat": 4,
 "nbformat_minor": 2
}
