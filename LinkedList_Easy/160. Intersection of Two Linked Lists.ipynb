{
 "cells": [
  {
   "cell_type": "code",
   "execution_count": 1,
   "metadata": {
    "collapsed": true
   },
   "outputs": [],
   "source": [
    "# 160. Intersection of Two Linked Lists"
   ]
  },
  {
   "cell_type": "markdown",
   "metadata": {},
   "source": [
    "very stupid method !\n",
    "\n",
    "time limited out \n",
    "\n",
    "below!!\n",
    "\n"
   ]
  },
  {
   "cell_type": "code",
   "execution_count": 3,
   "metadata": {
    "collapsed": true
   },
   "outputs": [],
   "source": [
    "# Definition for singly-linked list.\n",
    "# class ListNode(object):\n",
    "#     def __init__(self, x):\n",
    "#         self.val = x\n",
    "#         self.next = None\n",
    "\n",
    "class Solution(object):\n",
    "    def getIntersectionNode(self, headA, headB):\n",
    "        \"\"\"\n",
    "        :type head1, head1: ListNode\n",
    "        :rtype: ListNode\n",
    "        \"\"\"\n",
    "        \n",
    "        cur1 = headA\n",
    "        \n",
    "        while(cur1!=None):\n",
    "            cur2 = headB \n",
    "            while(cur2!=None):\n",
    "                if cur1 ==cur2:\n",
    "                    return cur1\n",
    "                cur2 = cur2.next\n",
    "            cur1 =cur1.next\n",
    "        return None\n",
    "        "
   ]
  },
  {
   "cell_type": "markdown",
   "metadata": {},
   "source": [
    "Articles reference:\n",
    "    \n",
    "https://leetcode.com/articles/intersection-of-two-linked-lists/# "
   ]
  },
  {
   "cell_type": "code",
   "execution_count": null,
   "metadata": {
    "collapsed": true
   },
   "outputs": [],
   "source": [
    "# Definition for singly-linked list.\n",
    "# class ListNode(object):\n",
    "#     def __init__(self, x):\n",
    "#         self.val = x\n",
    "#         self.next = None\n",
    "\n",
    "class Solution(object):\n",
    "    def getIntersectionNode(self, headA, headB):\n",
    "        \"\"\"\n",
    "        :type head1, head1: ListNode\n",
    "        :rtype: ListNode\n",
    "        \"\"\"\n",
    "        \n",
    "        if headA ==None or headB ==None:\n",
    "            return None\n",
    "        \n",
    "        pa =headA\n",
    "        pb = headB\n",
    "        \n",
    "        while pa != pb:\n",
    "            if pa.next == None:\n",
    "                pa = headB\n",
    "            else:\n",
    "                pa = pa.next \n",
    "            \n",
    "            if pb.next ==None:\n",
    "                pb = headA\n",
    "            else:\n",
    "                pb = pb.next\n",
    "        \n",
    "        return pa\n",
    "    '''\n",
    "    this method is wrong!!!!!!!\n",
    "    IT WILL FALL INTO LOOP WHEN THERE IS NO INTERCECTION!!!!!\n",
    "    '''"
   ]
  },
  {
   "cell_type": "code",
   "execution_count": 4,
   "metadata": {
    "collapsed": true
   },
   "outputs": [],
   "source": [
    "# Definition for singly-linked list.\n",
    "# class ListNode(object):\n",
    "#     def __init__(self, x):\n",
    "#         self.val = x\n",
    "#         self.next = None\n",
    "\n",
    "class Solution(object):\n",
    "    def getIntersectionNode(self, headA, headB):\n",
    "        \"\"\"\n",
    "        :type head1, head1: ListNode\n",
    "        :rtype: ListNode\n",
    "        \"\"\"\n",
    "        \n",
    "        if headA ==None or headB ==None:\n",
    "            return None\n",
    "        \n",
    "        pa =headA\n",
    "        pb = headB\n",
    "        time1 = 0\n",
    "        #time2 = 0\n",
    "  \n",
    "        \n",
    "        while pa != pb and time1 <2: # and time2<2:\n",
    "            if pa.next == None:\n",
    "                pa = headB\n",
    "                time1 = time1+1\n",
    "            else:\n",
    "                pa = pa.next \n",
    "            \n",
    "            if pb.next ==None:\n",
    "                pb = headA\n",
    "                #time2 = time2+1\n",
    "            else:\n",
    "                pb = pb.next\n",
    "        if time1 ==2:\n",
    "            return None\n",
    "        return pa\n",
    "    '''\n",
    "    THIS WORKS!!!!!!!!!\n",
    "    '''"
   ]
  },
  {
   "cell_type": "code",
   "execution_count": 5,
   "metadata": {
    "collapsed": false
   },
   "outputs": [
    {
     "data": {
      "text/plain": [
       "\"\\nWHY THIS WORK BUT MINE DOESN'T   ?!!!!!!!\\n\""
      ]
     },
     "execution_count": 5,
     "metadata": {},
     "output_type": "execute_result"
    }
   ],
   "source": [
    "# Definition for singly-linked list.\n",
    "# class ListNode(object):\n",
    "#     def __init__(self, x):\n",
    "#         self.val = x\n",
    "#         self.next = None\n",
    "\n",
    "class Solution(object):\n",
    "    def getIntersectionNode(self, headA, headB):\n",
    "        \"\"\"\n",
    "        :type head1, head1: ListNode\n",
    "        :rtype: ListNode\n",
    "        \"\"\"\n",
    "        if headA is None or headB is None:\n",
    "            return None\n",
    "\n",
    "        pa = headA # 2 pointers\n",
    "        pb = headB\n",
    "\n",
    "        while pa is not pb:\n",
    "            # if either pointer hits the end, switch head and continue the second traversal, \n",
    "            # if not hit the end, just move on to next\n",
    "            pa = headB if pa is None else pa.next\n",
    "            pb = headA if pb is None else pb.next\n",
    "\n",
    "        return pa # only 2 ways to get out of the loop, they meet or the both hit the end=None\n",
    "'''\n",
    "WHY THIS WORK BUT MINE DOESN'T   ?!!!!!!!\n",
    "'''"
   ]
  },
  {
   "cell_type": "code",
   "execution_count": null,
   "metadata": {
    "collapsed": true
   },
   "outputs": [],
   "source": [
    "# Definition for singly-linked list.\n",
    "# class ListNode(object):\n",
    "#     def __init__(self, x):\n",
    "#         self.val = x\n",
    "#         self.next = None\n",
    "\n",
    "class Solution(object):\n",
    "    def getIntersectionNode(self, headA, headB):\n",
    "        \"\"\"\n",
    "        :type head1, head1: ListNode\n",
    "        :rtype: ListNode\n",
    "        \"\"\"\n",
    "        \n",
    "        if headA ==None or headB ==None:\n",
    "            return None\n",
    "        \n",
    "        pa =headA\n",
    "        pb = headB\n",
    "        \n",
    "        while pa != pb:\n",
    "            if pa == None:\n",
    "                pa = headB\n",
    "            else:\n",
    "                pa = pa.next \n",
    "            \n",
    "            if pb ==None:\n",
    "                pb = headA\n",
    "            else:\n",
    "                pb = pb.next\n",
    "        \n",
    "        return pa\n",
    "    '''\n",
    "    this method is wrong!!!!!!!\n",
    "    IT WILL FALL INTO LOOP WHEN THERE IS NO INTERCECTION!!!!!\n",
    "    \n",
    "    I KNOW!!!\n",
    "    I SHOULD INCLUDE NONE AS A NODE INTO IT !!!\n",
    "    '''"
   ]
  }
 ],
 "metadata": {
  "anaconda-cloud": {},
  "kernelspec": {
   "display_name": "Python [conda root]",
   "language": "python",
   "name": "conda-root-py"
  },
  "language_info": {
   "codemirror_mode": {
    "name": "ipython",
    "version": 3
   },
   "file_extension": ".py",
   "mimetype": "text/x-python",
   "name": "python",
   "nbconvert_exporter": "python",
   "pygments_lexer": "ipython3",
   "version": "3.5.2"
  }
 },
 "nbformat": 4,
 "nbformat_minor": 2
}
