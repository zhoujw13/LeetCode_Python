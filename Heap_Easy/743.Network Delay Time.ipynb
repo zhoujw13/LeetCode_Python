{
 "cells": [
  {
   "cell_type": "code",
   "execution_count": 38,
   "metadata": {
    "collapsed": true
   },
   "outputs": [],
   "source": [
    "# 743.Network Delay Time\n",
    "# important!!!!!!\n",
    "# Dijkstra!!!!!!"
   ]
  },
  {
   "cell_type": "code",
   "execution_count": 36,
   "metadata": {
    "collapsed": false
   },
   "outputs": [],
   "source": [
    "class Solution:\n",
    "    def networkDelayTime(self, times, N, K):\n",
    "        \"\"\"\n",
    "        :type times: List[List[int]]\n",
    "        :type N: int\n",
    "        :type K: int\n",
    "        :rtype: int\n",
    "        \"\"\"\n",
    "        \n",
    "        from collections import defaultdict\n",
    "        nodes = defaultdict(dict)\n",
    "        for u,v,w in times:\n",
    "            nodes[u][v] =w\n",
    "        \n",
    "   \n",
    "        S = set(range(1,N+1))\n",
    "\n",
    "        dist = [float('inf')]*(N+1)\n",
    "        dist[K] = 0\n",
    "        \n",
    "        while S:\n",
    "            print(dist)\n",
    "            u = None\n",
    "            for node in S:\n",
    "                if u==None or dist[node]<dist[u]:\n",
    "                    u=node\n",
    "            S.remove(u)\n",
    "            for v in nodes[u]:\n",
    "                dist[v]=min(dist[v],nodes[u][v]+dist[u])\n",
    "            \n",
    "        \n",
    "        d = max(dist[1:])\n",
    "        if d==float('inf'):\n",
    "            return -1\n",
    "        return d\n",
    "        "
   ]
  },
  {
   "cell_type": "code",
   "execution_count": 37,
   "metadata": {
    "collapsed": false
   },
   "outputs": [
    {
     "name": "stdout",
     "output_type": "stream",
     "text": [
      "[inf, inf, 0, inf, inf]\n",
      "[inf, 1, 0, 1, inf]\n",
      "[inf, 1, 0, 1, inf]\n",
      "[inf, 1, 0, 1, 2]\n",
      "2\n"
     ]
    }
   ],
   "source": [
    "print(Solution().networkDelayTime([[2,1,1],[2,3,1],[3,4,1]],4,2))"
   ]
  },
  {
   "cell_type": "code",
   "execution_count": 32,
   "metadata": {
    "collapsed": false
   },
   "outputs": [
    {
     "name": "stdout",
     "output_type": "stream",
     "text": [
      "1 2 3\n",
      "4 5 6\n"
     ]
    },
    {
     "ename": "KeyError",
     "evalue": "3",
     "output_type": "error",
     "traceback": [
      "\u001b[0;31m---------------------------------------------------------------------------\u001b[0m",
      "\u001b[0;31mKeyError\u001b[0m                                  Traceback (most recent call last)",
      "\u001b[0;32m<ipython-input-32-61574913b75a>\u001b[0m in \u001b[0;36m<module>\u001b[0;34m()\u001b[0m\n\u001b[1;32m      6\u001b[0m \u001b[0;32mfor\u001b[0m \u001b[0mu\u001b[0m\u001b[0;34m,\u001b[0m\u001b[0mv\u001b[0m\u001b[0;34m,\u001b[0m\u001b[0mw\u001b[0m \u001b[0;32min\u001b[0m \u001b[0mtimes\u001b[0m\u001b[0;34m:\u001b[0m\u001b[0;34m\u001b[0m\u001b[0m\n\u001b[1;32m      7\u001b[0m     \u001b[0mnodes\u001b[0m\u001b[0;34m[\u001b[0m\u001b[0mu\u001b[0m\u001b[0;34m]\u001b[0m\u001b[0;34m[\u001b[0m\u001b[0mv\u001b[0m\u001b[0;34m]\u001b[0m \u001b[0;34m=\u001b[0m\u001b[0mw\u001b[0m\u001b[0;34m\u001b[0m\u001b[0m\n\u001b[0;32m----> 8\u001b[0;31m \u001b[0mnodes\u001b[0m\u001b[0;34m[\u001b[0m\u001b[0;36m2\u001b[0m\u001b[0;34m]\u001b[0m\u001b[0;34m[\u001b[0m\u001b[0;36m3\u001b[0m\u001b[0;34m]\u001b[0m\u001b[0;34m\u001b[0m\u001b[0m\n\u001b[0m",
      "\u001b[0;31mKeyError\u001b[0m: 3"
     ]
    }
   ],
   "source": [
    "times = [[1,2,3],[4,5,6]]\n",
    "for u,v,w in times:\n",
    "    print (u,v,w)\n",
    "from collections import defaultdict\n",
    "nodes = defaultdict(dict)\n",
    "for u,v,w in times:\n",
    "    nodes[u][v] =w\n",
    "nodes[2][3]"
   ]
  },
  {
   "cell_type": "markdown",
   "metadata": {},
   "source": [
    "Something about heap!!!\n",
    "\n",
    "堆——神奇的优先队列(上) 【经典】\n",
    "\n",
    "https://www.cnblogs.com/chenweichu/articles/5710567.html"
   ]
  },
  {
   "cell_type": "markdown",
   "metadata": {},
   "source": [
    "迪克斯特拉算法-- Dijkstra's Algorithm\n",
    "\n",
    "在图形应用中，常常需要求从图中某个结点至其余各结点的最短路径，如对于一个物流配送系统计算从配送中心到各订货点的最短路径。\n",
    "\n",
    "Dijkstra's Algorithm 基本思想：\n",
    "\n",
    "若给定带权有向图G=(V,E)和源顶点v0，构筑一个源集合S，将v0加入其中。\n",
    "\n",
    "① 对差集V\\S中 个顶点vi，逐一计算从v0 至它的距离 D(v0 , vi ),若该两顶点之间没有边，则其距离为无穷大。求出其中距离最短      的顶点w，将其加入到集合 S 中。\n",
    "\n",
    "② 重新计算 v0 至差集 V\\S 中各顶点的距离 D（v0, vi ）= Min(D(v0, vi ), D(v0, w ) + C(w, vi )).其中C（w, vi ）是顶点w 与 vi 之      间边上的费用。\n",
    "\n",
    "③ 重复 步骤①②。直至所有的顶点都加到集合S 中为止。\n",
    "--------------------- \n",
    "作者：吴威龙 \n",
    "来源：CSDN \n",
    "原文：https://blog.csdn.net/leaf_130/article/details/50668868 \n",
    "版权声明：本文为博主原创文章，转载请附上博文链接！"
   ]
  },
  {
   "cell_type": "markdown",
   "metadata": {},
   "source": [
    "python中defaultdict方法的使用\n",
    "\n",
    "defaultdict接受一个工厂函数作为参数，如下来构造：\n",
    "\n",
    "dict =defaultdict( factory_function)\n",
    "\n",
    "这个factory_function可以是list、set、str等等，作用是当key不存在时，返回的是工厂函数的默认值，比如list对应[ ]，str对应的是空字符串，set对应set( )，int对应0，如下举例：\n",
    "--------------------- \n",
    "作者：NesCafee \n",
    "来源：CSDN \n",
    "原文：https://blog.csdn.net/dpengwang/article/details/79308064 \n",
    "版权声明：本文为博主原创文章，转载请附上博文链接！\n"
   ]
  },
  {
   "cell_type": "code",
   "execution_count": 28,
   "metadata": {
    "collapsed": false
   },
   "outputs": [
    {
     "data": {
      "text/plain": [
       "{1, 2, 3, 4}"
      ]
     },
     "execution_count": 28,
     "metadata": {},
     "output_type": "execute_result"
    }
   ],
   "source": [
    "a = set([1,2,3])\n",
    "a.add(4)\n",
    "a"
   ]
  },
  {
   "cell_type": "code",
   "execution_count": 22,
   "metadata": {
    "collapsed": false
   },
   "outputs": [
    {
     "data": {
      "text/plain": [
       "{1, 3}"
      ]
     },
     "execution_count": 22,
     "metadata": {},
     "output_type": "execute_result"
    }
   ],
   "source": [
    "{1,2,3}-{2}"
   ]
  },
  {
   "cell_type": "code",
   "execution_count": 26,
   "metadata": {
    "collapsed": true
   },
   "outputs": [],
   "source": [
    "{1,2,3}"
   ]
  },
  {
   "cell_type": "markdown",
   "metadata": {},
   "source": [
    "codes by myself!!"
   ]
  },
  {
   "cell_type": "code",
   "execution_count": null,
   "metadata": {
    "collapsed": true
   },
   "outputs": [],
   "source": [
    "class Solution:\n",
    "    def networkDelayTime(self, times, N, K):\n",
    "        \"\"\"\n",
    "        :type times: List[List[int]]\n",
    "        :type N: int\n",
    "        :type K: int\n",
    "        :rtype: int\n",
    "        \"\"\"\n",
    "        \n",
    "        from collections import defaultdict\n",
    "        nodes = defaultdict(dict)\n",
    "        for u,v,w in times:\n",
    "            nodes[u][v] =w\n",
    "        \n",
    "   \n",
    "        S = set(range(1,N+1))-set([K])\n",
    "\n",
    "        dist = [float('inf')]*(N+1)\n",
    "        dist[K] = 0\n",
    "        \n",
    "        for i in nodes[K]:\n",
    "            dist[i] = nodes[K][i]# initial\n",
    "        \n",
    "        while S:\n",
    "            print(dist)\n",
    "            u = None\n",
    "            for node in S:\n",
    "                if u==None or dist[node]<dist[u]:\n",
    "                    u=node\n",
    "            S.remove(u)\n",
    "            for v in nodes[u]:\n",
    "                dist[v]=min(dist[v],nodes[u][v]+dist[u])\n",
    "            \n",
    "        \n",
    "        d = max(dist[1:])\n",
    "        if d==float('inf'):\n",
    "            return -1\n",
    "        return d\n",
    "        "
   ]
  }
 ],
 "metadata": {
  "anaconda-cloud": {},
  "kernelspec": {
   "display_name": "Python [conda root]",
   "language": "python",
   "name": "conda-root-py"
  },
  "language_info": {
   "codemirror_mode": {
    "name": "ipython",
    "version": 3
   },
   "file_extension": ".py",
   "mimetype": "text/x-python",
   "name": "python",
   "nbconvert_exporter": "python",
   "pygments_lexer": "ipython3",
   "version": "3.5.2"
  }
 },
 "nbformat": 4,
 "nbformat_minor": 2
}
