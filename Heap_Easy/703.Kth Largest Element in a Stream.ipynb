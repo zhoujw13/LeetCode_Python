{
 "cells": [
  {
   "cell_type": "code",
   "execution_count": 1,
   "metadata": {
    "collapsed": true
   },
   "outputs": [],
   "source": [
    "# 703.Kth Largest Element in a Stream"
   ]
  },
  {
   "cell_type": "markdown",
   "metadata": {},
   "source": [
    "Heap 译为\"堆\"或者是“堆内存”。\n",
    "\n",
    "在这里“堆”是一种特殊的树形数据结构，它满足堆的特性：父节点的值一定不大于或不小于子节点的值。堆被认为在计算机算法中起到重要作用，并被用于各种编程语言，例如c++、Java等中。\n",
    "\n",
    " python学习笔记之heapq内置模块\n",
    "\n",
    "heapq内置模块位于./Anaconda3/Lib/heapq.py，提供基于堆的优先排序算法\n",
    "\n",
    "堆的逻辑结构就是完全二叉树，并且二叉树中父节点的值小于等于该节点的所有子节点的值。这种实现可以使用 heap[k] <= heap[2k+1] 并且 heap[k] <= heap[2k+2] （其中 k 为索引，从 0 开始计数）的形式体现，对于堆来说，最小元素即为根元素 heap[0]。\n",
    "\n",
    "https://www.cnblogs.com/Joyce-song94/p/7149440.html"
   ]
  },
  {
   "cell_type": "code",
   "execution_count": 2,
   "metadata": {
    "collapsed": false
   },
   "outputs": [
    {
     "name": "stdout",
     "output_type": "stream",
     "text": [
      "[2, 4, 8, 5]\n"
     ]
    },
    {
     "data": {
      "text/plain": [
       "2"
      ]
     },
     "execution_count": 2,
     "metadata": {},
     "output_type": "execute_result"
    }
   ],
   "source": [
    "nums =[4,5,8,2]\n",
    "import heapq\n",
    "heapq.heapify(nums)\n",
    "print(nums)\n",
    "nums[0]"
   ]
  },
  {
   "cell_type": "code",
   "execution_count": null,
   "metadata": {
    "collapsed": true
   },
   "outputs": [],
   "source": [
    "class KthLargest:\n",
    "    import heapq\n",
    "\n",
    "    def __init__(self, k, nums):\n",
    "        \"\"\"\n",
    "        :type k: int\n",
    "        :type nums: List[int]\n",
    "        \"\"\"\n",
    "        self.heap = nums\n",
    "        heapq.heapify(self.heap)\n",
    "        self.k = k\n",
    "        while len(self.heap)>k:\n",
    "            heapq.heappop(self.heap)\n",
    "        \n",
    "        \n",
    "\n",
    "    def add(self, val):\n",
    "        \"\"\"\n",
    "        :type val: int\n",
    "        :rtype: int\n",
    "        \"\"\"\n",
    "        if len(self.heap)<self.k:\n",
    "            heapq.heappush(self.heap,val)\n",
    "        elif val>self.heap[0]:\n",
    "            heapq.heapreplace(self.heap,val)\n",
    "        return self.heap[0]\n",
    "\n",
    "\n",
    "# Your KthLargest object will be instantiated and called as such:\n",
    "# obj = KthLargest(k, nums)\n",
    "# param_1 = obj.add(val)"
   ]
  }
 ],
 "metadata": {
  "anaconda-cloud": {},
  "kernelspec": {
   "display_name": "Python [conda root]",
   "language": "python",
   "name": "conda-root-py"
  },
  "language_info": {
   "codemirror_mode": {
    "name": "ipython",
    "version": 3
   },
   "file_extension": ".py",
   "mimetype": "text/x-python",
   "name": "python",
   "nbconvert_exporter": "python",
   "pygments_lexer": "ipython3",
   "version": "3.5.2"
  }
 },
 "nbformat": 4,
 "nbformat_minor": 2
}
