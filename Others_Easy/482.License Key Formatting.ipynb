{
 "cells": [
  {
   "cell_type": "code",
   "execution_count": 12,
   "metadata": {},
   "outputs": [],
   "source": [
    "# 482.License Key Formatting"
   ]
  },
  {
   "cell_type": "code",
   "execution_count": 13,
   "metadata": {},
   "outputs": [],
   "source": [
    "class Solution:\n",
    "    def licenseKeyFormatting(self, S, K):\n",
    "        \"\"\"\n",
    "        :type S: str\n",
    "        :type K: int\n",
    "        :rtype: str\n",
    "        \"\"\"\n",
    "        \n",
    "        a=S.replace(\"-\",'').upper()\n",
    "        m = len(a)//K\n",
    "        n = len(a)%K\n",
    "        b = a[:n]\n",
    "        for i in range(m):\n",
    "            if b=='':\n",
    "                b = b+a[n+i*K:n+i*K+K]\n",
    "            else:\n",
    "                b = b+'-'+a[n+i*K:n+i*K+K]\n",
    "     \n",
    "        return b\n",
    "    "
   ]
  },
  {
   "cell_type": "code",
   "execution_count": 14,
   "metadata": {},
   "outputs": [
    {
     "name": "stdout",
     "output_type": "stream",
     "text": [
      "2-5G-3J\n"
     ]
    }
   ],
   "source": [
    "print(Solution().licenseKeyFormatting(S = \"2-5g-3-J\", K = 2))"
   ]
  },
  {
   "cell_type": "code",
   "execution_count": null,
   "metadata": {},
   "outputs": [],
   "source": []
  }
 ],
 "metadata": {
  "kernelspec": {
   "display_name": "Python 3",
   "language": "python",
   "name": "python3"
  },
  "language_info": {
   "codemirror_mode": {
    "name": "ipython",
    "version": 3
   },
   "file_extension": ".py",
   "mimetype": "text/x-python",
   "name": "python",
   "nbconvert_exporter": "python",
   "pygments_lexer": "ipython3",
   "version": "3.6.5"
  }
 },
 "nbformat": 4,
 "nbformat_minor": 2
}
