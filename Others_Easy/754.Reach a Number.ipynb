{
 "cells": [
  {
   "cell_type": "code",
   "execution_count": null,
   "metadata": {},
   "outputs": [],
   "source": [
    "# 754.Reach a Number"
   ]
  },
  {
   "cell_type": "code",
   "execution_count": 12,
   "metadata": {},
   "outputs": [],
   "source": [
    "class Solution:\n",
    "    def reachNumber(self, target):\n",
    "        \"\"\"\n",
    "        :type target: int\n",
    "        :rtype: int\n",
    "        \n",
    "        \n",
    "        def countstep(target,startstep):\n",
    "            if target==0:\n",
    "                return 0\n",
    "            if target==startstep or target+startstep==0:\n",
    "                return 1\n",
    "            return 1+min(countstep(target+startstep,startstep+1), countstep(target-startstep,startstep+1))\n",
    "        \n",
    "        return countstep(target,1)\n",
    "    # 这个是错误的，会导致无线的迭代，因为target会越来越大\n",
    "        \"\"\"\n"
   ]
  },
  {
   "cell_type": "code",
   "execution_count": 13,
   "metadata": {},
   "outputs": [],
   "source": [
    "# 这是一个数学问题，具体的分析见solution\n",
    "class Solution:\n",
    "    def reachNumber(self, target):\n",
    "        \"\"\"\n",
    "        :type target: int\n",
    "        :rtype: int\n",
    "        \"\"\"\n",
    "        k = 0\n",
    "        t = abs(target)\n",
    "        a = 0\n",
    "        while a<t:\n",
    "            k +=1\n",
    "            a +=k\n",
    "\n",
    "        if (a-t)%2==0:\n",
    "            return k\n",
    "        elif (k+1)%2==0:\n",
    "            return k+2\n",
    "        return k+1\n",
    "        "
   ]
  },
  {
   "cell_type": "code",
   "execution_count": 17,
   "metadata": {},
   "outputs": [
    {
     "name": "stdout",
     "output_type": "stream",
     "text": [
      "5\n"
     ]
    }
   ],
   "source": [
    "print(Solution().reachNumber(5))"
   ]
  },
  {
   "cell_type": "code",
   "execution_count": null,
   "metadata": {},
   "outputs": [],
   "source": []
  }
 ],
 "metadata": {
  "kernelspec": {
   "display_name": "Python 3",
   "language": "python",
   "name": "python3"
  },
  "language_info": {
   "codemirror_mode": {
    "name": "ipython",
    "version": 3
   },
   "file_extension": ".py",
   "mimetype": "text/x-python",
   "name": "python",
   "nbconvert_exporter": "python",
   "pygments_lexer": "ipython3",
   "version": "3.6.5"
  }
 },
 "nbformat": 4,
 "nbformat_minor": 2
}
