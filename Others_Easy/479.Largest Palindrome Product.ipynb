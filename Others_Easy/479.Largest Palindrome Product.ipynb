{
 "cells": [
  {
   "cell_type": "code",
   "execution_count": null,
   "metadata": {},
   "outputs": [],
   "source": [
    "# 479.Largest Palindrome Product"
   ]
  },
  {
   "cell_type": "code",
   "execution_count": 1,
   "metadata": {},
   "outputs": [],
   "source": [
    "class Solution(object):\n",
    "    def largestPalindrome(self, n):\n",
    "        if n==1: return 9\n",
    "        if n==2: return 987\n",
    "        for a in range(2, 9*10**(n-1)):\n",
    "            hi=(10**n)-a\n",
    "            lo=int(str(hi)[::-1])\n",
    "            if a**2-4*lo < 0: continue\n",
    "            if (a**2-4*lo)**.5 == int((a**2-4*lo)**.5):\n",
    "                return (lo+10**n*(10**n-a))%1337"
   ]
  },
  {
   "cell_type": "markdown",
   "metadata": {},
   "source": [
    "这是一个数学问题，需要数学推导，详细推导见讨论\n",
    "\n",
    "I used the following approach. Let's denote the biggest palindrome product as palindrome = M * L. For N > 1 this palidrome has even number of digits and it can be represented as the sum:\n",
    "palindrome = upper * 10^N + lower\n",
    "We can expect that M and L are close to 10^N and we can represent them as M = 10^N - i, L = 10^N - j and hence\n",
    "palindrome = (10^N - i) * (10^N - j) = 10^N * (10^N - (i + j)) + i * j\n",
    "If we assume that i * j < 10^N (this assumption turned out to be true for N > 1) we can represent upper and lower in the following way:\n",
    "upper = 10^N - (i + j)\n",
    "lower = i * j\n",
    "This is the system of equations which can be solved if we know upper and lower. Let's denote sum of i and j as a = i + j. It can be calculated as a = 10^N - upper. Because j = a - i equation for lower can be rewritten as\n",
    "lower = a * i - i * i\n",
    "This is a quadratic equation which can be solved using standard methods from textbooks.\n",
    "\n",
    "\n",
    "Thanks to @nizametdinov 's reply in this thread, I came out below solution.\n",
    "Because i^2 - a*i - lower = 0\n",
    "thus, (i-a/2)^2 = (4*lower-a^2)/2\n",
    "thus, i.f.f. (4*lower-a^2)/2 is some integer's square, can lower i^2 - a*i - lower = 0 have integer result.\n",
    "so I use (a^2-4*lo)^.5 == int((a^2-4*lo)^.5) to check."
   ]
  },
  {
   "cell_type": "code",
   "execution_count": null,
   "metadata": {},
   "outputs": [],
   "source": []
  }
 ],
 "metadata": {
  "kernelspec": {
   "display_name": "Python 3",
   "language": "python",
   "name": "python3"
  },
  "language_info": {
   "codemirror_mode": {
    "name": "ipython",
    "version": 3
   },
   "file_extension": ".py",
   "mimetype": "text/x-python",
   "name": "python",
   "nbconvert_exporter": "python",
   "pygments_lexer": "ipython3",
   "version": "3.6.5"
  }
 },
 "nbformat": 4,
 "nbformat_minor": 2
}
