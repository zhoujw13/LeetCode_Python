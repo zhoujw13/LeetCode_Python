{
 "cells": [
  {
   "cell_type": "code",
   "execution_count": 10,
   "metadata": {},
   "outputs": [],
   "source": [
    "# 492.Construct the Rectangle"
   ]
  },
  {
   "cell_type": "code",
   "execution_count": 1,
   "metadata": {},
   "outputs": [],
   "source": [
    "class Solution:\n",
    "    def constructRectangle(self, area):\n",
    "        \"\"\"\n",
    "        :type area: int\n",
    "        :rtype: List[int]\n",
    "        \"\"\"\n",
    "        \n",
    "        mid = int(math.sqrt(area))\n",
    "        while mid>0:\n",
    "            if area%mid ==0 :\n",
    "                return [int(area//mid),mid]\n",
    "            mid -= 1\n",
    "        \n",
    "        \n",
    "        "
   ]
  },
  {
   "cell_type": "code",
   "execution_count": 7,
   "metadata": {},
   "outputs": [],
   "source": [
    "class Solution:\n",
    "    def constructRectangle(self, area):\n",
    "        \"\"\"\n",
    "        :type area: int\n",
    "        :rtype: List[int]\n",
    "        \"\"\"\n",
    "        import math\n",
    "        mid = math.ceil(math.sqrt(area))\n",
    "        print(mid)\n",
    "        while mid>0:\n",
    "            if area%mid ==0 :\n",
    "                return [mid,int(area//mid)]\n",
    "            mid += 1\n",
    "        \n",
    "        \n",
    "        "
   ]
  },
  {
   "cell_type": "code",
   "execution_count": 9,
   "metadata": {},
   "outputs": [
    {
     "name": "stdout",
     "output_type": "stream",
     "text": [
      "3163\n",
      "[9999991, 1]\n"
     ]
    }
   ],
   "source": [
    "print(Solution().constructRectangle(9999991))\n",
    "#方法是对的，但是会超时！"
   ]
  },
  {
   "cell_type": "code",
   "execution_count": null,
   "metadata": {},
   "outputs": [],
   "source": []
  }
 ],
 "metadata": {
  "kernelspec": {
   "display_name": "Python 3",
   "language": "python",
   "name": "python3"
  },
  "language_info": {
   "codemirror_mode": {
    "name": "ipython",
    "version": 3
   },
   "file_extension": ".py",
   "mimetype": "text/x-python",
   "name": "python",
   "nbconvert_exporter": "python",
   "pygments_lexer": "ipython3",
   "version": "3.6.5"
  }
 },
 "nbformat": 4,
 "nbformat_minor": 2
}
