{
 "cells": [
  {
   "cell_type": "markdown",
   "metadata": {},
   "source": [
    "# MySQL"
   ]
  },
  {
   "cell_type": "markdown",
   "metadata": {},
   "source": [
    "百度百科MySQL\n",
    "\n",
    "https://baike.baidu.com/item/mySQL/471251?fr=aladdin\n",
    "\n",
    "\n",
    "\n",
    "MySQL教程\n",
    "\n",
    "http://www.runoob.com/mysql/mysql-tutorial.html\n",
    "\n",
    "看了一本书《SQL入门经典》BeginningSQL（很基础）\n",
    "\n",
    "20181025——20181026"
   ]
  },
  {
   "cell_type": "markdown",
   "metadata": {},
   "source": [
    "这一部分代码都很短我就全部写在一起了\n",
    "\n",
    "另外，jupyter只是一个记录代码载体，这些代码都是不能再python环境下运行的"
   ]
  },
  {
   "cell_type": "code",
   "execution_count": 2,
   "metadata": {},
   "outputs": [],
   "source": [
    "# 175.Combine Two Tables\n",
    "\n",
    "# Write your MySQL query statement below\n",
    "\n",
    "SELECT Person.FirstName, Person.LastName, Address.City, Address.State from Person LEFT JOIN Address ON Person.PersonId=Address.PersonId"
   ]
  },
  {
   "cell_type": "code",
   "execution_count": null,
   "metadata": {},
   "outputs": [],
   "source": [
    "# 176.Second Highest Salary\n",
    "\n",
    "# Write your MySQL query statement below\n",
    "\n",
    "SELECT\n",
    "    (SELECT DISTINCT\n",
    "        Salary \n",
    "    FROM\n",
    "        Employee\n",
    "    ORDER BY Salary DESC\n",
    "    LIMIT 1 OFFSET 1)AS SecondHighestSalary"
   ]
  },
  {
   "cell_type": "markdown",
   "metadata": {},
   "source": [
    "MySQL列的别名\n",
    "\n",
    "要给列添加别名，可以使用AS关键词后跟别名。因为AS关键字是可选的，可以在语句中省略它。\n",
    "\n",
    "https://www.yiibai.com/mysql/alias.html"
   ]
  },
  {
   "cell_type": "code",
   "execution_count": null,
   "metadata": {},
   "outputs": [],
   "source": [
    "# 181.Employees Earning More Than Their Managers\n",
    "\n",
    "# Write your MySQL query statement below\n",
    "\n",
    "select a.name as Employee\n",
    "from Employee a inner join Employee b \n",
    "on a.managerId = b.id where a.salary>b.salary;"
   ]
  },
  {
   "cell_type": "code",
   "execution_count": null,
   "metadata": {},
   "outputs": [],
   "source": [
    "# 182.Duplicate Emails\n",
    "\n",
    "# Write your MySQL query statement below\n",
    "\n",
    "select Email\n",
    "from Person\n",
    "group by Email\n",
    "having Count(*)>1"
   ]
  },
  {
   "cell_type": "code",
   "execution_count": null,
   "metadata": {},
   "outputs": [],
   "source": [
    "# 183.Customers Who Never Order\n",
    "# Write your MySQL query statement below\n",
    "\n",
    "SELECT NAME AS CUSTOMERS\n",
    "FROM CUSTOMERS LEFT JOIN ORDERS\n",
    "ON CUSTOMERS.ID =ORDERS.CUSTOMERID\n",
    "WHERE CUSTOMERID IS NULL"
   ]
  },
  {
   "cell_type": "code",
   "execution_count": null,
   "metadata": {},
   "outputs": [],
   "source": [
    "# 196.Delete Duplicate Emails \n",
    "# Write your MySQL query statement below\n",
    "\n",
    "delete p1\n",
    "from person p1, person p2\n",
    "where p1.email=p2.email and p1.id>p2.id"
   ]
  },
  {
   "cell_type": "code",
   "execution_count": null,
   "metadata": {},
   "outputs": [],
   "source": [
    "# 197.Rising Temperature\n",
    "# Write your MySQL query statement below\n",
    "\n",
    "select w2.id\n",
    "from weather w1 join weather w2\n",
    "#on datediff( w2.recorddate , w1.recorddate)=1# this datediff function is important\n",
    "ON TO_DAYS(w1.recorddate) = TO_DAYS(w2.recorddate) - 1# or use to_days to transform\n",
    "where w1.temperature<w2.temperature"
   ]
  },
  {
   "cell_type": "code",
   "execution_count": null,
   "metadata": {},
   "outputs": [],
   "source": [
    "# 595.Big Countries \n",
    "# Write your MySQL query statement below\n",
    "\n",
    "select name,population,area\n",
    "from world\n",
    "where area>3000000 or population > 25000000"
   ]
  },
  {
   "cell_type": "code",
   "execution_count": null,
   "metadata": {},
   "outputs": [],
   "source": [
    "# 596.Classes More Than 5 Students\n",
    "# Write your MySQL query statement below\n",
    "\n",
    "select class\n",
    "from courses\n",
    "group by class\n",
    "having count(distinct student)>=5"
   ]
  },
  {
   "cell_type": "code",
   "execution_count": null,
   "metadata": {},
   "outputs": [],
   "source": [
    "# 620.Not Boring Movies\n",
    "# Write your MySQL query statement below\n",
    "\n",
    "select *\n",
    "from cinema\n",
    "where id%2 =1 and description <> 'boring'# not eauel : != , <>  .mod(id,2)=1\n",
    "order by rating desc"
   ]
  },
  {
   "cell_type": "code",
   "execution_count": null,
   "metadata": {},
   "outputs": [],
   "source": [
    "# 627.Swap Salary\n",
    "# Write your MySQL query statement below\n",
    "\n",
    "update salary\n",
    "set sex = case \n",
    "    when sex='m' then 'f'\n",
    "    else 'm'\n",
    "end"
   ]
  }
 ],
 "metadata": {
  "kernelspec": {
   "display_name": "Python 3",
   "language": "python",
   "name": "python3"
  },
  "language_info": {
   "codemirror_mode": {
    "name": "ipython",
    "version": 3
   },
   "file_extension": ".py",
   "mimetype": "text/x-python",
   "name": "python",
   "nbconvert_exporter": "python",
   "pygments_lexer": "ipython3",
   "version": "3.6.5"
  }
 },
 "nbformat": 4,
 "nbformat_minor": 2
}
