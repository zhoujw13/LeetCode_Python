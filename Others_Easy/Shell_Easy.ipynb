{
 "cells": [
  {
   "cell_type": "markdown",
   "metadata": {},
   "source": [
    "# Bash_Easy"
   ]
  },
  {
   "cell_type": "markdown",
   "metadata": {},
   "source": [
    "Bash 百科\n",
    "\n",
    "bash 是一个为GNU计划编写的Unix shell。它的名字是一系列缩写：Bourne-Again SHell — 这是关于Bourne shell（sh）的一个双关语（Bourne again / born again）。Bourne shell是一个早期的重要shell，由史蒂夫·伯恩在1978年前后编写，并同Version 7 Unix一起发布。bash则在1987年由布莱恩·福克斯创造。\n",
    "\n",
    "Bash (GNU Bourne-Again Shell) 是许多Linux发行版的默认Shell\n",
    "\n",
    "https://baike.baidu.com/item/bash/6367661?fr=aladdin\n"
   ]
  },
  {
   "cell_type": "markdown",
   "metadata": {},
   "source": [
    "shell 教程\n",
    "\n",
    "http://www.runoob.com/linux/linux-shell.html"
   ]
  },
  {
   "cell_type": "code",
   "execution_count": null,
   "metadata": {},
   "outputs": [],
   "source": [
    "# 193.Valid Phone Numbers\n",
    "\n",
    "# Read from the file file.txt and output all valid phone numbers to stdout.\n",
    "\n",
    "# grep -P '^(\\d{3}-|\\(\\d{3}\\) )\\d{3}-\\d{4}$' file.txt\n",
    "\n",
    "grep -e \"^[0-9]\\{3\\}-[0-9]\\{3\\}-[0-9]\\{4\\}$\" -e \"^([0-9]\\{3\\}) [0-9]\\{3\\}-[0-9]\\{4\\}$\" file.txt"
   ]
  },
  {
   "cell_type": "code",
   "execution_count": null,
   "metadata": {},
   "outputs": [],
   "source": [
    "# 195.Tenth Line\n",
    "\n",
    "# Read from the file file.txt and output the tenth line to stdout.\n",
    "i=0\n",
    "while (( i++ < 10 ))\n",
    "do\n",
    "  read line\n",
    "done < file.txt\n",
    "echo $line"
   ]
  }
 ],
 "metadata": {
  "kernelspec": {
   "display_name": "Python 3",
   "language": "python",
   "name": "python3"
  },
  "language_info": {
   "codemirror_mode": {
    "name": "ipython",
    "version": 3
   },
   "file_extension": ".py",
   "mimetype": "text/x-python",
   "name": "python",
   "nbconvert_exporter": "python",
   "pygments_lexer": "ipython3",
   "version": "3.6.5"
  }
 },
 "nbformat": 4,
 "nbformat_minor": 2
}
