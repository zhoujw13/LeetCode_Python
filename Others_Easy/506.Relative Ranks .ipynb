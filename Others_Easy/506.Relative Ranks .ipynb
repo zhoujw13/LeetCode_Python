{
 "cells": [
  {
   "cell_type": "code",
   "execution_count": null,
   "metadata": {},
   "outputs": [],
   "source": [
    "# 506.Relative Ranks "
   ]
  },
  {
   "cell_type": "code",
   "execution_count": 8,
   "metadata": {},
   "outputs": [],
   "source": [
    "class Solution:\n",
    "    def findRelativeRanks(self, nums):\n",
    "        \"\"\"\n",
    "        :type nums: List[int]\n",
    "        :rtype: List[str]\n",
    "        \"\"\"\n",
    "        \n",
    "        t = sorted(nums)[::-1]\n",
    "        r =[ \"1\"]*len(t)\n",
    "        for i in range(len(t)):\n",
    "            if i==0:\n",
    "                r[nums.index(t[i])] = \"Gold Medal\"\n",
    "            elif i ==1:\n",
    "                r[nums.index(t[i])] = \"Silver Medal\"\n",
    "            elif i==2:\n",
    "                r[nums.index(t[i])] = \"Bronze Medal\"\n",
    "            else:\n",
    "                r[nums.index(t[i])] = str(i+1)\n",
    "        return r"
   ]
  },
  {
   "cell_type": "code",
   "execution_count": 10,
   "metadata": {},
   "outputs": [
    {
     "name": "stdout",
     "output_type": "stream",
     "text": [
      "['Gold Medal', 'Silver Medal', 'Bronze Medal', '4', '5']\n"
     ]
    }
   ],
   "source": [
    "print(Solution().findRelativeRanks([5, 4, 3, 2, 1]))\n",
    "#是对的，但就是！！太！！慢！！了！！"
   ]
  },
  {
   "cell_type": "code",
   "execution_count": 14,
   "metadata": {},
   "outputs": [],
   "source": [
    "class Solution:\n",
    "    def findRelativeRanks(self, nums):\n",
    "        \"\"\"\n",
    "        :type nums: List[int]\n",
    "        :rtype: List[str]\n",
    "        \"\"\"\n",
    "        t = { n:i for i,n in enumerate(sorted(nums,reverse=True))}\n",
    "        r = []\n",
    "        for n in nums:\n",
    "            if t[n]==0:\n",
    "                r = r+[\"Gold Medal\"]\n",
    "            elif t[n]==1:\n",
    "                r = r+[\"Silver Medal\"]\n",
    "            elif t[n]==2:\n",
    "                r = r+[ \"Bronze Medal\"]\n",
    "            else:\n",
    "                r =r +[str(t[n]+1)]\n",
    "        return r"
   ]
  },
  {
   "cell_type": "code",
   "execution_count": 15,
   "metadata": {},
   "outputs": [
    {
     "name": "stdout",
     "output_type": "stream",
     "text": [
      "['Gold Medal', 'Silver Medal', 'Bronze Medal', '4', '5']\n"
     ]
    }
   ],
   "source": [
    "print(Solution().findRelativeRanks([5, 4, 3, 2, 1]))\n",
    "#要用字典！！hash比较快"
   ]
  },
  {
   "cell_type": "code",
   "execution_count": null,
   "metadata": {},
   "outputs": [],
   "source": []
  }
 ],
 "metadata": {
  "kernelspec": {
   "display_name": "Python 3",
   "language": "python",
   "name": "python3"
  },
  "language_info": {
   "codemirror_mode": {
    "name": "ipython",
    "version": 3
   },
   "file_extension": ".py",
   "mimetype": "text/x-python",
   "name": "python",
   "nbconvert_exporter": "python",
   "pygments_lexer": "ipython3",
   "version": "3.6.5"
  }
 },
 "nbformat": 4,
 "nbformat_minor": 2
}
