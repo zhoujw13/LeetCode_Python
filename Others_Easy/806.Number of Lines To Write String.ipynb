{
 "cells": [
  {
   "cell_type": "code",
   "execution_count": null,
   "metadata": {},
   "outputs": [],
   "source": [
    "# 806.Number of Lines To Write String"
   ]
  },
  {
   "cell_type": "code",
   "execution_count": 10,
   "metadata": {},
   "outputs": [],
   "source": [
    "class Solution:\n",
    "    def numberOfLines(self, widths, S):\n",
    "        \"\"\"\n",
    "        :type widths: List[int]\n",
    "        :type S: str\n",
    "        :rtype: List[int]\n",
    "        \"\"\"\n",
    "        count = [0]\n",
    "        for s in S:\n",
    "            amount = widths[ord(s)-ord('a')]#字符转化为数字\n",
    "            if count[-1]+amount>100:\n",
    "                count.append(amount)\n",
    "            else:\n",
    "                count[-1]+=amount\n",
    "        return (len(count),count[-1])\n",
    "        "
   ]
  },
  {
   "cell_type": "code",
   "execution_count": 11,
   "metadata": {},
   "outputs": [
    {
     "name": "stdout",
     "output_type": "stream",
     "text": [
      "(2, 4)\n"
     ]
    }
   ],
   "source": [
    "print(Solution().numberOfLines(widths = [4,10,10,10,10,10,10,10,10,10,10,10,10,10,10,10,10,10,10,10,10,10,10,10,10,10],S = \"bbbcccdddaaa\"))"
   ]
  },
  {
   "cell_type": "code",
   "execution_count": 8,
   "metadata": {},
   "outputs": [
    {
     "data": {
      "text/plain": [
       "97"
      ]
     },
     "execution_count": 8,
     "metadata": {},
     "output_type": "execute_result"
    }
   ],
   "source": [
    "ord('a')"
   ]
  },
  {
   "cell_type": "code",
   "execution_count": 9,
   "metadata": {},
   "outputs": [
    {
     "data": {
      "text/plain": [
       "98"
      ]
     },
     "execution_count": 9,
     "metadata": {},
     "output_type": "execute_result"
    }
   ],
   "source": [
    "ord('b')"
   ]
  },
  {
   "cell_type": "markdown",
   "metadata": {},
   "source": [
    "int(x [,base ])         将x转换为一个整数    \n",
    "long(x [,base ])        将x转换为一个长整数    \n",
    "float(x )               将x转换到一个浮点数    \n",
    "complex(real [,imag ])  创建一个复数    \n",
    "str(x )                 将对象 x 转换为字符串    \n",
    "repr(x )                将对象 x 转换为表达式字符串    \n",
    "eval(str )              用来计算在字符串中的有效Python表达式,并返回一个对象    \n",
    "tuple(s )               将序列 s 转换为一个元组    \n",
    "list(s )                将序列 s 转换为一个列表    \n",
    "chr(x )                 将一个整数转换为一个字符    \n",
    "unichr(x )              将一个整数转换为Unicode字符    \n",
    "ord(x )                 将一个字符转换为它的整数值    \n",
    "hex(x )                 将一个整数转换为一个十六进制字符串    \n",
    "oct(x )                 将一个整数转换为一个八进制字符串   \n",
    " |\n",
    " \n",
    "chr(65)='A'\n",
    "ord('A')=65\n",
    " \n",
    "int('2')=2;\n",
    "str(2)='2'\n"
   ]
  },
  {
   "cell_type": "code",
   "execution_count": null,
   "metadata": {},
   "outputs": [],
   "source": []
  }
 ],
 "metadata": {
  "kernelspec": {
   "display_name": "Python 3",
   "language": "python",
   "name": "python3"
  },
  "language_info": {
   "codemirror_mode": {
    "name": "ipython",
    "version": 3
   },
   "file_extension": ".py",
   "mimetype": "text/x-python",
   "name": "python",
   "nbconvert_exporter": "python",
   "pygments_lexer": "ipython3",
   "version": "3.6.5"
  }
 },
 "nbformat": 4,
 "nbformat_minor": 2
}
