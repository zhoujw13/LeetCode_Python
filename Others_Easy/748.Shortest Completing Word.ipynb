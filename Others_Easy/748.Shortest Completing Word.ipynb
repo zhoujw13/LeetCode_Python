{
 "cells": [
  {
   "cell_type": "code",
   "execution_count": 25,
   "metadata": {},
   "outputs": [],
   "source": [
    "# 748.Shortest Completing Word"
   ]
  },
  {
   "cell_type": "code",
   "execution_count": 26,
   "metadata": {},
   "outputs": [],
   "source": [
    "class Solution:\n",
    "    def shortestCompletingWord(self, licensePlate, words):\n",
    "        \"\"\"\n",
    "        :type licensePlate: str\n",
    "        :type words: List[str]\n",
    "        :rtype: str\n",
    "        \"\"\"\n",
    "        import collections\n",
    "        t =list(i.lower() for i in licensePlate if i.isalpha())\n",
    "        t1 = collections.Counter(t)\n",
    "        ans = ''\n",
    "        for w in words:\n",
    "            w1 = collections.Counter(w)\n",
    "            flag = True\n",
    "            \n",
    "            for key in t1:\n",
    "                if t1[key]>w1[key]:\n",
    "                    flag = False\n",
    "            if flag and (ans=='' or len(w)<len(ans)):\n",
    "                ans=w\n",
    "        return ans\n",
    "           \n",
    "        \n",
    "        \n",
    "        "
   ]
  },
  {
   "cell_type": "code",
   "execution_count": 27,
   "metadata": {},
   "outputs": [
    {
     "name": "stdout",
     "output_type": "stream",
     "text": [
      "pest\n"
     ]
    }
   ],
   "source": [
    "print(Solution().shortestCompletingWord(licensePlate = \"1s3 456\", words = [\"looks\", \"pest\", \"stew\", \"show\"]))\n",
    "#方法是对的，但就是太慢了！！！！"
   ]
  },
  {
   "cell_type": "code",
   "execution_count": null,
   "metadata": {},
   "outputs": [],
   "source": []
  }
 ],
 "metadata": {
  "kernelspec": {
   "display_name": "Python 3",
   "language": "python",
   "name": "python3"
  },
  "language_info": {
   "codemirror_mode": {
    "name": "ipython",
    "version": 3
   },
   "file_extension": ".py",
   "mimetype": "text/x-python",
   "name": "python",
   "nbconvert_exporter": "python",
   "pygments_lexer": "ipython3",
   "version": "3.6.5"
  }
 },
 "nbformat": 4,
 "nbformat_minor": 2
}
