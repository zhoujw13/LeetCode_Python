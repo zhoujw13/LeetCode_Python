{
 "cells": [
  {
   "cell_type": "code",
   "execution_count": null,
   "metadata": {},
   "outputs": [],
   "source": [
    "# 530.Minimum Absolute Difference in BST"
   ]
  },
  {
   "cell_type": "markdown",
   "metadata": {},
   "source": [
    "对于一个搜索二叉树，它的中序遍历 in-order就会形成一个升序的排序！！\n",
    "\n",
    "所以这道题实际上就只需要中序遍历一遍二叉树，同时找到相邻两项差的最小值即可"
   ]
  },
  {
   "cell_type": "code",
   "execution_count": 1,
   "metadata": {},
   "outputs": [],
   "source": [
    "# Definition for a binary tree node.\n",
    "# class TreeNode:\n",
    "#     def __init__(self, x):\n",
    "#         self.val = x\n",
    "#         self.left = None\n",
    "#         self.right = None\n",
    "\n",
    "class Solution:\n",
    "    def getMinimumDifference(self, root):\n",
    "        \"\"\"\n",
    "        :type root: TreeNode\n",
    "        :rtype: int\n",
    "        \"\"\"\n",
    "        L = []\n",
    "        def inorder(node):     \n",
    "            if not node:\n",
    "                return \n",
    "            inorder(node.left)\n",
    "            # L = L+[node.val]  列表这种写法好像不行，得用下面这个\n",
    "            L.append(node.val)\n",
    "            inorder(node.right)\n",
    "        \n",
    "        inorder(root)\n",
    "        return min( j-i for (i,j) in zip(L,L[1:]))\n",
    "        \n",
    "        \n",
    "        "
   ]
  },
  {
   "cell_type": "markdown",
   "metadata": {},
   "source": [
    "全局变量报错：UnboundLocalError: local variable 'l' referenced before assignment\n",
    "    \n",
    "    总结：\n",
    "    \n",
    "内部函数，不修改全局变量可以访问全局变量\n",
    "\n",
    "内部函数，修改同名全局变量，则python会认为它是一个局部变量\n",
    "\n",
    "在内部函数修改同名全局变量之前调用变量名称（如print sum），则引发Unbound-LocalError\n",
    "\n",
    "在程序中设置的sum属于全局变量,而在函数中没有sum的定义,根据python访问局部变量和全局变量的规则：当搜索一个变量的时候，python先从局部作用域开始搜索，如果在局部作用域没有找到那个变量，那样python就在全局变量中找这个变量，如果找不到抛出异常(NAMEERROR或者Unbound-LocalError，这取决于python版本。)\n",
    "\n",
    "\n",
    "https://www.cnblogs.com/perfei/p/5507617.html"
   ]
  },
  {
   "cell_type": "code",
   "execution_count": null,
   "metadata": {},
   "outputs": [],
   "source": []
  }
 ],
 "metadata": {
  "kernelspec": {
   "display_name": "Python 3",
   "language": "python",
   "name": "python3"
  },
  "language_info": {
   "codemirror_mode": {
    "name": "ipython",
    "version": 3
   },
   "file_extension": ".py",
   "mimetype": "text/x-python",
   "name": "python",
   "nbconvert_exporter": "python",
   "pygments_lexer": "ipython3",
   "version": "3.6.5"
  }
 },
 "nbformat": 4,
 "nbformat_minor": 2
}
