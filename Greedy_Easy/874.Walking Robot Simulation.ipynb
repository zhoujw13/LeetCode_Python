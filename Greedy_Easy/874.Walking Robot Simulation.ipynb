{
 "cells": [
  {
   "cell_type": "code",
   "execution_count": 1,
   "metadata": {
    "collapsed": true
   },
   "outputs": [],
   "source": [
    "# 874.Walking Robot Simulation"
   ]
  },
  {
   "cell_type": "code",
   "execution_count": 10,
   "metadata": {
    "collapsed": true
   },
   "outputs": [],
   "source": [
    "class Solution:\n",
    "    def robotSim(self, commands, obstacles):\n",
    "        \"\"\"\n",
    "        :type commands: List[int]\n",
    "        :type obstacles: List[List[int]]\n",
    "        :rtype: int\n",
    "        \"\"\"\n",
    "        \n",
    "        i = 0\n",
    "        j = 0\n",
    "        direction = [(0,1),(1,0),(0,-1),(-1,0)]\n",
    "        face = 0\n",
    "        max_distance= 0\n",
    "        \n",
    "        obstacles = set(map(tuple,obstacles))\n",
    "        \n",
    "        for move in commands:\n",
    "            if move ==-2:\n",
    "                face = (face-1)%4\n",
    "            elif move ==-1:\n",
    "                face = (face+1)%4\n",
    "            else:\n",
    "                while move>0:\n",
    "                    if (i+direction[face][0],j+direction[face][1]) not in obstacles:\n",
    "                        i = i+direction[face][0]\n",
    "                        j = j+direction[face][1] \n",
    "                        max_distance = max(max_distance,i**2+j**2)\n",
    "                    move -=1\n",
    "                    \n",
    "        return max_distance\n",
    "       \n",
    "    \n",
    "    \n",
    "        \n",
    "                \n",
    "\n",
    "                "
   ]
  },
  {
   "cell_type": "code",
   "execution_count": 11,
   "metadata": {
    "collapsed": false
   },
   "outputs": [
    {
     "name": "stdout",
     "output_type": "stream",
     "text": [
      "65\n"
     ]
    }
   ],
   "source": [
    "print(Solution().robotSim(commands = [4,-1,4,-2,4], obstacles = [[2,4]]))"
   ]
  },
  {
   "cell_type": "markdown",
   "metadata": {},
   "source": [
    "time limit exceed!!\n",
    "\n",
    "use tuple!!!\n",
    "\n",
    "use set!!!"
   ]
  },
  {
   "cell_type": "markdown",
   "metadata": {},
   "source": [
    " python：为什么Tuple操作速度比List快\n",
    "\n",
    "\n",
    "Dive into python中说道Tuple是不可变的List，一旦创建了一个Tuple，就不能以任何方式改变它。但是Tuple 比 list 操作速度快。如果您定义了一个值的常量集，并且唯一要用它做的是不断地遍历它，请使用 tuple 代替 list。\n",
    "\n",
    "大概有以下几个要点：\n",
    "\n",
    "1、tuple中是不可变的，在CPython中tuple被存储在一块固定连续的内存中，创建tuple的时候只需要一次性分配内存。但是List被的被存储在两块内存中，一块内存固定大小，记录着Python Object（某个list对象）的信息，另一块是不固定大小的内存，用来存储数据。所以，查找时tuple可以快速定位（C中的数组）；list必须遍历（C中的链表）。在编译中，由于Tuple是不可变的，python编译器将它存储在它所在的函数或者模块的“常量表”（constants table）中。运行时，只要找到这些预构建的常量元组。但是List是可变的，必须在运行中构建，分配内存。\n",
    "\n",
    "3、当Tuple的元素是List的时候，它只存储list的引用，（C中定长数组里一个元素是指向某个链表的指针），定位查找时它还是会比List快\n",
    "\n",
    "4、CPython中已经做了相关优化以减少内存分配次数：释放一个List对象的时候，它的内存会被保存在一个自由List中以重复使用。不过非空list的创建时，仍然需要给它分配内存存储数据。"
   ]
  },
  {
   "cell_type": "code",
   "execution_count": null,
   "metadata": {
    "collapsed": true
   },
   "outputs": [],
   "source": []
  }
 ],
 "metadata": {
  "anaconda-cloud": {},
  "kernelspec": {
   "display_name": "Python [conda root]",
   "language": "python",
   "name": "conda-root-py"
  },
  "language_info": {
   "codemirror_mode": {
    "name": "ipython",
    "version": 3
   },
   "file_extension": ".py",
   "mimetype": "text/x-python",
   "name": "python",
   "nbconvert_exporter": "python",
   "pygments_lexer": "ipython3",
   "version": "3.5.2"
  }
 },
 "nbformat": 4,
 "nbformat_minor": 2
}
