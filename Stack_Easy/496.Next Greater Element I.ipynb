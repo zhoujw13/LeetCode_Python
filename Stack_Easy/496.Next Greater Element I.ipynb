{
 "cells": [
  {
   "cell_type": "code",
   "execution_count": 1,
   "metadata": {
    "collapsed": true
   },
   "outputs": [],
   "source": [
    "# 496.Next Greater Element I"
   ]
  },
  {
   "cell_type": "code",
   "execution_count": 2,
   "metadata": {
    "collapsed": true
   },
   "outputs": [],
   "source": [
    "class Solution:\n",
    "    def nextGreaterElement(self, nums1, nums2):\n",
    "        \"\"\"\n",
    "        :type nums1: List[int]\n",
    "        :type nums2: List[int]\n",
    "        :rtype: List[int]\n",
    "        \"\"\"\n",
    "        st = []\n",
    "        cache ={}\n",
    "        for i in nums2:\n",
    "            if len(st) ==0:\n",
    "                st.append(i)\n",
    "            elif i <= st[-1]:\n",
    "                st.append(i)\n",
    "            else:\n",
    "                while st and st[-1]<i:\n",
    "                    cache[st.pop()] = i\n",
    "                st.append(i)\n",
    "        result = []\n",
    "        for i in nums1:\n",
    "            if i in cache:\n",
    "                result.append(cache[i])\n",
    "            else:\n",
    "                result.append(-1)\n",
    "        return result\n",
    "                \n",
    "                    \n",
    "                "
   ]
  },
  {
   "cell_type": "markdown",
   "metadata": {},
   "source": [
    "\n",
    "\n",
    "给两个数组findNums和nums，返回一个和findNums等长的数组，其返回的内容为：对于findNums[i]，返回的result[i]为nums[i]数组中，findNums[i]的后面的元素中第一个比findNums[i]大的元素。如果不存在这样的元素就写-1。其中findNums数组是nums数组的子数组～\n",
    "--------------------- \n",
    "作者：柳婼 \n",
    "来源：CSDN \n",
    "原文：https://blog.csdn.net/liuchuo/article/details/54948152 \n",
    "版权声明：本文为博主原创文章，转载请附上博文链接！"
   ]
  },
  {
   "cell_type": "code",
   "execution_count": null,
   "metadata": {
    "collapsed": true
   },
   "outputs": [],
   "source": [
    "class Solution(object):\n",
    "    def nextGreaterElement(self, findNums, nums):\n",
    "        \"\"\"\n",
    "        :type findNums: List[int]\n",
    "        :type nums: List[int]\n",
    "        :rtype: List[int]\n",
    "        \"\"\"\n",
    "        cache, st = {}, []\n",
    "        for x in nums:\n",
    "            if len(st) == 0:\n",
    "                st.append(x)\n",
    "            elif x <= st[-1]:\n",
    "                st.append(x)\n",
    "            else:\n",
    "                while st and st[-1] < x:\n",
    "                    cache[st.pop()] = x\n",
    "                st.append(x)\n",
    "        result = []\n",
    "        for x in findNums:\n",
    "            if x in cache:\n",
    "                result.append(cache[x])\n",
    "            else:\n",
    "                result.append(-1)\n",
    "        return result"
   ]
  }
 ],
 "metadata": {
  "anaconda-cloud": {},
  "kernelspec": {
   "display_name": "Python [conda root]",
   "language": "python",
   "name": "conda-root-py"
  },
  "language_info": {
   "codemirror_mode": {
    "name": "ipython",
    "version": 3
   },
   "file_extension": ".py",
   "mimetype": "text/x-python",
   "name": "python",
   "nbconvert_exporter": "python",
   "pygments_lexer": "ipython3",
   "version": "3.5.2"
  }
 },
 "nbformat": 4,
 "nbformat_minor": 2
}
