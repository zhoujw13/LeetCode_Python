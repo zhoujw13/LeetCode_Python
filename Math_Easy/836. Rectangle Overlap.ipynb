{
 "cells": [
  {
   "cell_type": "code",
   "execution_count": 1,
   "metadata": {
    "collapsed": true
   },
   "outputs": [],
   "source": [
    "# 836. Rectangle Overlap"
   ]
  },
  {
   "cell_type": "code",
   "execution_count": 8,
   "metadata": {
    "collapsed": true
   },
   "outputs": [],
   "source": [
    "class Solution:\n",
    "    def isRectangleOverlap(self, rec1, rec2):\n",
    "        \"\"\"\n",
    "        :type rec1: List[int]\n",
    "        :type rec2: List[int]\n",
    "        :rtype: bool\n",
    "        \"\"\"\n",
    "        \n",
    "        A = rec2[0:2]\n",
    "        C = rec2[2:]\n",
    "        B = [rec2[0],rec2[3]]\n",
    "        D = [rec2[2],rec2[1]]\n",
    "        \n",
    "        if rec1[0]<=A[0]<rec1[2] and rec1[1]<=A[1]<rec1[3]:\n",
    "            return True\n",
    "        elif rec1[0]<=B[0]<rec1[2] and rec1[1]<B[1]<=rec1[3]:\n",
    "            return True\n",
    "        elif rec1[0]<C[0]<=rec1[2] and rec1[1]<C[1]<=rec1[3]:\n",
    "            return True\n",
    "        elif rec1[0]<D[0]<=rec1[2] and rec1[1]<=D[1]<rec1[3]:\n",
    "            return True\n",
    "        return False"
   ]
  },
  {
   "cell_type": "code",
   "execution_count": 9,
   "metadata": {
    "collapsed": false
   },
   "outputs": [
    {
     "name": "stdout",
     "output_type": "stream",
     "text": [
      "False\n"
     ]
    }
   ],
   "source": [
    "\n",
    "\n",
    "print(Solution().isRectangleOverlap( rec1 = [0,0,1,1], rec2 = [1,0,2,1]))"
   ]
  },
  {
   "cell_type": "markdown",
   "metadata": {},
   "source": [
    "the above method still wrong!!!!\n",
    "\n",
    "the right thought is:\n",
    "\n",
    "x1<x4 x3<x2 y1<y4 y3<y2\n",
    "\n",
    "always no matter in which situation!!!!"
   ]
  },
  {
   "cell_type": "code",
   "execution_count": 10,
   "metadata": {
    "collapsed": true
   },
   "outputs": [],
   "source": [
    "class Solution:\n",
    "    def isRectangleOverlap(self, rec1, rec2):\n",
    "        \"\"\"\n",
    "        :type rec1: List[int]\n",
    "        :type rec2: List[int]\n",
    "        :rtype: bool\n",
    "        \"\"\"\n",
    "        \n",
    "        return rec1[0] < rec2[2] and rec2[0] < rec1[2] and rec1[1] < rec2[3] and rec2[1] < rec1[3]"
   ]
  },
  {
   "cell_type": "code",
   "execution_count": 11,
   "metadata": {
    "collapsed": false
   },
   "outputs": [
    {
     "name": "stdout",
     "output_type": "stream",
     "text": [
      "False\n"
     ]
    }
   ],
   "source": [
    "print(Solution().isRectangleOverlap( rec1 = [0,0,1,1], rec2 = [1,0,2,1]))"
   ]
  },
  {
   "cell_type": "markdown",
   "metadata": {},
   "source": [
    "After i read some discusstion \n",
    "\n",
    "i have an idea \n",
    "\n",
    "and it is right :\n",
    "\n",
    "there must exits one point(x,y) which satisfies:\n",
    "\n",
    "(x,y) is in rec1(x1y1x2y2) , and is in rec2(xx3y3x4y4) . so:\n",
    "\n",
    "x1<x<x2,y1<y<y2,x3<x<x4,y3<y<y4\n",
    "\n",
    "==equal to \n",
    "\n",
    "max(x1,x3)<min(x2,x4),max(y1,y3)<min(y2,y4) only then (x,y) exits"
   ]
  },
  {
   "cell_type": "code",
   "execution_count": 12,
   "metadata": {
    "collapsed": true
   },
   "outputs": [],
   "source": [
    "class Solution:\n",
    "    def isRectangleOverlap(self, rec1, rec2):\n",
    "        \"\"\"\n",
    "        :type rec1: List[int]\n",
    "        :type rec2: List[int]\n",
    "        :rtype: bool\n",
    "        \"\"\"\n",
    "        \n",
    "        return max(rec1[0],rec2[0])<min(rec1[2],rec2[2]) and max(rec1[1],rec2[1])<min(rec1[3],rec2[3])"
   ]
  },
  {
   "cell_type": "code",
   "execution_count": 13,
   "metadata": {
    "collapsed": false
   },
   "outputs": [
    {
     "name": "stdout",
     "output_type": "stream",
     "text": [
      "False\n"
     ]
    }
   ],
   "source": [
    "print(Solution().isRectangleOverlap( rec1 = [0,0,1,1], rec2 = [1,0,2,1]))"
   ]
  },
  {
   "cell_type": "code",
   "execution_count": null,
   "metadata": {
    "collapsed": true
   },
   "outputs": [],
   "source": []
  }
 ],
 "metadata": {
  "anaconda-cloud": {},
  "kernelspec": {
   "display_name": "Python [conda root]",
   "language": "python",
   "name": "conda-root-py"
  },
  "language_info": {
   "codemirror_mode": {
    "name": "ipython",
    "version": 3
   },
   "file_extension": ".py",
   "mimetype": "text/x-python",
   "name": "python",
   "nbconvert_exporter": "python",
   "pygments_lexer": "ipython3",
   "version": "3.5.2"
  }
 },
 "nbformat": 4,
 "nbformat_minor": 2
}
