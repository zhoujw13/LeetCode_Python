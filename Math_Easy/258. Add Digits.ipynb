{
 "cells": [
  {
   "cell_type": "code",
   "execution_count": 1,
   "metadata": {
    "collapsed": true
   },
   "outputs": [],
   "source": [
    "# 258. Add Digits"
   ]
  },
  {
   "cell_type": "code",
   "execution_count": 4,
   "metadata": {
    "collapsed": true
   },
   "outputs": [],
   "source": [
    "class Solution:\n",
    "    def addDigits(self, num):\n",
    "        \"\"\"\n",
    "        :type num: int\n",
    "        :rtype: int\n",
    "        \"\"\"\n",
    "\n",
    "        s = str(num)\n",
    "        num = 0\n",
    "        for i in s:\n",
    "            num = num +int(i)\n",
    "        if num<10:\n",
    "            return num\n",
    "        return self.addDigits(num)"
   ]
  },
  {
   "cell_type": "code",
   "execution_count": 7,
   "metadata": {
    "collapsed": false
   },
   "outputs": [
    {
     "name": "stdout",
     "output_type": "stream",
     "text": [
      "2\n"
     ]
    }
   ],
   "source": [
    "print(Solution().addDigits(11))"
   ]
  },
  {
   "cell_type": "markdown",
   "metadata": {},
   "source": [
    "Follow up:\n",
    "    \n",
    "Could you do it without any loop/recursion in O(1) runtime?"
   ]
  },
  {
   "cell_type": "markdown",
   "metadata": {},
   "source": [
    "    Digital Root\n",
    "\n",
    "this method depends on the truth:\n",
    "\n",
    "N=(a[0] * 1 + a[1] * 10 + ...a[n] * 10 ^n),and a[0]...a[n] are all between [0,9]\n",
    "\n",
    "we set M = a[0] + a[1] + ..a[n]\n",
    "\n",
    "and another truth is that:\n",
    "\n",
    "1 % 9 = 1\n",
    "\n",
    "10 % 9 = 1\n",
    "\n",
    "100 % 9 = 1\n",
    "\n",
    "so N % 9 = a[0] + a[1] + ..a[n]\n",
    "\n",
    "means N % 9 = M\n",
    "\n",
    "so N % 9= M % 9 !!!!!!!that is amazing!!! (Zoe)\n",
    "\n",
    "as 9 % 9 = 0,so we can make (n - 1) % 9 + 1 to help us solve the problem when n is 9.as N is 9, ( 9 - 1) % 9 + 1 = 9"
   ]
  },
  {
   "cell_type": "code",
   "execution_count": 8,
   "metadata": {
    "collapsed": true
   },
   "outputs": [],
   "source": [
    "class Solution:\n",
    "    def addDigits(self, num):\n",
    "        \"\"\"\n",
    "        :type num: int\n",
    "        :rtype: int\n",
    "        \"\"\"\n",
    "        \n",
    "        if num==0:\n",
    "            return 0\n",
    "        return (num-1)%9+1"
   ]
  },
  {
   "cell_type": "markdown",
   "metadata": {},
   "source": [
    "同余定理\n",
    "\n",
    "定理1  整数a,b对模m同余的充要条件是 a-b能被m整除（即m|a-b）。\n",
    "\n",
    "定理2  同余关系具有反身性、对称性与传递性，即\n",
    "\n",
    "1）a≡a (mod m);\n",
    "\n",
    "2）若a≡b (mod m), 则b≡a (mod m);\n",
    "\n",
    "3）若a≡b (mod m), b≡c (mod m)，则a≡c (mod m).\n",
    "\n",
    "定理3 若a≡b(mod m), c≡d (mod m),则\n",
    "\n",
    "1）a+c≡b+d (mod m);\n",
    "\n",
    "2）a-c≡b-d (mod m);\n",
    "\n",
    "3）ac≡bd (mod m).\n",
    "\n",
    "多于两个的同模同余式也能够进行加减乘运算。对于乘法还有下面的推论：\n",
    "\n",
    "推论  若a≡b(mod m),n为自然数，则an≡bn (mod m)。\n",
    "\n",
    "定理4 若ca≡cb(mod m), (c,m)=d, 且a,b为整数，则a≡b(mod m/d).\n",
    "\n",
    "推论若ca=cb(mod m), (c,m)=1,且a,b为整数，则a≡b(mod m).\n",
    "\n",
    "定理5 若a≡b (mod m),a≡b (mod n),则a≡b(mod [m,n]).\n",
    "\n",
    "推论若a≡b(mod mi), i=1,2,…,n，则a≡b (mod [m1,m2,..,mn]).\n",
    "\n",
    "https://www.cnblogs.com/zhixingqiezhixing/archive/2012/04/03/2430676.html"
   ]
  },
  {
   "cell_type": "code",
   "execution_count": null,
   "metadata": {
    "collapsed": true
   },
   "outputs": [],
   "source": []
  }
 ],
 "metadata": {
  "anaconda-cloud": {},
  "kernelspec": {
   "display_name": "Python [conda root]",
   "language": "python",
   "name": "conda-root-py"
  },
  "language_info": {
   "codemirror_mode": {
    "name": "ipython",
    "version": 3
   },
   "file_extension": ".py",
   "mimetype": "text/x-python",
   "name": "python",
   "nbconvert_exporter": "python",
   "pygments_lexer": "ipython3",
   "version": "3.5.2"
  }
 },
 "nbformat": 4,
 "nbformat_minor": 2
}
