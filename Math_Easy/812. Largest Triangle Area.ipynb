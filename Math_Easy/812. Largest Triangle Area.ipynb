{
 "cells": [
  {
   "cell_type": "code",
   "execution_count": null,
   "metadata": {
    "collapsed": true
   },
   "outputs": [],
   "source": [
    "# 812. Largest Triangle Area"
   ]
  },
  {
   "cell_type": "markdown",
   "metadata": {},
   "source": [
    "about triangle area:\n",
    "\n",
    "S = 0.5|x1y2+x2y3+x3y1-x1y3-x2y1-x3y2|\n",
    "\n",
    "see discussion section"
   ]
  },
  {
   "cell_type": "markdown",
   "metadata": {},
   "source": [
    "itertools\n",
    "\n",
    "itertools.combinations(iterable, r)\n",
    "\n",
    "创建一个迭代器，返回iterable中所有长度为r的子序列，返回的子序列中的项按输入iterable中的顺序排序 (不带重复)\n",
    "\n",
    "Python itertools模块详解\n",
    "\n",
    "https://www.cnblogs.com/fengshuihuan/p/7105545.html"
   ]
  },
  {
   "cell_type": "code",
   "execution_count": 5,
   "metadata": {
    "collapsed": true
   },
   "outputs": [],
   "source": [
    "class Solution:\n",
    "    def largestTriangleArea(self, points):\n",
    "        \"\"\"\n",
    "        :type points: List[List[int]]\n",
    "        :rtype: float\n",
    "        \"\"\"\n",
    "        import math\n",
    "        n = len(points)\n",
    "        maxarea  = 0\n",
    "        for i in range(n-2):\n",
    "            for j in range(i,n-1):\n",
    "                for k in range(j,n):\n",
    "                    s=abs(0.5*(points[i][0]*(points[j][1]-points[k][1])+points[j][0]*(points[k][1]-points[i][1])\n",
    "                               +points[k][0]*(points[i][1]-points[j][1])))\n",
    "                    maxarea = max(maxarea,s)\n",
    "        return maxarea\n",
    "                          \n",
    "                "
   ]
  },
  {
   "cell_type": "code",
   "execution_count": 3,
   "metadata": {
    "collapsed": false
   },
   "outputs": [
    {
     "name": "stdout",
     "output_type": "stream",
     "text": [
      "2.0\n"
     ]
    }
   ],
   "source": [
    "print(Solution().largestTriangleArea( [[0,0],[0,1],[1,0],[0,2],[2,0]]))"
   ]
  },
  {
   "cell_type": "code",
   "execution_count": 10,
   "metadata": {
    "collapsed": true
   },
   "outputs": [],
   "source": [
    "class Solution:\n",
    "    def largestTriangleArea(self, points):\n",
    "        \"\"\"\n",
    "        :type points: List[List[int]]\n",
    "        :rtype: float\n",
    "        \"\"\"\n",
    "        import itertools\n",
    "        return max(0.5 * abs(i[0] * j[1] + j[0] * k[1] + k[0] * i[1]- j[0] * i[1] - k[0] * j[1] - i[0] * k[1])\n",
    "            for i, j, k in itertools.combinations(points, 3))"
   ]
  },
  {
   "cell_type": "code",
   "execution_count": 11,
   "metadata": {
    "collapsed": false
   },
   "outputs": [
    {
     "name": "stdout",
     "output_type": "stream",
     "text": [
      "2.0\n"
     ]
    }
   ],
   "source": [
    "print(Solution().largestTriangleArea( [[0,0],[0,1],[1,0],[0,2],[2,0]]))"
   ]
  },
  {
   "cell_type": "code",
   "execution_count": null,
   "metadata": {
    "collapsed": true
   },
   "outputs": [],
   "source": []
  }
 ],
 "metadata": {
  "anaconda-cloud": {},
  "kernelspec": {
   "display_name": "Python [conda root]",
   "language": "python",
   "name": "conda-root-py"
  },
  "language_info": {
   "codemirror_mode": {
    "name": "ipython",
    "version": 3
   },
   "file_extension": ".py",
   "mimetype": "text/x-python",
   "name": "python",
   "nbconvert_exporter": "python",
   "pygments_lexer": "ipython3",
   "version": "3.5.2"
  }
 },
 "nbformat": 4,
 "nbformat_minor": 2
}
