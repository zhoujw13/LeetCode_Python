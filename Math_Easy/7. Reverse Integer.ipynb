{
 "cells": [
  {
   "cell_type": "code",
   "execution_count": 1,
   "metadata": {
    "collapsed": true
   },
   "outputs": [],
   "source": [
    "# 7. Reverse Integer"
   ]
  },
  {
   "cell_type": "code",
   "execution_count": 13,
   "metadata": {
    "collapsed": false
   },
   "outputs": [],
   "source": [
    "class Solution:\n",
    "    def reverse(self, x):\n",
    "        \"\"\"\n",
    "        :type x: int\n",
    "        :rtype: int\n",
    "        \"\"\"\n",
    "        if x>2**31-1 or x< -2**31:\n",
    "            return 0\n",
    "        \n",
    "        negative = False\n",
    "        num = []\n",
    "        if x<0:\n",
    "            x=abs(x)\n",
    "            negative = True\n",
    "        while x:\n",
    "            num = num + [x%10]\n",
    "            x = x//10\n",
    "        y=0\n",
    "        for i in num:\n",
    "            y = 10*y +i\n",
    "        if negative:\n",
    "            return -y\n",
    "        return y\n",
    "    '''\n",
    "    number big overflow\n",
    "    wrong answer\n",
    "    '''"
   ]
  },
  {
   "cell_type": "code",
   "execution_count": 14,
   "metadata": {
    "collapsed": false
   },
   "outputs": [
    {
     "name": "stdout",
     "output_type": "stream",
     "text": [
      "432932\n"
     ]
    }
   ],
   "source": [
    "num = 23923400\n",
    "print(Solution().reverse(num))"
   ]
  },
  {
   "cell_type": "code",
   "execution_count": 3,
   "metadata": {
    "collapsed": false
   },
   "outputs": [
    {
     "data": {
      "text/plain": [
       "-1"
      ]
     },
     "execution_count": 3,
     "metadata": {},
     "output_type": "execute_result"
    }
   ],
   "source": [
    "-1//10"
   ]
  },
  {
   "cell_type": "code",
   "execution_count": null,
   "metadata": {
    "collapsed": true
   },
   "outputs": [],
   "source": [
    "class Solution:\n",
    "    def reverse(self, x):\n",
    "        \"\"\"\n",
    "        :type x: int\n",
    "        :rtype: int\n",
    "        \"\"\"\n",
    "        if x>2**31-1 or x< -2**31:\n",
    "            return 0\n",
    "        \n",
    "        negative = False\n",
    "        num = []\n",
    "        if x<0:\n",
    "            x=abs(x)\n",
    "            negative = True\n",
    "        while x:\n",
    "            num = num + [x%10]\n",
    "            x = x//10\n",
    "        y=0\n",
    "        for i in num:\n",
    "            y = 10*y +i\n",
    "        if negative:\n",
    "            y= -y\n",
    "            \n",
    "        if y>2**31-1 or y< -2**31:\n",
    "            return 0\n",
    "        return y \n",
    "    \n",
    "    '''\n",
    "    this work!\n",
    "    '''"
   ]
  },
  {
   "cell_type": "code",
   "execution_count": 20,
   "metadata": {
    "collapsed": false
   },
   "outputs": [
    {
     "name": "stdout",
     "output_type": "stream",
     "text": [
      "9999999991\n"
     ]
    }
   ],
   "source": [
    "num = 1999999999\n",
    "print(Solution().reverse(num))"
   ]
  },
  {
   "cell_type": "code",
   "execution_count": 4,
   "metadata": {
    "collapsed": false
   },
   "outputs": [
    {
     "data": {
      "text/plain": [
       "-3"
      ]
     },
     "execution_count": 4,
     "metadata": {},
     "output_type": "execute_result"
    }
   ],
   "source": [
    "-21//10"
   ]
  },
  {
   "cell_type": "code",
   "execution_count": 7,
   "metadata": {
    "collapsed": false
   },
   "outputs": [],
   "source": [
    "x=123\n",
    "num = []\n",
    "while x:\n",
    "    num = num + [x%10]\n",
    "    x = x//10"
   ]
  },
  {
   "cell_type": "code",
   "execution_count": 8,
   "metadata": {
    "collapsed": false
   },
   "outputs": [
    {
     "data": {
      "text/plain": [
       "[3, 2, 1]"
      ]
     },
     "execution_count": 8,
     "metadata": {},
     "output_type": "execute_result"
    }
   ],
   "source": [
    "num "
   ]
  },
  {
   "cell_type": "code",
   "execution_count": 28,
   "metadata": {
    "collapsed": false
   },
   "outputs": [
    {
     "data": {
      "text/plain": [
       "4321"
      ]
     },
     "execution_count": 28,
     "metadata": {},
     "output_type": "execute_result"
    }
   ],
   "source": [
    "x=12340\n",
    "int(str(x)[::-1])\n",
    "'''\n",
    "this also work\n",
    "'''"
   ]
  },
  {
   "cell_type": "code",
   "execution_count": null,
   "metadata": {
    "collapsed": true
   },
   "outputs": [],
   "source": []
  }
 ],
 "metadata": {
  "anaconda-cloud": {},
  "kernelspec": {
   "display_name": "Python [conda root]",
   "language": "python",
   "name": "conda-root-py"
  },
  "language_info": {
   "codemirror_mode": {
    "name": "ipython",
    "version": 3
   },
   "file_extension": ".py",
   "mimetype": "text/x-python",
   "name": "python",
   "nbconvert_exporter": "python",
   "pygments_lexer": "ipython3",
   "version": "3.5.2"
  }
 },
 "nbformat": 4,
 "nbformat_minor": 2
}
