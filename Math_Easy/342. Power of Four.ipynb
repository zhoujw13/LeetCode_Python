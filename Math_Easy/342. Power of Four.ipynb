{
 "cells": [
  {
   "cell_type": "code",
   "execution_count": 1,
   "metadata": {
    "collapsed": true
   },
   "outputs": [],
   "source": [
    "# 342. Power of Four\n",
    "# 20181006"
   ]
  },
  {
   "cell_type": "markdown",
   "metadata": {},
   "source": [
    "2、判断是不是4的幂\n",
    "\n",
    "4的幂首先是2的幂，因为4^n = (2^2)^n，所以4的幂的二进制同样只有一个1，与2的幂不同的是，4的幂的二进制的1在偶数位上，所以判断一个数是不是4的幂的方式为：\n",
    "\n",
    "1）首先判断是不是2的幂，使用 n & (n-1)  ==0yes\n",
    "\n",
    "2）进一步判断与0x55555555的按位与结果，0x55555555是用十六进制表示的数，其奇数位上全是1，偶数位上全是0，判断 \n",
    "n & 0x55555555 !=0 yes\n",
    "\n",
    "---------------------\n",
    "\n",
    "本文来自 小白的学习笔记 的CSDN 博客 ，全文地址请点击：https://blog.csdn.net/x_i_y_u_e/article/details/50507281?utm_source=copy "
   ]
  },
  {
   "cell_type": "code",
   "execution_count": 11,
   "metadata": {
    "collapsed": true
   },
   "outputs": [],
   "source": [
    "class Solution:\n",
    "    def isPowerOfFour(self, num):\n",
    "        \"\"\"\n",
    "        :type num: int\n",
    "        :rtype: bool\n",
    "        \"\"\"\n",
    "        if num>0 and num &(num-1)==0 and num &(0x55555555)!=0:\n",
    "            return True\n",
    "        return False\n",
    "        "
   ]
  },
  {
   "cell_type": "code",
   "execution_count": 12,
   "metadata": {
    "collapsed": false
   },
   "outputs": [
    {
     "name": "stdout",
     "output_type": "stream",
     "text": [
      "False\n"
     ]
    }
   ],
   "source": [
    "print(Solution().isPowerOfFour(8))"
   ]
  },
  {
   "cell_type": "code",
   "execution_count": null,
   "metadata": {
    "collapsed": true
   },
   "outputs": [],
   "source": []
  }
 ],
 "metadata": {
  "anaconda-cloud": {},
  "kernelspec": {
   "display_name": "Python [conda root]",
   "language": "python",
   "name": "conda-root-py"
  },
  "language_info": {
   "codemirror_mode": {
    "name": "ipython",
    "version": 3
   },
   "file_extension": ".py",
   "mimetype": "text/x-python",
   "name": "python",
   "nbconvert_exporter": "python",
   "pygments_lexer": "ipython3",
   "version": "3.5.2"
  }
 },
 "nbformat": 4,
 "nbformat_minor": 2
}
