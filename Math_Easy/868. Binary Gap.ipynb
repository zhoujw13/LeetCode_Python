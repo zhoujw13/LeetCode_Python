{
 "cells": [
  {
   "cell_type": "code",
   "execution_count": 4,
   "metadata": {
    "collapsed": true
   },
   "outputs": [],
   "source": [
    "# 868. Binary Gap"
   ]
  },
  {
   "cell_type": "markdown",
   "metadata": {},
   "source": [
    "Python 内置函数进制转换的用法(十进制转二进制、八进制、十六进制)\n",
    "\n",
    "https://www.jb51.net/article/139206.htm\n",
    "\n",
    "↓ \t2进制 \t8进制 \t10进制 \t16进制\n",
    "\n",
    "2进制 \t- \tbin(int(x, 8)) \tbin(int(x, 10)) \tbin(int(x, 16))\n",
    "\n",
    "8进制 \toct(int(x, 2)) \t- \toct(int(x, 10)) \toct(int(x, 16))\n",
    "\n",
    "10进制 \tint(x, 2) \tint(x, 8) \t- \tint(x, 16)\n",
    "\n",
    "16进制 \thex(int(x, 2)) \thex(int(x, 8)) \thex(int(x, 10)) \t-\n"
   ]
  },
  {
   "cell_type": "code",
   "execution_count": 21,
   "metadata": {
    "collapsed": false
   },
   "outputs": [],
   "source": [
    "class Solution:\n",
    "    def binaryGap(self, N):\n",
    "        \"\"\"\n",
    "        :type N: int\n",
    "        :rtype: int\n",
    "        \"\"\"\n",
    "        import string\n",
    "        s = bin(N)[2:]\n",
    "        l = s.split('1')\n",
    "        #print(l)\n",
    "        if len(l)<=2:\n",
    "            return 0\n",
    "        return max(len(i)+1 for i in l[1:-1])"
   ]
  },
  {
   "cell_type": "code",
   "execution_count": 22,
   "metadata": {
    "collapsed": false
   },
   "outputs": [
    {
     "data": {
      "text/plain": [
       "'0b101'"
      ]
     },
     "execution_count": 22,
     "metadata": {},
     "output_type": "execute_result"
    }
   ],
   "source": [
    "bin(5)"
   ]
  },
  {
   "cell_type": "code",
   "execution_count": 25,
   "metadata": {
    "collapsed": false
   },
   "outputs": [
    {
     "name": "stdout",
     "output_type": "stream",
     "text": [
      "['', '', '0']\n",
      "1\n"
     ]
    }
   ],
   "source": [
    "print(Solution().binaryGap(6))"
   ]
  },
  {
   "cell_type": "code",
   "execution_count": null,
   "metadata": {
    "collapsed": true
   },
   "outputs": [],
   "source": []
  }
 ],
 "metadata": {
  "anaconda-cloud": {},
  "kernelspec": {
   "display_name": "Python [conda root]",
   "language": "python",
   "name": "conda-root-py"
  },
  "language_info": {
   "codemirror_mode": {
    "name": "ipython",
    "version": 3
   },
   "file_extension": ".py",
   "mimetype": "text/x-python",
   "name": "python",
   "nbconvert_exporter": "python",
   "pygments_lexer": "ipython3",
   "version": "3.5.2"
  }
 },
 "nbformat": 4,
 "nbformat_minor": 2
}
