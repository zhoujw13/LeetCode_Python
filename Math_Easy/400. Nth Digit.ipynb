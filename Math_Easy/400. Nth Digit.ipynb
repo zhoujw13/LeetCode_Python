{
 "cells": [
  {
   "cell_type": "markdown",
   "metadata": {},
   "source": [
    "# 400. Nth Digit"
   ]
  },
  {
   "cell_type": "markdown",
   "metadata": {},
   "source": [
    "20181007\n",
    "\n",
    "9个1位数\n",
    "\n",
    "99个2位数\n",
    "\n",
    "999个3位数\n",
    "\n",
    "》》》》\n",
    "\n",
    "先找到最接近的99999.....然后计算剩余的部分\n",
    "\n",
    "感觉自己数学和逻辑思考能力掉线太严重了！！！！！\n",
    "\n",
    "但是七绕八绕的我还是成功啦！！"
   ]
  },
  {
   "cell_type": "code",
   "execution_count": 66,
   "metadata": {},
   "outputs": [],
   "source": [
    "class Solution:\n",
    "    def findNthDigit(self, n):\n",
    "        \"\"\"\n",
    "        :type n: int\n",
    "        :rtype: int\n",
    "        \"\"\"\n",
    "        i=1\n",
    "        num = 0\n",
    "        count = 0\n",
    "        num_before = 0\n",
    "        count_before = 0\n",
    "        while(count<n):\n",
    "            num_before = num\n",
    "            count_before = count\n",
    "            count = count +9 * i * (10**(i-1))\n",
    "            num =num+(10**(i-1) )*9\n",
    "            i=i+1\n",
    "        \n",
    "        i=i-1\n",
    "        \n",
    "        #print(count_before,num_before,i)\n",
    "\n",
    "        time = (n - count_before)// i\n",
    "        left = (n-count_before)%i\n",
    "        print(time,left,num_before)\n",
    "        if left ==0:\n",
    "            true_num = num_before+time\n",
    "            res = int (str(true_num)[-1])\n",
    "        else:\n",
    "            true_num = num_before+time+1\n",
    "            #print(true_num)\n",
    "            res = int( str(true_num)[left-1])\n",
    "            #print(true_num)\n",
    "           # res = int(str(true_num[i]))\n",
    "        \n",
    "        return res\n",
    "        "
   ]
  },
  {
   "cell_type": "code",
   "execution_count": 67,
   "metadata": {},
   "outputs": [
    {
     "name": "stdout",
     "output_type": "stream",
     "text": [
      "1 0 0\n",
      "1\n"
     ]
    }
   ],
   "source": [
    "print(Solution().findNthDigit(1))"
   ]
  },
  {
   "cell_type": "code",
   "execution_count": null,
   "metadata": {},
   "outputs": [],
   "source": []
  }
 ],
 "metadata": {
  "kernelspec": {
   "display_name": "Python 3",
   "language": "python",
   "name": "python3"
  },
  "language_info": {
   "codemirror_mode": {
    "name": "ipython",
    "version": 3
   },
   "file_extension": ".py",
   "mimetype": "text/x-python",
   "name": "python",
   "nbconvert_exporter": "python",
   "pygments_lexer": "ipython3",
   "version": "3.6.5"
  }
 },
 "nbformat": 4,
 "nbformat_minor": 2
}
