{
 "cells": [
  {
   "cell_type": "code",
   "execution_count": null,
   "metadata": {},
   "outputs": [],
   "source": [
    "# 415. Add Strings"
   ]
  },
  {
   "cell_type": "code",
   "execution_count": 25,
   "metadata": {},
   "outputs": [],
   "source": [
    "class Solution:\n",
    "    def addStrings(self, num1, num2):\n",
    "        \"\"\"\n",
    "        :type num1: str\n",
    "        :type num2: str\n",
    "        :rtype: str\n",
    "        \"\"\"\n",
    "    \n",
    "        res = ''\n",
    "        l1= len(num1)\n",
    "        l2=len(num2)\n",
    "        l= max(l1,l2)\n",
    "        ans = 0\n",
    "        count = 0\n",
    "        if l1>l2:\n",
    "            num2 = '0'*(l1-l2)+num2\n",
    "            print(num2)\n",
    "        else:\n",
    "            num1 = '0'*(l2-l1)+num1\n",
    "            print(num1)\n",
    "            \n",
    "        for i in range(l) :\n",
    "            ans = (int(num1[l-i-1])+int(num2[l-i-1])+count)%10\n",
    "            count = (int(num1[l-i-1])+int(num2[l-i-1])+count)//10\n",
    "            res = str(ans)+res\n",
    "        \n",
    "        if count ==0:\n",
    "            return res\n",
    "        return str(count)+res"
   ]
  },
  {
   "cell_type": "code",
   "execution_count": 29,
   "metadata": {},
   "outputs": [
    {
     "name": "stdout",
     "output_type": "stream",
     "text": [
      "923\n",
      "1415\n"
     ]
    }
   ],
   "source": [
    "num1='923'\n",
    "num2='492'\n",
    "print(Solution().addStrings(num1,num2))"
   ]
  },
  {
   "cell_type": "markdown",
   "metadata": {},
   "source": [
    "思路记录：\n",
    "\n",
    "方一：把两个字符串补成相同长度的然后从后往前依次相加 注意进位问题\n",
    "\n",
    "方二：从后往前相加然后把剩下的没有被加的直接补在前面  注意进位问题\n",
    "\n",
    "方三：两个字符串都转化为数字，相加后再转回字符串"
   ]
  },
  {
   "cell_type": "code",
   "execution_count": null,
   "metadata": {},
   "outputs": [],
   "source": []
  }
 ],
 "metadata": {
  "kernelspec": {
   "display_name": "Python 3",
   "language": "python",
   "name": "python3"
  },
  "language_info": {
   "codemirror_mode": {
    "name": "ipython",
    "version": 3
   },
   "file_extension": ".py",
   "mimetype": "text/x-python",
   "name": "python",
   "nbconvert_exporter": "python",
   "pygments_lexer": "ipython3",
   "version": "3.6.5"
  }
 },
 "nbformat": 4,
 "nbformat_minor": 2
}
