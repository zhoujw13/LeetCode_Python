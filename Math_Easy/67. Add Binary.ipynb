{
 "cells": [
  {
   "cell_type": "code",
   "execution_count": 1,
   "metadata": {
    "collapsed": true
   },
   "outputs": [],
   "source": [
    "# 67. Add Binary"
   ]
  },
  {
   "cell_type": "markdown",
   "metadata": {},
   "source": [
    "Python是一门非常简洁的语言，对于数据类型的表示，不像其他语言预定义了许多类型（如：在C#中，光整型就定义了8种），它只定义了六种基本类型：字符串，整数，浮点数，元组，列表，字典。通过这六种数据类型，\n",
    "\n",
    "Python中没有二进制类型，但是可以使用string字符串类型来存储二进制数据，然后使用struct模块来对二进制数据进行处理。\n",
    "\n",
    "python的操作中，只要在数字前面加上0b的字符，就可以用二进制来表示十进制数了\n",
    "\n",
    "int(x, [base])\n",
    "\n",
    "作用：\n",
    "\n",
    "将一个数字或base类型的字符串转换成整数。\n",
    "\n",
    "int(x=0)\n",
    "\n",
    "int(x, base=10)，base缺省值为10，也就是说不指定base的值时，函数将x按十进制处理。\n",
    "\n",
    "注：\n",
    "\n",
    "1. x 可以是数字或字符串，但是base被赋值后 x 只能是字符串\n",
    "\n",
    "2. x 作为字符串时必须是 base 类型，也就是说 x 变成数字时必须能用 base 进制表示"
   ]
  },
  {
   "cell_type": "code",
   "execution_count": 19,
   "metadata": {
    "collapsed": true
   },
   "outputs": [],
   "source": [
    "class Solution:\n",
    "    def addBinary(self, a, b):\n",
    "        \"\"\"\n",
    "        :type a: str\n",
    "        :type b: str\n",
    "        :rtype: str\n",
    "        \"\"\"\n",
    "        a = int(a,base=2)\n",
    "        print(a)\n",
    "        b = int(b,base =2)\n",
    "        print(b)\n",
    "        return bin(a+b)[2:]"
   ]
  },
  {
   "cell_type": "code",
   "execution_count": 20,
   "metadata": {
    "collapsed": false
   },
   "outputs": [
    {
     "data": {
      "text/plain": [
       "10"
      ]
     },
     "execution_count": 20,
     "metadata": {},
     "output_type": "execute_result"
    }
   ],
   "source": [
    "a = '1010'\n",
    "int(a,2)"
   ]
  },
  {
   "cell_type": "code",
   "execution_count": 21,
   "metadata": {
    "collapsed": false
   },
   "outputs": [
    {
     "name": "stdout",
     "output_type": "stream",
     "text": [
      "10\n",
      "11\n",
      "10101\n"
     ]
    }
   ],
   "source": [
    "a='1010'\n",
    "b='1011'\n",
    "print(Solution().addBinary(a,b))"
   ]
  },
  {
   "cell_type": "markdown",
   "metadata": {},
   "source": [
    "eval()函数十分强大，官方demo解释为：将字符串str当成有效的表达式来求值并返回计算结果。\n",
    "\n",
    "so，结合math当成一个计算器很好用。\n",
    "\n",
    "其他用法，可以把list,tuple,dict和string相互转化。\n",
    "\n",
    "https://blog.csdn.net/zhanh1218/article/details/37562167?utm_source=tuicool&utm_medium=referral"
   ]
  },
  {
   "cell_type": "code",
   "execution_count": null,
   "metadata": {
    "collapsed": true
   },
   "outputs": [],
   "source": [
    "class Solution:\n",
    "    def addBinary(self, a, b):\n",
    "        return bin(eval('0b' + a) + eval('0b' + b))[2:]"
   ]
  }
 ],
 "metadata": {
  "anaconda-cloud": {},
  "kernelspec": {
   "display_name": "Python [conda root]",
   "language": "python",
   "name": "conda-root-py"
  },
  "language_info": {
   "codemirror_mode": {
    "name": "ipython",
    "version": 3
   },
   "file_extension": ".py",
   "mimetype": "text/x-python",
   "name": "python",
   "nbconvert_exporter": "python",
   "pygments_lexer": "ipython3",
   "version": "3.5.2"
  }
 },
 "nbformat": 4,
 "nbformat_minor": 2
}
