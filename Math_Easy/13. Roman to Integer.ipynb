{
 "cells": [
  {
   "cell_type": "code",
   "execution_count": 1,
   "metadata": {
    "collapsed": true
   },
   "outputs": [],
   "source": [
    "# 13. Roman to Integer"
   ]
  },
  {
   "cell_type": "code",
   "execution_count": 15,
   "metadata": {
    "collapsed": false
   },
   "outputs": [],
   "source": [
    "class Solution:\n",
    "    def romanToInt(self, s):\n",
    "        \"\"\"\n",
    "        :type s: str\n",
    "        :rtype: int\n",
    "        \"\"\"\n",
    "        res = 0\n",
    "        \n",
    "        for i in range(len(s)):\n",
    "            #print(s[i])\n",
    "            if s[i]=='I':\n",
    "                res +=1\n",
    "            elif s[i]=='V':\n",
    "                if i-1>=0 and s[i-1]=='I':\n",
    "                    res -= 2\n",
    "                res +=5 \n",
    "            elif s[i]=='X':\n",
    "                if i-1>=0 and s[i-1]=='I':\n",
    "                    res -= 2\n",
    "                res +=10\n",
    "            elif s[i]=='L':\n",
    "                if i-1>=0 and s[i-1]=='X':\n",
    "                    res -= 20\n",
    "                res +=50\n",
    "            elif s[i]=='C':\n",
    "                if i-1>=0 and s[i-1]=='X':\n",
    "                    res -= 20\n",
    "                res +=100\n",
    "            elif s[i]=='D':\n",
    "                if i-1>=0 and s[i-1]=='C':\n",
    "                    res -= 200\n",
    "                res +=500\n",
    "            else:\n",
    "                if i-1>=0 and s[i-1]=='C':\n",
    "                    res -= 200\n",
    "                res +=1000\n",
    "            #print(res)\n",
    "        return res"
   ]
  },
  {
   "cell_type": "code",
   "execution_count": 16,
   "metadata": {
    "collapsed": false
   },
   "outputs": [
    {
     "name": "stdout",
     "output_type": "stream",
     "text": [
      "4\n"
     ]
    }
   ],
   "source": [
    "print(Solution().romanToInt(\"IV\"))"
   ]
  },
  {
   "cell_type": "markdown",
   "metadata": {},
   "source": [
    "Attention: - two times !!!\n",
    "\n",
    "this method above is too slow"
   ]
  },
  {
   "cell_type": "code",
   "execution_count": null,
   "metadata": {
    "collapsed": true
   },
   "outputs": [],
   "source": [
    "class Solution:\n",
    "    def romanToInt(self, s):\n",
    "        \"\"\"\n",
    "        :type s: str\n",
    "        :rtype: int\n",
    "        \"\"\"\n",
    "        \n",
    "        match ={'I':1,'V':5,'X':10,'L':50,'C':100,'D':500,'M':1000}\n",
    "        res = 0\n",
    "        for i in range(len(s)-1):\n",
    "            if match[s[i]]<match[s[i+1]]:\n",
    "                res -= match[s[i]]\n",
    "            else:\n",
    "                res += match[s[i]]\n",
    "        res += match[s[-1]]\n",
    "        return res    \n",
    "\n",
    "    '''\n",
    "    using dict!!!!!!\n",
    "    this method is much faster!!\n",
    "    '''"
   ]
  }
 ],
 "metadata": {
  "anaconda-cloud": {},
  "kernelspec": {
   "display_name": "Python [conda root]",
   "language": "python",
   "name": "conda-root-py"
  },
  "language_info": {
   "codemirror_mode": {
    "name": "ipython",
    "version": 3
   },
   "file_extension": ".py",
   "mimetype": "text/x-python",
   "name": "python",
   "nbconvert_exporter": "python",
   "pygments_lexer": "ipython3",
   "version": "3.5.2"
  }
 },
 "nbformat": 4,
 "nbformat_minor": 2
}
