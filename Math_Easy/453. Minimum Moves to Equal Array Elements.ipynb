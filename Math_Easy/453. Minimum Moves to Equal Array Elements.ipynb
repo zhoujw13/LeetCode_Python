{
 "cells": [
  {
   "cell_type": "code",
   "execution_count": 1,
   "metadata": {},
   "outputs": [],
   "source": [
    "# 453. Minimum Moves to Equal Array Elements"
   ]
  },
  {
   "cell_type": "markdown",
   "metadata": {},
   "source": [
    "这其实是到数学题！！！\n",
    "\n",
    "let's define sum as the sum of all the numbers, before any moves; minNum as the min number int the list; n is the length of the list;\n",
    "\n",
    "After, say m moves, we get all the numbers as x , and we will get the following equation\n",
    "\n",
    " sum + m * (n - 1) = x * n\n",
    " \n",
    "and actually,\n",
    "\n",
    "  x = minNum + m\n",
    "  \n",
    "This part may be a little confusing, but @shijungg explained very well. let me explain a little again. it comes from two observations:\n",
    "\n",
    "the minum number will always be minum until it reachs the final number, because every move, other numbers (besides the max) will be increamented too;\n",
    "from above, we can get, the minum number will be incremented in every move. So, if the final number is x, it would be minNum + moves;\n",
    "and finally, we will get\n",
    "\n",
    "  sum - minNum * n = m\n",
    "  \n",
    "  \n",
    "This is just a math calculation."
   ]
  },
  {
   "cell_type": "code",
   "execution_count": 2,
   "metadata": {},
   "outputs": [],
   "source": [
    "class Solution:\n",
    "    def minMoves(self, nums):\n",
    "        \"\"\"\n",
    "        :type nums: List[int]\n",
    "        :rtype: int\n",
    "        \"\"\"\n",
    "        return(sum(nums)-min(nums)*len(nums))"
   ]
  },
  {
   "cell_type": "code",
   "execution_count": 3,
   "metadata": {},
   "outputs": [
    {
     "name": "stdout",
     "output_type": "stream",
     "text": [
      "3\n"
     ]
    }
   ],
   "source": [
    "print(Solution().minMoves([1,2,3]))"
   ]
  },
  {
   "cell_type": "code",
   "execution_count": null,
   "metadata": {},
   "outputs": [],
   "source": []
  }
 ],
 "metadata": {
  "kernelspec": {
   "display_name": "Python 3",
   "language": "python",
   "name": "python3"
  },
  "language_info": {
   "codemirror_mode": {
    "name": "ipython",
    "version": 3
   },
   "file_extension": ".py",
   "mimetype": "text/x-python",
   "name": "python",
   "nbconvert_exporter": "python",
   "pygments_lexer": "ipython3",
   "version": "3.6.5"
  }
 },
 "nbformat": 4,
 "nbformat_minor": 2
}
