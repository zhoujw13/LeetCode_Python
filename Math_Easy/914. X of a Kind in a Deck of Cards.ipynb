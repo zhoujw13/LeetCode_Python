{
 "cells": [
  {
   "cell_type": "code",
   "execution_count": 1,
   "metadata": {
    "collapsed": true
   },
   "outputs": [],
   "source": [
    "# 914. X of a Kind in a Deck of Cards"
   ]
  },
  {
   "cell_type": "code",
   "execution_count": 10,
   "metadata": {
    "collapsed": false
   },
   "outputs": [],
   "source": [
    "class Solution:\n",
    "    def hasGroupsSizeX(self, deck):\n",
    "        \"\"\"\n",
    "        :type deck: List[int]\n",
    "        :rtype: bool\n",
    "        \"\"\"\n",
    "        from collections import Counter\n",
    "        \n",
    "        a = dict(Counter(deck))\n",
    "        #print(a)\n",
    "        \n",
    "        x = min(a.values())\n",
    "        if x<2:\n",
    "            return False\n",
    "        for i in a:\n",
    "            if a[i]%x !=0:\n",
    "                return False\n",
    "        return True"
   ]
  },
  {
   "cell_type": "code",
   "execution_count": 15,
   "metadata": {
    "collapsed": false
   },
   "outputs": [
    {
     "name": "stdout",
     "output_type": "stream",
     "text": [
      "{1: 2, 2: 4}\n",
      "True\n"
     ]
    }
   ],
   "source": [
    "print(Solution().hasGroupsSizeX([1,1,2,2,2,2]))"
   ]
  },
  {
   "cell_type": "markdown",
   "metadata": {},
   "source": [
    "wrong!! \n",
    "\n",
    "[1,1,1,1,2,2,2,2,2,2]\n",
    "\n",
    "Output: false\n",
    "\n",
    "Expected: true"
   ]
  },
  {
   "cell_type": "code",
   "execution_count": 16,
   "metadata": {
    "collapsed": true
   },
   "outputs": [],
   "source": [
    "class Solution:\n",
    "    def hasGroupsSizeX(self, deck):\n",
    "        \"\"\"\n",
    "        :type deck: List[int]\n",
    "        :rtype: bool\n",
    "        \"\"\"\n",
    "        from collections import Counter\n",
    "        \n",
    "        a = dict(Counter(deck))\n",
    "        #print(a)\n",
    "        \n",
    "        x_right = min(a.values())\n",
    "        if x_right<2:\n",
    "            return False\n",
    "\n",
    "        for i in range(2,x_right+1):\n",
    "            count = 0\n",
    "            for j in a:\n",
    "                if a[j]%i !=0:\n",
    "                    break\n",
    "                count +=1\n",
    "            if count ==len(a):\n",
    "                return True\n",
    "        return False\n",
    "            \n",
    "            \n",
    "                \n",
    "            \n",
    "            "
   ]
  },
  {
   "cell_type": "code",
   "execution_count": 20,
   "metadata": {
    "collapsed": false
   },
   "outputs": [
    {
     "name": "stdout",
     "output_type": "stream",
     "text": [
      "False\n"
     ]
    }
   ],
   "source": [
    "print(Solution().hasGroupsSizeX([1]))"
   ]
  },
  {
   "cell_type": "markdown",
   "metadata": {},
   "source": [
    "the method above works!\n",
    "\n",
    "key!!!!!  common divisor!!!!"
   ]
  },
  {
   "cell_type": "markdown",
   "metadata": {},
   "source": [
    "MARK!\n",
    "\n",
    "reduce() 函数会对参数序列中元素进行累积。\n",
    "\n",
    "函数将一个数据集合（链表，元组等）中的所有数据进行下列操作：用传给 reduce 中的函数 function（有两个参数）先对集合中的第 1、2 个元素进行操作，得到的结果再与第三个数据用 function 函数运算，最后得到一个结果。\n",
    "\n",
    "在 Python3 中，reduce() 函数已经被从全局名字空间里移除了，它现在被放置在 fucntools 模块里，如果想要使用它，则需要通过引入 functools 模块来调用 reduce() 函数：\n",
    "\n",
    "python 中的 Fraction和GCD求最大公约数\n",
    "\n",
    "这不是Fraction类的一部分，它是在fractions库中的。利用它你可以快速找到两个数的最大公约数。\n",
    "\n",
    "https://blog.csdn.net/baiyibin0530/article/details/77197302\n",
    "\n",
    "\n"
   ]
  },
  {
   "cell_type": "code",
   "execution_count": 21,
   "metadata": {
    "collapsed": true
   },
   "outputs": [],
   "source": [
    "def hasGroupsSizeX(self, deck):\n",
    "    from functools import reduce\n",
    "    import fractions\n",
    "    return reduce(fractions.gcd, collections.Counter(deck).values()) > 1"
   ]
  },
  {
   "cell_type": "code",
   "execution_count": 22,
   "metadata": {
    "collapsed": false
   },
   "outputs": [
    {
     "name": "stdout",
     "output_type": "stream",
     "text": [
      "True\n"
     ]
    }
   ],
   "source": [
    "print(Solution().hasGroupsSizeX([1,1,1,1,2,2,2,2,2,2]))"
   ]
  },
  {
   "cell_type": "code",
   "execution_count": null,
   "metadata": {
    "collapsed": true
   },
   "outputs": [],
   "source": []
  }
 ],
 "metadata": {
  "kernelspec": {
   "display_name": "Python [conda root]",
   "language": "python",
   "name": "conda-root-py"
  },
  "language_info": {
   "codemirror_mode": {
    "name": "ipython",
    "version": 3
   },
   "file_extension": ".py",
   "mimetype": "text/x-python",
   "name": "python",
   "nbconvert_exporter": "python",
   "pygments_lexer": "ipython3",
   "version": "3.5.2"
  }
 },
 "nbformat": 4,
 "nbformat_minor": 2
}
