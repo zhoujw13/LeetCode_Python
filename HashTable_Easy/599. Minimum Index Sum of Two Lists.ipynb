{
 "cells": [
  {
   "cell_type": "code",
   "execution_count": 1,
   "metadata": {
    "collapsed": true
   },
   "outputs": [],
   "source": [
    "# 599. Minimum Index Sum of Two Lists"
   ]
  },
  {
   "cell_type": "code",
   "execution_count": 55,
   "metadata": {
    "collapsed": true
   },
   "outputs": [],
   "source": [
    "class Solution:\n",
    "    def findRestaurant(self, list1, list2):\n",
    "        \"\"\"\n",
    "        :type list1: List[str]\n",
    "        :type list2: List[str]\n",
    "        :rtype: List[str]\n",
    "        \"\"\"\n",
    "        dic1,dic2={},{}\n",
    "\n",
    "        for index,value in enumerate(list1):\n",
    "            dic1[value]=index\n",
    "        for index,value in enumerate(list2):\n",
    "            if (dic1.get(value,-1)!=-1):\n",
    "                dic2[index+dic1.get(value)]=value\n",
    "        return dic2[min(dic2.keys())]"
   ]
  },
  {
   "cell_type": "code",
   "execution_count": 56,
   "metadata": {
    "collapsed": false
   },
   "outputs": [
    {
     "data": {
      "text/plain": [
       "1"
      ]
     },
     "execution_count": 56,
     "metadata": {},
     "output_type": "execute_result"
    }
   ],
   "source": [
    "a={1:1,2:3}\n",
    "b={1:2}\n",
    "min(a.keys())"
   ]
  },
  {
   "cell_type": "code",
   "execution_count": 57,
   "metadata": {
    "collapsed": false
   },
   "outputs": [
    {
     "name": "stdout",
     "output_type": "stream",
     "text": [
      "Shogun\n"
     ]
    }
   ],
   "source": [
    "list1 = [\"Shogun\", \"Tapioca Express\", \"Burger King\", \"KFC\"]\n",
    "list2 = [\"KFC\", \"Shogun\", \"Burger King\"]\n",
    "list1=[\"Shogun\", \"Tapioca Express\", \"Burger King\", \"KFC\"]\n",
    "list2=[\"Piatti\", \"The Grill at Torrey Pines\", \"Hungry Hunter Steakhouse\", \"Shogun\"]\n",
    "print(Solution().findRestaurant(list1,list2))"
   ]
  },
  {
   "cell_type": "markdown",
   "metadata": {},
   "source": [
    "the method above doesn't work for when there are many answers"
   ]
  },
  {
   "cell_type": "code",
   "execution_count": 62,
   "metadata": {
    "collapsed": true
   },
   "outputs": [],
   "source": [
    "class Solution:\n",
    "    def findRestaurant(self, list1, list2):\n",
    "        \"\"\"\n",
    "        :type list1: List[str]\n",
    "        :type list2: List[str]\n",
    "        :rtype: List[str]\n",
    "        \"\"\"\n",
    "        dic1,dic2={},{}\n",
    "\n",
    "        for index,value in enumerate(list1):\n",
    "            dic1[value]=index\n",
    "        for index,value in enumerate(list2):\n",
    "            if (dic1.get(value,-1)!=-1):\n",
    "                dic2[value]=dic1[value]+index\n",
    "                \n",
    "        res =[]\n",
    "        ans = min(dic2.values())\n",
    "        for i in dic2:\n",
    "            if dic2[i]==ans:\n",
    "                res =res +[i]\n",
    "        \n",
    "        return res"
   ]
  },
  {
   "cell_type": "code",
   "execution_count": 64,
   "metadata": {
    "collapsed": false
   },
   "outputs": [
    {
     "name": "stdout",
     "output_type": "stream",
     "text": [
      "['Shogun', 'Tapioca Express', 'KFC', 'Burger King']\n"
     ]
    }
   ],
   "source": [
    "list1 = [\"Shogun\", \"Tapioca Express\", \"Burger King\", \"KFC\"]\n",
    "list2 = [\"KFC\", \"Shogun\", \"Burger King\"]\n",
    "list1=[\"Shogun\", \"Tapioca Express\", \"Burger King\", \"KFC\"]\n",
    "list2=[\"Piatti\", \"The Grill at Torrey Pines\", \"Hungry Hunter Steakhouse\", \"Shogun\"]\n",
    "list1=[\"Shogun\",\"Tapioca Express\",\"Burger King\",\"KFC\"]\n",
    "list2=[\"KFC\",\"Burger King\",\"Tapioca Express\",\"Shogun\"]\n",
    "print(Solution().findRestaurant(list1,list2))"
   ]
  },
  {
   "cell_type": "markdown",
   "metadata": {},
   "source": [
    "the methos above works!"
   ]
  },
  {
   "cell_type": "code",
   "execution_count": null,
   "metadata": {
    "collapsed": true
   },
   "outputs": [],
   "source": []
  }
 ],
 "metadata": {
  "anaconda-cloud": {},
  "kernelspec": {
   "display_name": "Python [conda root]",
   "language": "python",
   "name": "conda-root-py"
  },
  "language_info": {
   "codemirror_mode": {
    "name": "ipython",
    "version": 3
   },
   "file_extension": ".py",
   "mimetype": "text/x-python",
   "name": "python",
   "nbconvert_exporter": "python",
   "pygments_lexer": "ipython3",
   "version": "3.5.2"
  }
 },
 "nbformat": 4,
 "nbformat_minor": 2
}
