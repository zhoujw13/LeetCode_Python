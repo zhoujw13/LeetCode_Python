{
 "cells": [
  {
   "cell_type": "code",
   "execution_count": 2,
   "metadata": {
    "collapsed": true
   },
   "outputs": [],
   "source": [
    "# 706. Design HashMap"
   ]
  },
  {
   "cell_type": "markdown",
   "metadata": {},
   "source": [
    "refereence\n",
    "\n",
    "https://leetcode.com/problems/design-hashmap/discuss/158890/Python-Solution-with-List-and-Open-Addressing-and-explanation\n",
    "\n",
    "the methos below use Open Addressing"
   ]
  },
  {
   "cell_type": "code",
   "execution_count": null,
   "metadata": {
    "collapsed": true
   },
   "outputs": [],
   "source": [
    "class MyHashMap:\n",
    "\n",
    "    def __init__(self):\n",
    "        \"\"\"\n",
    "        Initialize your data structure here.\n",
    "        \"\"\"\n",
    "        self.size  = 1000000\n",
    "        self.store = [[-1,-1]] * self.size\n",
    "        \n",
    "\n",
    "    def put(self, key, value):\n",
    "        \"\"\"\n",
    "        value will always be non-negative.\n",
    "        :type key: int\n",
    "        :type value: int\n",
    "        :rtype: void\n",
    "        \"\"\"\n",
    "        \n",
    "        pos = key % self.size\n",
    "        while self.store[pos][0]!=-1:\n",
    "            if self.store[pos][0] ==key:\n",
    "                self.store[pos][1] = value\n",
    "                return\n",
    "            elif pos ==self.size:\n",
    "                pos = -1\n",
    "            pos = pos+1\n",
    "        self.store[pos]=[key,value]\n",
    "        \n",
    "\n",
    "    def get(self, key):\n",
    "        \"\"\"\n",
    "        Returns the value to which the specified key is mapped, or -1 if this map contains no mapping for the key\n",
    "        :type key: int\n",
    "        :rtype: int\n",
    "        \"\"\"\n",
    "        pos = key % self.size\n",
    "        while self.store[pos][0]!=-1:\n",
    "            if self.store[pos][0] ==key:\n",
    "                return self.store[pos][1]\n",
    "            elif pos ==self.size:\n",
    "                pos = -1\n",
    "            pos = pos+1\n",
    "        return self.store[pos][1]\n",
    "        \n",
    "\n",
    "    def remove(self, key):\n",
    "        \"\"\"\n",
    "        Removes the mapping of the specified value key if this map contains a mapping for the key\n",
    "        :type key: int\n",
    "        :rtype: void\n",
    "        \"\"\"\n",
    "        \n",
    "        self.put(key,-1)\n",
    "        \n",
    "\n",
    "\n",
    "# Your MyHashMap object will be instantiated and called as such:\n",
    "# obj = MyHashMap()\n",
    "# obj.put(key,value)\n",
    "# param_2 = obj.get(key)\n",
    "# obj.remove(key)"
   ]
  }
 ],
 "metadata": {
  "anaconda-cloud": {},
  "kernelspec": {
   "display_name": "Python [conda root]",
   "language": "python",
   "name": "conda-root-py"
  },
  "language_info": {
   "codemirror_mode": {
    "name": "ipython",
    "version": 3
   },
   "file_extension": ".py",
   "mimetype": "text/x-python",
   "name": "python",
   "nbconvert_exporter": "python",
   "pygments_lexer": "ipython3",
   "version": "3.5.2"
  }
 },
 "nbformat": 4,
 "nbformat_minor": 2
}
