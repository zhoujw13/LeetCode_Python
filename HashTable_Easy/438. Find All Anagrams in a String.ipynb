{
 "cells": [
  {
   "cell_type": "code",
   "execution_count": 1,
   "metadata": {
    "collapsed": true
   },
   "outputs": [],
   "source": [
    "# 438. Find All Anagrams in a String"
   ]
  },
  {
   "cell_type": "code",
   "execution_count": 6,
   "metadata": {
    "collapsed": true
   },
   "outputs": [],
   "source": [
    "class Solution:\n",
    "    def findAnagrams(self, s, p):\n",
    "        \"\"\"\n",
    "        :type s: str\n",
    "        :type p: str\n",
    "        :rtype: List[int]\n",
    "        \"\"\"\n",
    "        \n",
    "        from collections import Counter as c\n",
    "        \n",
    "        t = c(p)\n",
    "        res =[]\n",
    "        for i in range(len(s)-len(p)+1):\n",
    "            w = c(s[i:i+len(p)])\n",
    "            if w ==t:\n",
    "                res =res+[i]\n",
    "        return res"
   ]
  },
  {
   "cell_type": "code",
   "execution_count": 7,
   "metadata": {
    "collapsed": false
   },
   "outputs": [
    {
     "name": "stdout",
     "output_type": "stream",
     "text": [
      "[0, 6]\n"
     ]
    }
   ],
   "source": [
    "s= \"cbaebabacd\" \n",
    "p= \"abc\"\n",
    "print(Solution().findAnagrams(s,p))"
   ]
  },
  {
   "cell_type": "markdown",
   "metadata": {},
   "source": [
    "the above method is time exceeded!!"
   ]
  },
  {
   "cell_type": "code",
   "execution_count": 14,
   "metadata": {
    "collapsed": true
   },
   "outputs": [],
   "source": [
    "class Solution:\n",
    "    def findAnagrams(self, s, p):\n",
    "        \"\"\"\n",
    "        :type s: str\n",
    "        :type p: str\n",
    "        :rtype: List[int]\n",
    "        \"\"\"\n",
    "        \n",
    "        from collections import Counter as c\n",
    "        \n",
    "        t = c(p)\n",
    "        w = c(s[:len(p)-1])\n",
    "        res =[]\n",
    "        for i in range(len(p)-1,len(s)):\n",
    "            w[s[i]]= w[s[i]]+1\n",
    "            \n",
    "            if w == t:\n",
    "                res =res+[i-len(p)+1]\n",
    "                \n",
    "            w[s[i-len(p)+1]] = w[s[i-len(p)+1]] -1\n",
    "            if  w[s[i-len(p)+1]]==0:\n",
    "                w.pop(s[i-len(p)+1])\n",
    "        return res\n",
    "    \n",
    "    \"\"\"\n",
    "    work!!\n",
    "    \"\"\""
   ]
  },
  {
   "cell_type": "code",
   "execution_count": 15,
   "metadata": {
    "collapsed": false
   },
   "outputs": [
    {
     "name": "stdout",
     "output_type": "stream",
     "text": [
      "[0, 6]\n"
     ]
    }
   ],
   "source": [
    "s= \"cbaebabacd\" \n",
    "p= \"abc\"\n",
    "print(Solution().findAnagrams(s,p))"
   ]
  },
  {
   "cell_type": "code",
   "execution_count": null,
   "metadata": {
    "collapsed": true
   },
   "outputs": [],
   "source": []
  }
 ],
 "metadata": {
  "anaconda-cloud": {},
  "kernelspec": {
   "display_name": "Python [conda root]",
   "language": "python",
   "name": "conda-root-py"
  },
  "language_info": {
   "codemirror_mode": {
    "name": "ipython",
    "version": 3
   },
   "file_extension": ".py",
   "mimetype": "text/x-python",
   "name": "python",
   "nbconvert_exporter": "python",
   "pygments_lexer": "ipython3",
   "version": "3.5.2"
  }
 },
 "nbformat": 4,
 "nbformat_minor": 2
}
