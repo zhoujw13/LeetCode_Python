{
 "cells": [
  {
   "cell_type": "code",
   "execution_count": 1,
   "metadata": {
    "collapsed": true
   },
   "outputs": [],
   "source": [
    "# 720. Longest Word in Dictionary"
   ]
  },
  {
   "cell_type": "code",
   "execution_count": 65,
   "metadata": {
    "collapsed": true
   },
   "outputs": [],
   "source": [
    "class Solution:\n",
    "    def longestWord(self, words):\n",
    "        \"\"\"\n",
    "        :type words: List[str]\n",
    "        :rtype: str\n",
    "        \"\"\"\n",
    "        \n",
    "        \n",
    "        dic = {word:word[:-1] for word in words}\n",
    "        \n",
    "        def dfs(dic,word):\n",
    "            if dic[word] in dic:\n",
    "                return dfs(dic,dic[word])\n",
    "            return dic[word]\n",
    "            \n",
    "        res = \"\"\n",
    "        \n",
    "        for i,w in enumerate(words):\n",
    "            if dfs(dic,w) =='':\n",
    "                if len(w)>len(res):\n",
    "                    res = w\n",
    "                elif len(w)==len(res):\n",
    "                    res = min(res,w)\n",
    "         \n",
    "        return res\n",
    "            "
   ]
  },
  {
   "cell_type": "code",
   "execution_count": 69,
   "metadata": {
    "collapsed": false
   },
   "outputs": [
    {
     "name": "stdout",
     "output_type": "stream",
     "text": [
      "apple\n"
     ]
    }
   ],
   "source": [
    "words = [\"w\",\"wo\",\"wor\",\"worl\", \"world\"]\n",
    "words = [\"a\", \"banana\", \"app\", \"appl\", \"ap\", \"apply\", \"apple\"]\n",
    "dic = {word:word[:-1] for word in words}\n",
    "dic\n",
    "print(Solution().longestWord(words))"
   ]
  },
  {
   "cell_type": "code",
   "execution_count": 67,
   "metadata": {
    "collapsed": false
   },
   "outputs": [],
   "source": [
    "def dfs(dic,word):\n",
    "    if dic[word] in dic:\n",
    "        #print(word)\n",
    "        return dfs(dic,dic[word])\n",
    "    return dic[word]\n",
    "\n"
   ]
  },
  {
   "cell_type": "code",
   "execution_count": 74,
   "metadata": {
    "collapsed": false
   },
   "outputs": [
    {
     "data": {
      "text/plain": [
       "['a', 'ap', 'app', 'appl', 'apple', 'apply', 'banana']"
      ]
     },
     "execution_count": 74,
     "metadata": {},
     "output_type": "execute_result"
    }
   ],
   "source": [
    "words.sort()\n",
    "words"
   ]
  },
  {
   "cell_type": "markdown",
   "metadata": {},
   "source": [
    "Zoe: Although I figure it out, but !!!! I don't know how exactly it works!!!! What is the logic?\n",
    "see above\n",
    "    "
   ]
  },
  {
   "cell_type": "markdown",
   "metadata": {},
   "source": [
    "there is an answer in discuss section\n",
    "\n",
    "Firstly sort the words to ensure that we iterate in a lexicographical fashion. Also, maintain a set of seen words to check whether there is a \"path\" to the current word we are iterating through. We can lengthen the path when we see that there is a previous word that meets the criteria. Lastly, in every iteration where there is a path lengthening, check to see if we can update the longest_word.\n",
    "\n",
    "By Yangshun"
   ]
  },
  {
   "cell_type": "code",
   "execution_count": 81,
   "metadata": {
    "collapsed": true
   },
   "outputs": [],
   "source": [
    "class Solution:\n",
    "    def longestWord(self, words):\n",
    "        \"\"\"\n",
    "        :type words: List[str]\n",
    "        :rtype: str\n",
    "        \"\"\"\n",
    "        words.sort()\n",
    "        \n",
    "        wordset = ['']\n",
    "        \n",
    "        longest = ''\n",
    "        \n",
    "        for word in words:\n",
    "            if word[:-1] in wordset:\n",
    "                wordset = wordset + [word]\n",
    "                if len(word)>len(longest):\n",
    "                    longest = word\n",
    "        \n",
    "        return longest\n",
    "        "
   ]
  },
  {
   "cell_type": "code",
   "execution_count": 82,
   "metadata": {
    "collapsed": false
   },
   "outputs": [
    {
     "name": "stdout",
     "output_type": "stream",
     "text": [
      "apple\n"
     ]
    }
   ],
   "source": [
    "words = [\"a\", \"banana\", \"app\", \"appl\", \"ap\", \"apply\", \"apple\"]\n",
    "print(Solution().longestWord(words))"
   ]
  },
  {
   "cell_type": "code",
   "execution_count": null,
   "metadata": {
    "collapsed": true
   },
   "outputs": [],
   "source": []
  }
 ],
 "metadata": {
  "anaconda-cloud": {},
  "kernelspec": {
   "display_name": "Python [conda root]",
   "language": "python",
   "name": "conda-root-py"
  },
  "language_info": {
   "codemirror_mode": {
    "name": "ipython",
    "version": 3
   },
   "file_extension": ".py",
   "mimetype": "text/x-python",
   "name": "python",
   "nbconvert_exporter": "python",
   "pygments_lexer": "ipython3",
   "version": "3.5.2"
  }
 },
 "nbformat": 4,
 "nbformat_minor": 2
}
