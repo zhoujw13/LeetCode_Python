{
 "cells": [
  {
   "cell_type": "code",
   "execution_count": 1,
   "metadata": {
    "collapsed": true
   },
   "outputs": [],
   "source": [
    "# 705. Design HashSet"
   ]
  },
  {
   "cell_type": "markdown",
   "metadata": {},
   "source": [
    "code a HashSet\n",
    "\n",
    "Some knowledge about hash\n",
    "\n",
    "https://www.cnblogs.com/s-b-b/p/6208565.html\n",
    "\n",
    "\n",
    "https://www.jianshu.com/p/dbe7a1ea5928\n",
    "\n",
    "[HsahSet]  && [HashMap]  Different!!!\n",
    "\n",
    "http://www.importnew.com/21841.html\n",
    "\n",
    "https://www.cnblogs.com/runwulingsheng/p/5208762.html\n"
   ]
  },
  {
   "cell_type": "markdown",
   "metadata": {},
   "source": [
    "next time try use C++ or Java!!!!"
   ]
  },
  {
   "cell_type": "code",
   "execution_count": null,
   "metadata": {
    "collapsed": true
   },
   "outputs": [],
   "source": [
    "class MyHashSet:\n",
    "\n",
    "    def __init__(self):\n",
    "        \"\"\"\n",
    "        Initialize your data structure here.\n",
    "        \"\"\"\n",
    "        self.arr = [False]*1000000\n",
    "\n",
    "    def add(self, key):\n",
    "        \"\"\"\n",
    "        :type key: int\n",
    "        :rtype: void\n",
    "        \"\"\"\n",
    "        self.arr[key] = True\n",
    "\n",
    "    def remove(self, key):\n",
    "        \"\"\"\n",
    "        :type key: int\n",
    "        :rtype: void\n",
    "        \"\"\"\n",
    "        self.arr[key] = False\n",
    "        \n",
    "\n",
    "    def contains(self, key):\n",
    "        \"\"\"\n",
    "        Returns true if this set contains the specified element\n",
    "        :type key: int\n",
    "        :rtype: bool\n",
    "        \"\"\"\n",
    "        return self.arr[key]\n",
    "        \n",
    "\n",
    "\n",
    "# Your MyHashSet object will be instantiated and called as such:\n",
    "# obj = MyHashSet()\n",
    "# obj.add(key)\n",
    "# obj.remove(key)\n",
    "# param_3 = obj.contains(key)"
   ]
  }
 ],
 "metadata": {
  "anaconda-cloud": {},
  "kernelspec": {
   "display_name": "Python [conda root]",
   "language": "python",
   "name": "conda-root-py"
  },
  "language_info": {
   "codemirror_mode": {
    "name": "ipython",
    "version": 3
   },
   "file_extension": ".py",
   "mimetype": "text/x-python",
   "name": "python",
   "nbconvert_exporter": "python",
   "pygments_lexer": "ipython3",
   "version": "3.5.2"
  }
 },
 "nbformat": 4,
 "nbformat_minor": 2
}
