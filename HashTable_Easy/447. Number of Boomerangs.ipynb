{
 "cells": [
  {
   "cell_type": "code",
   "execution_count": 1,
   "metadata": {
    "collapsed": true
   },
   "outputs": [],
   "source": [
    "# 447. Number of Boomerangs"
   ]
  },
  {
   "cell_type": "code",
   "execution_count": 25,
   "metadata": {
    "collapsed": true
   },
   "outputs": [],
   "source": [
    "class Solution:\n",
    "    def numberOfBoomerangs(self, points):\n",
    "        \"\"\"\n",
    "        :type points: List[List[int]]\n",
    "        :rtype: int\n",
    "        \"\"\"\n",
    "        \n",
    "        m = len(points)\n",
    "\n",
    "        res =0\n",
    "        for i in range(m):              \n",
    "            dic={}\n",
    "            for j in range(m):\n",
    "                dis = (points[i][0]-points[j][0])**2+(points[i][1]-points[j][1])**2\n",
    "                dic[dis]=dic.get(dis,0)+1\n",
    "            for k in dic:\n",
    "                res =res+dic[k]*(dic[k]-1)\n",
    "        \n",
    "        return res\n",
    "        \n",
    "        "
   ]
  },
  {
   "cell_type": "code",
   "execution_count": 26,
   "metadata": {
    "collapsed": false
   },
   "outputs": [
    {
     "name": "stdout",
     "output_type": "stream",
     "text": [
      "{0: 1}\n",
      "{0: 1, 1: 1}\n",
      "{0: 1, 1: 1, 4: 1}\n",
      "{1: 1}\n",
      "{0: 1, 1: 1}\n",
      "{0: 1, 1: 2}\n",
      "{4: 1}\n",
      "{1: 1, 4: 1}\n",
      "{0: 1, 1: 1, 4: 1}\n",
      "2\n"
     ]
    }
   ],
   "source": [
    "points=[[0,0],[1,0],[2,0]]\n",
    "print(Solution().numberOfBoomerangs(points))"
   ]
  },
  {
   "cell_type": "code",
   "execution_count": 20,
   "metadata": {
    "collapsed": false
   },
   "outputs": [],
   "source": [
    "points[1][0]\n",
    "m = len(points)\n",
    "\n",
    "\n",
    "res =0"
   ]
  },
  {
   "cell_type": "code",
   "execution_count": null,
   "metadata": {
    "collapsed": true
   },
   "outputs": [],
   "source": []
  }
 ],
 "metadata": {
  "anaconda-cloud": {},
  "kernelspec": {
   "display_name": "Python [conda root]",
   "language": "python",
   "name": "conda-root-py"
  },
  "language_info": {
   "codemirror_mode": {
    "name": "ipython",
    "version": 3
   },
   "file_extension": ".py",
   "mimetype": "text/x-python",
   "name": "python",
   "nbconvert_exporter": "python",
   "pygments_lexer": "ipython3",
   "version": "3.5.2"
  }
 },
 "nbformat": 4,
 "nbformat_minor": 2
}
