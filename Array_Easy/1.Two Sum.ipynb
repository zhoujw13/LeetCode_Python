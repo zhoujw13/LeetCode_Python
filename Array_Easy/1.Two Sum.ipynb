{
 "cells": [
  {
   "cell_type": "code",
   "execution_count": 6,
   "metadata": {
    "collapsed": false
   },
   "outputs": [
    {
     "name": "stdout",
     "output_type": "stream",
     "text": [
      "0 2\n",
      "8\n",
      "1 4\n",
      "6\n",
      "2 6\n",
      "4\n",
      "[1, 2]\n",
      "3 8\n",
      "2\n",
      "[0, 3]\n"
     ]
    }
   ],
   "source": [
    "target=10\n",
    "nums=[2,4,6,8]\n",
    "\n",
    "dic = dict()\n",
    "for index,value in enumerate(nums):\n",
    "    print index,value\n",
    "    sub = target - value\n",
    "    print sub\n",
    "    if sub in dic:\n",
    "        return [dic[sub],index]\n",
    "    else:\n",
    "        dic[value] = index"
   ]
  },
  {
   "cell_type": "code",
   "execution_count": 3,
   "metadata": {
    "collapsed": false
   },
   "outputs": [
    {
     "name": "stdout",
     "output_type": "stream",
     "text": [
      "0 2\n",
      "1 4\n",
      "2 6\n",
      "3 8\n"
     ]
    }
   ],
   "source": [
    "nums= [2,4,6,8]\n",
    "target = 10\n",
    "for a,b in enumerate(nums):\n",
    "    print a,b\n",
    "    sub = target -b\n",
    "    if sub in dic:\n",
    "        \n",
    "    "
   ]
  },
  {
   "cell_type": "code",
   "execution_count": null,
   "metadata": {
    "collapsed": true
   },
   "outputs": [],
   "source": []
  }
 ],
 "metadata": {
  "anaconda-cloud": {},
  "kernelspec": {
   "display_name": "Python [conda root]",
   "language": "python",
   "name": "conda-root-py"
  },
  "language_info": {
   "codemirror_mode": {
    "name": "ipython",
    "version": 3
   },
   "file_extension": ".py",
   "mimetype": "text/x-python",
   "name": "python",
   "nbconvert_exporter": "python",
   "pygments_lexer": "ipython3",
   "version": "3.5.2"
  }
 },
 "nbformat": 4,
 "nbformat_minor": 0
}
