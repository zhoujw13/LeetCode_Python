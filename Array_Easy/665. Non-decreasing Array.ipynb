{
 "cells": [
  {
   "cell_type": "code",
   "execution_count": 11,
   "metadata": {},
   "outputs": [],
   "source": [
    "# 665. Non-decreasing Array"
   ]
  },
  {
   "cell_type": "markdown",
   "metadata": {},
   "source": [
    "似乎就是遍历一列，然后发现问题就改正，看改正后是否可以了\n",
    "改正的情况就是nums[i]< nums[i+1]的时候\n",
    "但是究竟该谁以及怎么改需要好好讨论：\n",
    "1、nums[0]>nums[1]这种情况把nums[1]=nums[0]最好因为这样可以给后面留有更多余地\n",
    "2、nums[3]>nums[4]:\n",
    "如果nums[4]>=nums[2],那么降nums[3]为nums[4]给后面留有更多余地；\n",
    "如果nums[4]<nums[2],那么只能升nums[4]为nums[3]才行\n"
   ]
  },
  {
   "cell_type": "code",
   "execution_count": 12,
   "metadata": {},
   "outputs": [
    {
     "name": "stdout",
     "output_type": "stream",
     "text": [
      "True\n"
     ]
    }
   ],
   "source": [
    "class Solution:\n",
    "    def checkPossibility(self, nums):\n",
    "        \"\"\"\n",
    "        :type nums: List[int]\n",
    "        :rtype: bool\n",
    "        \"\"\"\n",
    "        \"\"\"\n",
    "        似乎就是遍历一列，然后发现问题就改正，看改正后是否可以了\n",
    "        改正的情况就是nums[i]< nums[i+1]的时候\n",
    "        但是究竟该谁以及怎么改需要好好讨论：\n",
    "        1、nums[0]>nums[1]这种情况把nums[0]=nums[1]最好因为这样可以给后面留有更多余地\n",
    "        2、nums[3]>nums[4]:\n",
    "        如果nums[4]>=nums[2],那么降nums[3]为nums[4]给后面留有更多余地；\n",
    "        如果nums[4]<nums[2],那么只能升nums[4]为nums[3]才行\n",
    "        \"\"\"\n",
    "        l = len(nums)\n",
    "        count = 0\n",
    "        for i in range(l-1):\n",
    "            if nums[i]>nums[i+1]:\n",
    "                count = count +1\n",
    "                if i ==0: \n",
    "                    nums[i]=nums[i+1]\n",
    "                else:\n",
    "                    if nums[i+1]>= nums[i-1]:\n",
    "                        nums[i] = nums[i+1]\n",
    "                    else:\n",
    "                        nums[i+1]=nums[i]\n",
    "        return(count<= 1)\n",
    "    nums = [4,2,3]\n",
    "    print(checkPossibility(nums,nums))"
   ]
  },
  {
   "cell_type": "markdown",
   "metadata": {},
   "source": [
    "网上有一个厉害的一行代码解决。。。"
   ]
  },
  {
   "cell_type": "code",
   "execution_count": 13,
   "metadata": {},
   "outputs": [],
   "source": [
    "class Solution:\n",
    "    def checkPossibility(self, nums):\n",
    "        \"\"\"\n",
    "        :type nums: List[int]\n",
    "        :rtype: bool\n",
    "        \"\"\"\n",
    "        return sum(map(lambda t: t[0] - t[1] < 0, zip(nums[1:], nums[:-1]))) <= 1 and sum(map(lambda t: t[0] - t[1] < 0, zip(nums[2:], nums[:-2]))) <= 1"
   ]
  },
  {
   "cell_type": "code",
   "execution_count": null,
   "metadata": {},
   "outputs": [],
   "source": []
  }
 ],
 "metadata": {
  "kernelspec": {
   "display_name": "Python 3",
   "language": "python",
   "name": "python3"
  },
  "language_info": {
   "codemirror_mode": {
    "name": "ipython",
    "version": 3
   },
   "file_extension": ".py",
   "mimetype": "text/x-python",
   "name": "python",
   "nbconvert_exporter": "python",
   "pygments_lexer": "ipython3",
   "version": "3.6.5"
  }
 },
 "nbformat": 4,
 "nbformat_minor": 2
}
