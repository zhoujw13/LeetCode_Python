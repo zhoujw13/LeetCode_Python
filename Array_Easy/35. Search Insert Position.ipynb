{
 "cells": [
  {
   "cell_type": "markdown",
   "metadata": {},
   "source": [
    "# 35. Search Insert Position"
   ]
  },
  {
   "cell_type": "code",
   "execution_count": null,
   "metadata": {},
   "outputs": [],
   "source": [
    "\"\"\"\n",
    "时间：20180919\n",
    "\"\"\""
   ]
  },
  {
   "cell_type": "code",
   "execution_count": 1,
   "metadata": {},
   "outputs": [],
   "source": [
    "# attention: array is sorted "
   ]
  },
  {
   "cell_type": "code",
   "execution_count": 21,
   "metadata": {},
   "outputs": [],
   "source": [
    "nums = [1,3,5,7,9]\n",
    "target =10"
   ]
  },
  {
   "cell_type": "code",
   "execution_count": 11,
   "metadata": {},
   "outputs": [
    {
     "name": "stdout",
     "output_type": "stream",
     "text": [
      "1\n"
     ]
    }
   ],
   "source": [
    "i = 0\n",
    "index = 0\n",
    "while(i < len(nums)):\n",
    "    if nums[i] < target:\n",
    "        i=i+1\n",
    "    elif nums[i] >= target:\n",
    "        index = i\n",
    "        break\n",
    "\n",
    "print(index)\n",
    "\n",
    "\n",
    "# wrong !!!!!!if target is the biggest"
   ]
  },
  {
   "cell_type": "code",
   "execution_count": 13,
   "metadata": {},
   "outputs": [],
   "source": [
    "# this is the right answer!!!!\n",
    "\n",
    "while(i < len(nums)):\n",
    "            if nums[i] < target:\n",
    "                i=i+1\n",
    "            elif nums[i] >= target:\n",
    "                break\n",
    "        \n",
    "\n",
    "# 这是最笨的方法，遍历！！"
   ]
  },
  {
   "cell_type": "code",
   "execution_count": 22,
   "metadata": {},
   "outputs": [
    {
     "data": {
      "text/plain": [
       "5"
      ]
     },
     "execution_count": 22,
     "metadata": {},
     "output_type": "execute_result"
    }
   ],
   "source": [
    "# 还可以用二分查找法！！！编一个二分查找的程序\n",
    "left = 0\n",
    "right = len(nums) - 1\n",
    "while left <= right:\n",
    "    mid = (left + right) // 2  # python3里面“/”整数除法得到小数，要得到整数需要用“//” ！！！！\n",
    "\n",
    "\n",
    "    if nums[mid] == target:\n",
    "        print(mid)\n",
    "        break\n",
    "    elif nums[mid] < target:\n",
    "        left = mid + 1\n",
    "    else:\n",
    "        right = mid - 1\n",
    "\n",
    "left\n",
    "\n",
    "# python3里面“/”整数除法得到小数，要得到整数需要用“//” ！！！！\n"
   ]
  },
  {
   "cell_type": "code",
   "execution_count": 18,
   "metadata": {},
   "outputs": [
    {
     "data": {
      "text/plain": [
       "3"
      ]
     },
     "execution_count": 18,
     "metadata": {},
     "output_type": "execute_result"
    }
   ],
   "source": [
    "a=3 \n",
    "b=4\n",
    "(a+b)//2\n"
   ]
  },
  {
   "cell_type": "code",
   "execution_count": null,
   "metadata": {},
   "outputs": [],
   "source": []
  }
 ],
 "metadata": {
  "kernelspec": {
   "display_name": "Python 3",
   "language": "python",
   "name": "python3"
  },
  "language_info": {
   "codemirror_mode": {
    "name": "ipython",
    "version": 3
   },
   "file_extension": ".py",
   "mimetype": "text/x-python",
   "name": "python",
   "nbconvert_exporter": "python",
   "pygments_lexer": "ipython3",
   "version": "3.6.5"
  }
 },
 "nbformat": 4,
 "nbformat_minor": 2
}
