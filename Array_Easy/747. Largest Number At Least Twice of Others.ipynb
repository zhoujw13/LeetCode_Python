{
 "cells": [
  {
   "cell_type": "code",
   "execution_count": 1,
   "metadata": {},
   "outputs": [],
   "source": [
    "# 747. Largest Number At Least Twice of Others"
   ]
  },
  {
   "cell_type": "markdown",
   "metadata": {},
   "source": [
    "这道题就是找到最大数和第二大数就行了"
   ]
  },
  {
   "cell_type": "code",
   "execution_count": 7,
   "metadata": {},
   "outputs": [
    {
     "name": "stdout",
     "output_type": "stream",
     "text": [
      "1\n"
     ]
    }
   ],
   "source": [
    "class Solution:\n",
    "    def dominantIndex(self, nums):\n",
    "        \"\"\"\n",
    "        :type nums: List[int]\n",
    "        :rtype: int\n",
    "        \"\"\"\n",
    "        \n",
    "        \n",
    "        a = max(nums)\n",
    "        i = nums.index(a)\n",
    "        nums.pop(i)\n",
    "        if nums:\n",
    "            b = max(nums)\n",
    "            if a >= 2*b:\n",
    "                return i\n",
    "            else:\n",
    "                return -1\n",
    "        return i\n",
    "        \"\"\"\n",
    "        这道题虽然看上去很是简单，但是还是没能一遍过！！！因为没有考虑如果数列就只有一个数字的情况啊，这样删掉第一大数字后，max就用不了了\n",
    "        \n",
    "        \"\"\"\n",
    "    \n",
    "nums = [1, 2, 3, 4]\n",
    "nums = [3, 6, 1, 0]\n",
    "print(Solution().dominantIndex(nums))"
   ]
  },
  {
   "cell_type": "code",
   "execution_count": null,
   "metadata": {},
   "outputs": [],
   "source": []
  }
 ],
 "metadata": {
  "kernelspec": {
   "display_name": "Python 3",
   "language": "python",
   "name": "python3"
  },
  "language_info": {
   "codemirror_mode": {
    "name": "ipython",
    "version": 3
   },
   "file_extension": ".py",
   "mimetype": "text/x-python",
   "name": "python",
   "nbconvert_exporter": "python",
   "pygments_lexer": "ipython3",
   "version": "3.6.5"
  }
 },
 "nbformat": 4,
 "nbformat_minor": 2
}
