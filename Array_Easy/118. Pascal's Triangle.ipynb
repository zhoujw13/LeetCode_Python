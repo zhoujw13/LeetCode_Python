{
 "cells": [
  {
   "cell_type": "markdown",
   "metadata": {},
   "source": [
    "# 118. Pascal's Triangle"
   ]
  },
  {
   "cell_type": "code",
   "execution_count": 10,
   "metadata": {
    "collapsed": true
   },
   "outputs": [],
   "source": [
    "numRows = 5"
   ]
  },
  {
   "cell_type": "code",
   "execution_count": 8,
   "metadata": {
    "collapsed": false
   },
   "outputs": [
    {
     "ename": "AttributeError",
     "evalue": "'NoneType' object has no attribute 'append'",
     "output_type": "error",
     "traceback": [
      "\u001b[1;31m---------------------------------------------------------------------------\u001b[0m",
      "\u001b[1;31mAttributeError\u001b[0m                            Traceback (most recent call last)",
      "\u001b[1;32m<ipython-input-8-710940bdde04>\u001b[0m in \u001b[0;36m<module>\u001b[1;34m()\u001b[0m\n\u001b[0;32m      4\u001b[0m \u001b[1;32mfor\u001b[0m \u001b[0mi\u001b[0m \u001b[1;32min\u001b[0m \u001b[0mrange\u001b[0m\u001b[1;33m(\u001b[0m\u001b[0mnumRows\u001b[0m\u001b[1;33m-\u001b[0m\u001b[1;36m1\u001b[0m\u001b[1;33m)\u001b[0m\u001b[1;33m:\u001b[0m\u001b[1;33m\u001b[0m\u001b[0m\n\u001b[0;32m      5\u001b[0m     \u001b[0mtri_b\u001b[0m \u001b[1;33m=\u001b[0m \u001b[1;33m[\u001b[0m\u001b[0mtri_a\u001b[0m\u001b[1;33m[\u001b[0m\u001b[0mm\u001b[0m\u001b[1;33m]\u001b[0m\u001b[1;33m+\u001b[0m\u001b[0mtri_a\u001b[0m\u001b[1;33m[\u001b[0m\u001b[0mm\u001b[0m\u001b[1;33m+\u001b[0m\u001b[1;36m1\u001b[0m\u001b[1;33m]\u001b[0m \u001b[1;32mfor\u001b[0m \u001b[0mm\u001b[0m \u001b[1;32min\u001b[0m \u001b[0mrange\u001b[0m\u001b[1;33m(\u001b[0m\u001b[0mlen\u001b[0m\u001b[1;33m(\u001b[0m\u001b[0mtri_a\u001b[0m\u001b[1;33m)\u001b[0m\u001b[1;33m-\u001b[0m\u001b[1;36m1\u001b[0m\u001b[1;33m)\u001b[0m\u001b[1;33m]\u001b[0m\u001b[1;33m\u001b[0m\u001b[0m\n\u001b[1;32m----> 6\u001b[1;33m     \u001b[0mtri\u001b[0m \u001b[1;33m=\u001b[0m \u001b[0mtri\u001b[0m\u001b[1;33m.\u001b[0m\u001b[0mappend\u001b[0m\u001b[1;33m(\u001b[0m\u001b[0mtri_b\u001b[0m\u001b[1;33m)\u001b[0m\u001b[1;33m\u001b[0m\u001b[0m\n\u001b[0m\u001b[0;32m      7\u001b[0m     \u001b[0mtri_a\u001b[0m\u001b[1;33m[\u001b[0m\u001b[1;33m:\u001b[0m\u001b[1;33m]\u001b[0m \u001b[1;33m=\u001b[0m \u001b[0mtri_b\u001b[0m\u001b[1;33m[\u001b[0m\u001b[1;33m:\u001b[0m\u001b[1;33m]\u001b[0m\u001b[1;33m\u001b[0m\u001b[0m\n\u001b[0;32m      8\u001b[0m \u001b[1;33m\u001b[0m\u001b[0m\n",
      "\u001b[1;31mAttributeError\u001b[0m: 'NoneType' object has no attribute 'append'"
     ]
    }
   ],
   "source": [
    "tri_a = [1]\n",
    "tri = [1]\n",
    "\n",
    "for i in range(numRows-1):\n",
    "    tri_b = [tri_a[m]+tri_a[m+1] for m in range(len(tri_a)-1)]\n",
    "    tri = tri.append(tri_b)\n",
    "    tri_a[:] = tri_b[:]\n",
    "\n",
    "print tri\n",
    "\n",
    "\"\"\"\n",
    "把a = a.append(b)改为a.append(b)后问题解决。\n",
    "\n",
    "---------------------\n",
    "\n",
    "本文来自 冰雪凌萱 的CSDN 博客 ，全文地址请点击：https://blog.csdn.net/u012910595/article/details/78551129?utm_source=copy \n",
    "原因：append会修改a本身，并且返回None。不能把返回值再赋值给a。\n",
    "\n",
    "---------------------\n",
    "\n",
    "本文来自 冰雪凌萱 的CSDN 博客 ，全文地址请点击：https://blog.csdn.net/u012910595/article/details/78551129?utm_source=copy \n",
    "\"\"\""
   ]
  },
  {
   "cell_type": "code",
   "execution_count": 8,
   "metadata": {
    "collapsed": false
   },
   "outputs": [
    {
     "name": "stdout",
     "output_type": "stream",
     "text": [
      "[[1], [1, 1], [1, 2, 1], [1, 3, 3, 1], [1, 4, 6, 4, 1]]\n"
     ]
    }
   ],
   "source": [
    "numRows = 5\n",
    "tri_a = [1]\n",
    "tri = [tri_a]\n",
    "\n",
    "if numRows ==0:\n",
    "    print([])\n",
    "\"\"\"\n",
    "tri_a = [1,1]\n",
    "tri.append(tri_a)\n",
    "\"\"\"\n",
    "for i in range(numRows-1):\n",
    "    tri_b = [tri_a[m]+tri_a[m+1] for m in range(len(tri_a)-1)]\n",
    "    tri_b.insert(0,1)\n",
    "    tri_b.append(1)\n",
    "    \n",
    "    tri.append(tri_b)\n",
    "    tri_a = tri_b\n",
    "\n",
    "print tri"
   ]
  },
  {
   "cell_type": "code",
   "execution_count": 3,
   "metadata": {
    "collapsed": false
   },
   "outputs": [
    {
     "data": {
      "text/plain": [
       "[1, [1, 1]]"
      ]
     },
     "execution_count": 3,
     "metadata": {},
     "output_type": "execute_result"
    }
   ],
   "source": [
    "tri_a = [1]\n",
    "tri = [1]\n",
    "tri_a = [1,1]\n",
    "tri.append(tri_a)\n",
    "tri"
   ]
  },
  {
   "cell_type": "code",
   "execution_count": 4,
   "metadata": {
    "collapsed": false
   },
   "outputs": [
    {
     "data": {
      "text/plain": [
       "[1, [1, 1], [1, 2, 1]]"
      ]
     },
     "execution_count": 4,
     "metadata": {},
     "output_type": "execute_result"
    }
   ],
   "source": [
    "tri_b = [tri_a[m]+tri_a[m+1] for m in range(len(tri_a)-1)]\n",
    "tri_b.insert(0,1)\n",
    "tri_b.append(1)\n",
    "tri.append(tri_b)"
   ]
  },
  {
   "cell_type": "raw",
   "metadata": {},
   "source": [
    "tri_a"
   ]
  },
  {
   "cell_type": "code",
   "execution_count": 11,
   "metadata": {
    "collapsed": false
   },
   "outputs": [
    {
     "name": "stdout",
     "output_type": "stream",
     "text": [
      "[0, 1]\n",
      "[1, 0]\n",
      "[0, 1, 1]\n",
      "[1, 1, 0]\n",
      "[0, 1, 2, 1]\n",
      "[1, 2, 1, 0]\n",
      "[0, 1, 3, 3, 1]\n",
      "[1, 3, 3, 1, 0]\n"
     ]
    },
    {
     "data": {
      "text/plain": [
       "[[1], [1, 1], [1, 2, 1], [1, 3, 3, 1], [1, 4, 6, 4, 1]]"
      ]
     },
     "execution_count": 11,
     "metadata": {},
     "output_type": "execute_result"
    }
   ],
   "source": [
    "# a new method or thinking way\n",
    "numRows = 5\n",
    "\n",
    "\n",
    "if numRows ==0:\n",
    "    print([])\n",
    "\n",
    "tri_a = [1]\n",
    "tri = [tri_a]\n",
    "for i in range(1,numRows):\n",
    "    tri1 = [0]+tri_a\n",
    "    tri2 = tri_a+[0]\n",
    "    print tri1\n",
    "    print tri2\n",
    "    tri_a =map(lambda x,y: x+y, tri1, tri2) \n",
    "    tri.append(tri_a)\n",
    "\n",
    "tri"
   ]
  },
  {
   "cell_type": "code",
   "execution_count": null,
   "metadata": {
    "collapsed": true
   },
   "outputs": [],
   "source": []
  },
  {
   "cell_type": "code",
   "execution_count": null,
   "metadata": {
    "collapsed": true
   },
   "outputs": [],
   "source": [
    "\n"
   ]
  }
 ],
 "metadata": {
  "kernelspec": {
   "display_name": "Python 2",
   "language": "python",
   "name": "python2"
  },
  "language_info": {
   "codemirror_mode": {
    "name": "ipython",
    "version": 2
   },
   "file_extension": ".py",
   "mimetype": "text/x-python",
   "name": "python",
   "nbconvert_exporter": "python",
   "pygments_lexer": "ipython2",
   "version": "2.7.11"
  }
 },
 "nbformat": 4,
 "nbformat_minor": 0
}
