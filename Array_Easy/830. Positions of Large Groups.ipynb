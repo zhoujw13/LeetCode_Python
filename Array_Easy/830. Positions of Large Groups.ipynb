{
 "cells": [
  {
   "cell_type": "code",
   "execution_count": 1,
   "metadata": {
    "collapsed": true
   },
   "outputs": [],
   "source": [
    "# 830. Positions of Large Groups"
   ]
  },
  {
   "cell_type": "code",
   "execution_count": 8,
   "metadata": {
    "collapsed": true
   },
   "outputs": [],
   "source": [
    "class Solution:\n",
    "    def largeGroupPositions(self, S):\n",
    "        \"\"\"\n",
    "        :type S: str\n",
    "        :rtype: List[List[int]]\n",
    "        \"\"\"\n",
    "        \n",
    "        a = list(S)\n",
    "        n = len(a)\n",
    "        \n",
    "        i = 0\n",
    "        count = 1\n",
    "        \n",
    "        r = []\n",
    "        \n",
    "        while(i<n and i+count<n):\n",
    "            if a[i+count] == a[i]:\n",
    "                count = count+1\n",
    "            else:\n",
    "                if count >=3:\n",
    "                    r.append([i,i+count-1])\n",
    "                i = i+count\n",
    "                count = 0\n",
    "        return r\n",
    "    \n",
    "    \"\"\"\n",
    "    wrong!!\n",
    "    when there are substring at the end \n",
    "    \"\"\"\n",
    "    \n",
    "    \n",
    "        \n",
    "        "
   ]
  },
  {
   "cell_type": "code",
   "execution_count": 9,
   "metadata": {
    "collapsed": false
   },
   "outputs": [
    {
     "name": "stdout",
     "output_type": "stream",
     "text": [
      "[[3, 5], [6, 9], [12, 14]]\n"
     ]
    }
   ],
   "source": [
    "S = \"abcdddeeeeaabbbcd\"\n",
    "print(Solution().largeGroupPositions(S))"
   ]
  },
  {
   "cell_type": "code",
   "execution_count": 12,
   "metadata": {
    "collapsed": true
   },
   "outputs": [],
   "source": [
    "class Solution:\n",
    "    def largeGroupPositions(self, S):\n",
    "        \"\"\"\n",
    "        :type S: str\n",
    "        :rtype: List[List[int]]\n",
    "        \"\"\"\n",
    "        \n",
    "        a = list(S)\n",
    "        n = len(a)\n",
    "        \n",
    "        i = 0\n",
    "        \n",
    "        r = []\n",
    "        \n",
    "        while(i<n):\n",
    "            j= i+1\n",
    "            while j<n and a[j] == a[i]:\n",
    "                j=j+1\n",
    "            if j-i>2:\n",
    "                r.append([i,j-1])\n",
    "            i=j\n",
    "        return r"
   ]
  },
  {
   "cell_type": "code",
   "execution_count": 14,
   "metadata": {
    "collapsed": false
   },
   "outputs": [
    {
     "name": "stdout",
     "output_type": "stream",
     "text": [
      "[[0, 2]]\n"
     ]
    }
   ],
   "source": [
    "S = \"abcdddeeeeaabbbcd\"\n",
    "S = \"aaa\"\n",
    "print(Solution().largeGroupPositions(S))"
   ]
  },
  {
   "cell_type": "code",
   "execution_count": null,
   "metadata": {
    "collapsed": true
   },
   "outputs": [],
   "source": []
  }
 ],
 "metadata": {
  "anaconda-cloud": {},
  "kernelspec": {
   "display_name": "Python [conda root]",
   "language": "python",
   "name": "conda-root-py"
  },
  "language_info": {
   "codemirror_mode": {
    "name": "ipython",
    "version": 3
   },
   "file_extension": ".py",
   "mimetype": "text/x-python",
   "name": "python",
   "nbconvert_exporter": "python",
   "pygments_lexer": "ipython3",
   "version": "3.5.2"
  }
 },
 "nbformat": 4,
 "nbformat_minor": 1
}
