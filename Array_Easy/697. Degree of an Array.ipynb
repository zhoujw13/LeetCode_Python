{
 "cells": [
  {
   "cell_type": "code",
   "execution_count": null,
   "metadata": {},
   "outputs": [],
   "source": [
    "# 697. Degree of an Array"
   ]
  },
  {
   "cell_type": "code",
   "execution_count": 40,
   "metadata": {},
   "outputs": [
    {
     "name": "stdout",
     "output_type": "stream",
     "text": [
      "2\n",
      "3\n",
      "\n",
      "\n",
      "6\n"
     ]
    }
   ],
   "source": [
    "class Solution:\n",
    "    def findShortestSubArray(self, nums):\n",
    "        \"\"\"\n",
    "        :type nums: List[int]\n",
    "        :rtype: int\n",
    "        \"\"\"\n",
    "        \n",
    "        from collections import Counter\n",
    "        l = len(nums)\n",
    "        \n",
    "        a = Counter(nums)\n",
    "        \n",
    "        b = max(a.values())\n",
    "    \n",
    "        cur = res = l\n",
    "        \n",
    "        nums1 = nums[::-1]\n",
    "    \n",
    "        for i in a:\n",
    "\n",
    "            if a[i] == b:\n",
    "                \n",
    "                print (i)\n",
    "                print(a[i])\n",
    "                print('\\n')\n",
    "                cur = l-nums1.index(i)-nums.index(i)\n",
    "                res = min(res, cur)\n",
    "        \n",
    "        return(res)\n",
    "    \n",
    "    nums = [1,2,2,3,1,4,2]\n",
    "    \n",
    "    print(findShortestSubArray(nums,nums))"
   ]
  },
  {
   "cell_type": "code",
   "execution_count": 25,
   "metadata": {},
   "outputs": [
    {
     "data": {
      "text/plain": [
       "2"
      ]
     },
     "execution_count": 25,
     "metadata": {},
     "output_type": "execute_result"
    }
   ],
   "source": [
    "from collections import Counter\n",
    "nums = [1, 2, 2, 3, 1]\n",
    "a = Counter(nums)\n",
    "degree = max(a.values())#找到degree\n",
    "\n",
    "degree\n"
   ]
  },
  {
   "cell_type": "code",
   "execution_count": null,
   "metadata": {},
   "outputs": [],
   "source": [
    "for i in a "
   ]
  }
 ],
 "metadata": {
  "kernelspec": {
   "display_name": "Python 3",
   "language": "python",
   "name": "python3"
  },
  "language_info": {
   "codemirror_mode": {
    "name": "ipython",
    "version": 3
   },
   "file_extension": ".py",
   "mimetype": "text/x-python",
   "name": "python",
   "nbconvert_exporter": "python",
   "pygments_lexer": "ipython3",
   "version": "3.6.5"
  }
 },
 "nbformat": 4,
 "nbformat_minor": 2
}
