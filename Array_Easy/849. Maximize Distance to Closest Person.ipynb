{
 "cells": [
  {
   "cell_type": "code",
   "execution_count": 1,
   "metadata": {
    "collapsed": true
   },
   "outputs": [],
   "source": [
    "# 849. Maximize Distance to Closest Person"
   ]
  },
  {
   "cell_type": "code",
   "execution_count": 2,
   "metadata": {
    "collapsed": false
   },
   "outputs": [
    {
     "data": {
      "text/plain": [
       "'\\nI think:\\nfind every 0 and its nearst 1 count the distance\\n'"
      ]
     },
     "execution_count": 2,
     "metadata": {},
     "output_type": "execute_result"
    }
   ],
   "source": [
    "\"\"\"\n",
    "I think:\n",
    "find every 0 and its nearst 1 count the distance\n",
    "this is still wrong\n",
    "because at the beginning and end of the list the situation will be different\n",
    "should be considered differently\n",
    "so take the beginning and the end into another consideration\n",
    "\"\"\""
   ]
  },
  {
   "cell_type": "code",
   "execution_count": 37,
   "metadata": {
    "collapsed": false
   },
   "outputs": [],
   "source": [
    "class Solution:\n",
    "    def maxDistToClosest(self, seats):\n",
    "        \"\"\"\n",
    "        :type seats: List[int]\n",
    "        :rtype: int\n",
    "        \"\"\"\n",
    "        \n",
    "        l = len(seats)\n",
    "\n",
    "        \n",
    "        maxd = 0\n",
    "        \n",
    "        if l ==1: \n",
    "            return 0\n",
    "        if seats[0]==0:\n",
    "            maxd = seats.index(1)\n",
    "        if seats[-1]==0:\n",
    "            maxd = max(maxd,seats[::-1].index(1))\n",
    "        \n",
    "        i=1\n",
    "        while(0<i < l-1):\n",
    "            if seats[i]==0:\n",
    "                j=1\n",
    "                k=1\n",
    "                while(i-j>=0 and seats[i-j]==0):\n",
    "                    j=j+1\n",
    "                while(i+k<l and seats[i+k]==0):\n",
    "                    k=k+1\n",
    "                maxd =max(maxd,min(j,k))\n",
    "            i=i+1\n",
    "        return maxd\n",
    "   \n",
    "                        \n"
   ]
  },
  {
   "cell_type": "code",
   "execution_count": 39,
   "metadata": {
    "collapsed": false
   },
   "outputs": [
    {
     "data": {
      "text/plain": [
       "3"
      ]
     },
     "execution_count": 39,
     "metadata": {},
     "output_type": "execute_result"
    }
   ],
   "source": [
    "s= [1,0,0,0,1,0,1]\n",
    "s= [1,0,0,0]\n",
    "Solution().maxDistToClosest(s)"
   ]
  },
  {
   "cell_type": "markdown",
   "metadata": {},
   "source": [
    "passed!!but very slow!!!\n",
    "clever methods:\n",
    "find the longest 0s between two token seats!!\n",
    "but !! it is differetn from finding the longest 0s because if the 0s are at the end os in the beginning we shouln't /2 !!!!"
   ]
  },
  {
   "cell_type": "code",
   "execution_count": 40,
   "metadata": {
    "collapsed": false
   },
   "outputs": [
    {
     "ename": "NameError",
     "evalue": "name 'seats' is not defined",
     "output_type": "error",
     "traceback": [
      "\u001b[0;31m---------------------------------------------------------------------------\u001b[0m",
      "\u001b[0;31mNameError\u001b[0m                                 Traceback (most recent call last)",
      "\u001b[0;32m<ipython-input-40-0e46098ab355>\u001b[0m in \u001b[0;36m<module>\u001b[0;34m()\u001b[0m\n\u001b[1;32m      1\u001b[0m \u001b[0;31m#all token seats\u001b[0m\u001b[0;34m\u001b[0m\u001b[0;34m\u001b[0m\u001b[0m\n\u001b[0;32m----> 2\u001b[0;31m \u001b[0mpos_list\u001b[0m\u001b[0;34m=\u001b[0m\u001b[0;34m[\u001b[0m\u001b[0mi\u001b[0m \u001b[0;32mfor\u001b[0m \u001b[0mi\u001b[0m \u001b[0;32min\u001b[0m \u001b[0mrange\u001b[0m\u001b[0;34m(\u001b[0m\u001b[0mlen\u001b[0m\u001b[0;34m(\u001b[0m\u001b[0mseats\u001b[0m\u001b[0;34m)\u001b[0m\u001b[0;34m)\u001b[0m \u001b[0;32mif\u001b[0m \u001b[0mseats\u001b[0m\u001b[0;34m[\u001b[0m\u001b[0mi\u001b[0m\u001b[0;34m]\u001b[0m\u001b[0;34m==\u001b[0m\u001b[0;36m1\u001b[0m\u001b[0;34m]\u001b[0m\u001b[0;34m\u001b[0m\u001b[0m\n\u001b[0m\u001b[1;32m      3\u001b[0m \u001b[0;32mif\u001b[0m \u001b[0mlen\u001b[0m\u001b[0;34m(\u001b[0m\u001b[0mpos_list\u001b[0m\u001b[0;34m)\u001b[0m\u001b[0;34m==\u001b[0m\u001b[0;36m1\u001b[0m\u001b[0;34m:\u001b[0m\u001b[0;34m\u001b[0m\u001b[0m\n\u001b[1;32m      4\u001b[0m     \u001b[0;32mreturn\u001b[0m \u001b[0mmax\u001b[0m\u001b[0;34m(\u001b[0m\u001b[0mpos_list\u001b[0m\u001b[0;34m[\u001b[0m\u001b[0;36m0\u001b[0m\u001b[0;34m]\u001b[0m\u001b[0;34m-\u001b[0m\u001b[0;36m0\u001b[0m\u001b[0;34m,\u001b[0m\u001b[0mlen\u001b[0m\u001b[0;34m(\u001b[0m\u001b[0mseats\u001b[0m\u001b[0;34m)\u001b[0m\u001b[0;34m-\u001b[0m\u001b[0;36m1\u001b[0m\u001b[0;34m-\u001b[0m\u001b[0mpos_list\u001b[0m\u001b[0;34m[\u001b[0m\u001b[0;36m0\u001b[0m\u001b[0;34m]\u001b[0m\u001b[0;34m)\u001b[0m\u001b[0;34m\u001b[0m\u001b[0m\n\u001b[1;32m      5\u001b[0m \u001b[0;31m#distance between each two token seats\u001b[0m\u001b[0;34m\u001b[0m\u001b[0;34m\u001b[0m\u001b[0m\n",
      "\u001b[0;31mNameError\u001b[0m: name 'seats' is not defined"
     ]
    }
   ],
   "source": [
    "#all token seats \n",
    "pos_list=[i for i in range(len(seats)) if seats[i]==1]\n",
    "if len(pos_list)==1:\n",
    "    return max(pos_list[0]-0,len(seats)-1-pos_list[0])\n",
    "#distance between each two token seats\n",
    "diff_list=map(lambda  x:x[1]-x[0], zip(pos_list[:-1],pos_list[1:]))\n",
    "res=map(lambda x: x//2, diff_list)\n",
    "return max(pos_list[0]-0,len(seats)-1-pos_list[-1],max(res))\n",
    "            "
   ]
  },
  {
   "cell_type": "code",
   "execution_count": 44,
   "metadata": {
    "collapsed": true
   },
   "outputs": [],
   "source": [
    "class Solution:\n",
    "    def maxDistToClosest(self, seats):\n",
    "        \"\"\"\n",
    "        :type seats: List[int]\n",
    "        :rtype: int\n",
    "        \"\"\"\n",
    "        \n",
    "        token = [i for i in range(len(seats)) if seats[i]==1]\n",
    "        if len(token)==1:\n",
    "            return max(token[0]-0,len(seats)-token[0]-1)\n",
    "        \n",
    "        dist = map(lambda x: x[1]-x[0], zip(token[:-1],token[1:]))\n",
    "        dist2 = map(lambda x:x//2,dist)\n",
    "        \n",
    "        return max(max(dist2),token[0], len(seats)-1-token[-1])"
   ]
  },
  {
   "cell_type": "code",
   "execution_count": 45,
   "metadata": {
    "collapsed": false
   },
   "outputs": [
    {
     "data": {
      "text/plain": [
       "2"
      ]
     },
     "execution_count": 45,
     "metadata": {},
     "output_type": "execute_result"
    }
   ],
   "source": [
    "s= [1,0,0,0,1,0,1]\n",
    "#s= [1,0,0,0]\n",
    "Solution().maxDistToClosest(s)"
   ]
  },
  {
   "cell_type": "code",
   "execution_count": 64,
   "metadata": {
    "collapsed": true
   },
   "outputs": [],
   "source": [
    "class Solution:\n",
    "    def maxDistToClosest(self, seats):\n",
    "        \"\"\"\n",
    "        :type seats: List[int]\n",
    "        :rtype: int\n",
    "        \"\"\"\n",
    "        \n",
    "        s = list(map(lambda x:str(x), seats))\n",
    "        s1 = ''.join(s)\n",
    "        \n",
    "        import re\n",
    "        l0 = re.findall('0+',s1)\n",
    "        dist = [len(i) for i in l0]\n",
    "        \n",
    "        dist1 = max(dist)//2\n",
    "        \n",
    "        if seats[0]==0:\n",
    "            dist2 = seats.index(1)\n",
    "        if seats[-1]==0:\n",
    "            dist3 = seats[::-1].index(1)\n",
    "            \n",
    "        return max(dist1,dist2,dist3)\n",
    "        "
   ]
  },
  {
   "cell_type": "markdown",
   "metadata": {},
   "source": [
    "Python 正则表达式\n",
    "http://www.runoob.com/python/python-reg-expressions.html\n"
   ]
  },
  {
   "cell_type": "markdown",
   "metadata": {},
   "source": [
    "\n",
    "s= [1,0,0,0,1,0,1]\n",
    "s1 = list(map(lambda x:str(x), s))\n",
    "s1\n",
    "s2 = ''.join(s1)\n",
    "s2"
   ]
  }
 ],
 "metadata": {
  "kernelspec": {
   "display_name": "Python [conda root]",
   "language": "python",
   "name": "conda-root-py"
  },
  "language_info": {
   "codemirror_mode": {
    "name": "ipython",
    "version": 3
   },
   "file_extension": ".py",
   "mimetype": "text/x-python",
   "name": "python",
   "nbconvert_exporter": "python",
   "pygments_lexer": "ipython3",
   "version": "3.5.2"
  }
 },
 "nbformat": 4,
 "nbformat_minor": 1
}
