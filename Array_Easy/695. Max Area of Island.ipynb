{
 "cells": [
  {
   "cell_type": "code",
   "execution_count": 1,
   "metadata": {},
   "outputs": [],
   "source": [
    "# 695. Max Area of Island"
   ]
  },
  {
   "cell_type": "markdown",
   "metadata": {},
   "source": [
    "感觉这个题是要用递归了，分而治之的思想吧！！！\n",
    "要写一个函数来统计每一个点的联通数\n",
    "\n",
    "DFS！！深度优先搜索！！\n",
    "BFS！！宽度优先搜索！！\n",
    "好好学习这两个！！\n",
    "https://blog.csdn.net/qq_36525906/article/details/77387717\n",
    "https://www.cnblogs.com/whywhy/p/4888632.html"
   ]
  },
  {
   "cell_type": "markdown",
   "metadata": {},
   "source": [
    "下面这个用的是DFS，递归，或者堆栈可以解决"
   ]
  },
  {
   "cell_type": "code",
   "execution_count": 8,
   "metadata": {},
   "outputs": [
    {
     "name": "stdout",
     "output_type": "stream",
     "text": [
      "0\n"
     ]
    }
   ],
   "source": [
    "class Solution:\n",
    "    def maxAreaOfIsland(self, grid):\n",
    "        \"\"\"\n",
    "        :type grid: List[List[int]]\n",
    "        :rtype: int\n",
    "        \"\"\"\n",
    "        \n",
    "        m = len(grid)\n",
    "        n = len(grid[0])\n",
    "        \n",
    "        def linked(i,j):\n",
    "            if 0 <= i <m and 0<= j <n and grid[i][j]==1:\n",
    "                grid[i][j] =0\n",
    "                return 1 + linked(i-1,j) + linked(i+1,j) + linked(i,j-1) +linked(i,j+1)\n",
    "            return 0\n",
    "        \n",
    "        area =[ linked(i,j) for i in range(m) for j in range(n)]\n",
    "        return max(area) if area else 0\n",
    "    \n",
    "    \n",
    "    grid =[[0,0,0,0,0,0,0,0]]\n",
    "    \n",
    "    print( maxAreaOfIsland(grid,grid))"
   ]
  },
  {
   "cell_type": "markdown",
   "metadata": {},
   "source": [
    "试一试用BFS！！！BFS的实现需要一个队列，先进先出\n",
    "没写完。。。。。不想写了23333"
   ]
  },
  {
   "cell_type": "code",
   "execution_count": 9,
   "metadata": {},
   "outputs": [
    {
     "ename": "SyntaxError",
     "evalue": "unexpected EOF while parsing (<ipython-input-9-d602fadc0e8c>, line 11)",
     "output_type": "error",
     "traceback": [
      "\u001b[0;36m  File \u001b[0;32m\"<ipython-input-9-d602fadc0e8c>\"\u001b[0;36m, line \u001b[0;32m11\u001b[0m\n\u001b[0;31m    def bfs(i,j):\u001b[0m\n\u001b[0m                 ^\u001b[0m\n\u001b[0;31mSyntaxError\u001b[0m\u001b[0;31m:\u001b[0m unexpected EOF while parsing\n"
     ]
    }
   ],
   "source": [
    "class Solution:\n",
    "    def maxAreaOfIsland(self, grid):\n",
    "        \"\"\"\n",
    "        :type grid: List[List[int]]\n",
    "        :rtype: int\n",
    "        \"\"\"\n",
    "        \n",
    "        m = len(grid)\n",
    "        n = len(grid[0])\n",
    "        \n",
    "        def bfs(i,j):\n",
    "            if 0<=i<m and 0<=j<n and grid[i][j] ==1:\n",
    "                queue = [(i,j)]\n",
    "                grid[i][j] =0\n",
    "                \n",
    "                while queue:\n",
    "                    "
   ]
  },
  {
   "cell_type": "markdown",
   "metadata": {},
   "source": [
    "在网上找了一个BFS如下："
   ]
  },
  {
   "cell_type": "code",
   "execution_count": null,
   "metadata": {},
   "outputs": [],
   "source": [
    "\"\"\"\n",
    "2nd solution.\n",
    "Used: BFS algortihm\n",
    "Complexity analysis:\n",
    "Time: O((N * M) * (N + M))\n",
    "Memory: O(N * M) in worst case\n",
    "\"\"\"\n",
    "\n",
    "class Solution:\n",
    "    def maxAreaOfIsland(self, grid):\n",
    "        n = len(grid)\n",
    "        m = len(grid[0])\n",
    "        dx = [1, -1, 0, 0]\n",
    "        dy = [0, 0, 1, -1]\n",
    "        \n",
    "        max_area = 0\n",
    "        current_area = 0\n",
    "        for i in range(n):\n",
    "            for j in range(m):\n",
    "                if grid[i][j]:\n",
    "                    current_area = 0\n",
    "                    queue = [(i, j)]\n",
    "                    grid[i][j] = 0\n",
    "                    \n",
    "                    while queue:\n",
    "                        x = queue[0][0]\n",
    "                        y = queue[0][1]\n",
    "                        queue.pop(0)\n",
    "                        current_area += 1\n",
    "                        \n",
    "                        for k in range(4):\n",
    "                            nextX = x + dx[k]\n",
    "                            nextY = y + dy[k]\n",
    "                            \n",
    "                            if (0 <= nextX and nextX < n) and (0 <= nextY and nextY < m) and grid[nextX][nextY]:\n",
    "                                queue.append((nextX, nextY))\n",
    "                                grid[nextX][nextY] = 0\n",
    "                                \n",
    "                max_area = max(max_area, current_area)   \n",
    "    \n",
    "        return max_area\n",
    "                "
   ]
  }
 ],
 "metadata": {
  "kernelspec": {
   "display_name": "Python 3",
   "language": "python",
   "name": "python3"
  },
  "language_info": {
   "codemirror_mode": {
    "name": "ipython",
    "version": 3
   },
   "file_extension": ".py",
   "mimetype": "text/x-python",
   "name": "python",
   "nbconvert_exporter": "python",
   "pygments_lexer": "ipython3",
   "version": "3.6.5"
  }
 },
 "nbformat": 4,
 "nbformat_minor": 2
}
