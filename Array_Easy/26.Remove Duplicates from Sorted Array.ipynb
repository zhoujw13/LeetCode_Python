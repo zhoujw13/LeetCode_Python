{
 "cells": [
  {
   "cell_type": "code",
   "execution_count": 16,
   "metadata": {
    "collapsed": false
   },
   "outputs": [
    {
     "name": "stdout",
     "output_type": "stream",
     "text": [
      "7\n"
     ]
    },
    {
     "data": {
      "text/plain": [
       "[1, 2, 3, 4, 5, 6, 7]"
      ]
     },
     "execution_count": 16,
     "metadata": {},
     "output_type": "execute_result"
    }
   ],
   "source": [
    "nums = [1,2,3,4,5,6,4,3,7]\n",
    "for index, value in enumerate(nums):\n",
    "    #print index, value\n",
    "    for index1,value1 in enumerate(nums[index+1:]):\n",
    "       #print index1,value1\n",
    "        if value == value1:\n",
    "            nums.pop(index1+index+1)\n",
    "    \n",
    "print index+1\n",
    "nums"
   ]
  },
  {
   "cell_type": "code",
   "execution_count": 25,
   "metadata": {
    "collapsed": false
   },
   "outputs": [
    {
     "name": "stdout",
     "output_type": "stream",
     "text": [
      "0 1\n",
      "0 2\n",
      "1 3\n",
      "2 4\n",
      "3 5\n",
      "4 6\n",
      "5 4\n",
      "6 3\n",
      "7 7\n",
      "\n",
      "\n",
      "1 2\n",
      "0 3\n",
      "1 4\n",
      "2 5\n",
      "3 6\n",
      "4 4\n",
      "5 3\n",
      "6 7\n",
      "\n",
      "\n",
      "2 3\n",
      "0 4\n",
      "1 5\n",
      "2 6\n",
      "3 4\n",
      "4 3\n",
      "5 7\n",
      "\n",
      "\n",
      "3 4\n",
      "0 5\n",
      "1 6\n",
      "2 4\n",
      "3 7\n",
      "\n",
      "\n",
      "4 5\n",
      "0 6\n",
      "1 7\n",
      "\n",
      "\n",
      "5 6\n",
      "0 7\n",
      "\n",
      "\n",
      "6 4\n",
      "\n",
      "\n"
     ]
    },
    {
     "data": {
      "text/plain": [
       "7"
      ]
     },
     "execution_count": 25,
     "metadata": {},
     "output_type": "execute_result"
    }
   ],
   "source": [
    "# no need to remove number !!!!leave them there\n",
    "nums=[1,2,3,4,5,6,4,3,7]\n",
    "global index\n",
    "for index, value in enumerate(nums[:-2]):\n",
    "    print index, value\n",
    "    for index1,value1 in enumerate(nums[index+1:]):\n",
    "        print index1,value1\n",
    "        if value == value1:\n",
    "            nums.pop(index1+index+1)    \n",
    "    print('\\n')\n",
    "nums\n",
    "index+1"
   ]
  },
  {
   "cell_type": "code",
   "execution_count": 34,
   "metadata": {
    "collapsed": false
   },
   "outputs": [
    {
     "name": "stdout",
     "output_type": "stream",
     "text": [
      "1\n",
      "2\n",
      "3\n",
      "4\n",
      "5\n",
      "6\n",
      "7\n",
      "8\n"
     ]
    },
    {
     "data": {
      "text/plain": [
       "9"
      ]
     },
     "execution_count": 34,
     "metadata": {},
     "output_type": "execute_result"
    }
   ],
   "source": [
    "# no need to remove number !!!!leave them there\n",
    "# web answer???\n",
    "nums=[1,2,3,4,5,6,4,3,7]\n",
    "\n",
    "index = 0\n",
    "for i in range(1,len(nums)):\n",
    "    print i\n",
    "    if nums[i] != nums[index]:\n",
    "        index = index + 1\n",
    "        nums[index]=nums[i]\n",
    "\n",
    "index+1"
   ]
  },
  {
   "cell_type": "code",
   "execution_count": 43,
   "metadata": {
    "collapsed": false
   },
   "outputs": [
    {
     "name": "stdout",
     "output_type": "stream",
     "text": [
      "4\n",
      "3\n"
     ]
    },
    {
     "data": {
      "text/plain": [
       "7"
      ]
     },
     "execution_count": 43,
     "metadata": {},
     "output_type": "execute_result"
    }
   ],
   "source": [
    "nums=[1,2,3,4,5,6,4,3,7]\n",
    "\n",
    "index = 0\n",
    "\n",
    "\n",
    "for i in range(1,len(nums)):\n",
    "    \n",
    "    for j in range(0,index+1):\n",
    "        \n",
    "        if nums[i] != nums[j]:\n",
    "            j=j+1\n",
    "        else:\n",
    "            break\n",
    "\n",
    "    if j==index+1:\n",
    "        index = index+1\n",
    "        nums[index]=nums[i]\n",
    "\n",
    "index+1\n",
    "\n",
    "\n",
    "\n",
    "# Time Limit Exceeded "
   ]
  },
  {
   "cell_type": "code",
   "execution_count": 45,
   "metadata": {
    "collapsed": false
   },
   "outputs": [
    {
     "data": {
      "text/plain": [
       "[1, 2, 3, 4, 5, 6, 7, 3, 7]"
      ]
     },
     "execution_count": 45,
     "metadata": {},
     "output_type": "execute_result"
    }
   ],
   "source": [
    "nums=[1,2,3,4,5,6,4,3,7]\n",
    "\n",
    "index = 0\n",
    "\n",
    "for i in range(1,len(nums)):\n",
    "    if nums[i] not in nums[:index]:\n",
    "        index = index+1;\n",
    "        nums[index]=nums[i]\n",
    "  \n",
    "\n",
    "index+1\n",
    "nums\n"
   ]
  },
  {
   "cell_type": "code",
   "execution_count": null,
   "metadata": {
    "collapsed": true
   },
   "outputs": [],
   "source": []
  }
 ],
 "metadata": {
  "kernelspec": {
   "display_name": "Python 2",
   "language": "python",
   "name": "python2"
  },
  "language_info": {
   "codemirror_mode": {
    "name": "ipython",
    "version": 2
   },
   "file_extension": ".py",
   "mimetype": "text/x-python",
   "name": "python",
   "nbconvert_exporter": "python",
   "pygments_lexer": "ipython2",
   "version": "2.7.11"
  }
 },
 "nbformat": 4,
 "nbformat_minor": 0
}
