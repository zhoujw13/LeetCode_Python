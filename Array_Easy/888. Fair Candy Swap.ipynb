{
 "cells": [
  {
   "cell_type": "code",
   "execution_count": 1,
   "metadata": {
    "collapsed": true
   },
   "outputs": [],
   "source": [
    "# 888. Fair Candy Swap"
   ]
  },
  {
   "cell_type": "code",
   "execution_count": 2,
   "metadata": {
    "collapsed": true
   },
   "outputs": [],
   "source": [
    "class Solution:\n",
    "    def fairCandySwap(self, A, B):\n",
    "        \"\"\"\n",
    "        :type A: List[int]\n",
    "        :type B: List[int]\n",
    "        :rtype: List[int]\n",
    "        \"\"\"\n",
    "        \n",
    "        a = sum(A)\n",
    "        b = sum(B)\n",
    "        \n",
    "        need = (a-b)/2\n",
    "        for x1,y1 in enumerate(A):\n",
    "            for x2,y2 in enumerate(B):\n",
    "                if y1-y2 == need:\n",
    "                    return([y1,y2])\n"
   ]
  },
  {
   "cell_type": "code",
   "execution_count": 4,
   "metadata": {
    "collapsed": false
   },
   "outputs": [
    {
     "name": "stdout",
     "output_type": "stream",
     "text": [
      "[5, 4]\n"
     ]
    }
   ],
   "source": [
    "A = [2]\n",
    "B = [1,3]\n",
    "A = [1,2,5] \n",
    "B = [2,4]\n",
    "\n",
    "print(Solution().fairCandySwap(A,B))"
   ]
  },
  {
   "cell_type": "markdown",
   "metadata": {},
   "source": [
    "the method above: Time Limit Excedded!!!"
   ]
  },
  {
   "cell_type": "code",
   "execution_count": 30,
   "metadata": {
    "collapsed": false
   },
   "outputs": [],
   "source": [
    "class Solution:\n",
    "    def fairCandySwap(self, A, B):\n",
    "        \"\"\"\n",
    "        :type A: List[int]\n",
    "        :type B: List[int]\n",
    "        :rtype: List[int]\n",
    "        \"\"\"\n",
    "        \n",
    "        a = sum(A)\n",
    "        b = sum(B)\n",
    "        \n",
    "        need = (a-b)//2\n",
    "        #print(need)\n",
    "        a1 = list(map(lambda x:x-need, A))\n",
    "        #print(a1)\n",
    "        x = list(set(a1) & set(B))\n",
    "        #print(x)\n",
    "        return([x[0]+need,x[0]])"
   ]
  },
  {
   "cell_type": "code",
   "execution_count": 31,
   "metadata": {
    "collapsed": false
   },
   "outputs": [
    {
     "name": "stdout",
     "output_type": "stream",
     "text": [
      "1\n",
      "[0, 1, 4]\n",
      "[4]\n",
      "[5, 4]\n"
     ]
    }
   ],
   "source": [
    "A = [1,2,5] \n",
    "B = [2,4]\n",
    "\n",
    "print(Solution().fairCandySwap(A,B))"
   ]
  },
  {
   "cell_type": "markdown",
   "metadata": {},
   "source": [
    "use set !!!\n",
    "this time work!!"
   ]
  },
  {
   "cell_type": "code",
   "execution_count": null,
   "metadata": {
    "collapsed": true
   },
   "outputs": [],
   "source": []
  }
 ],
 "metadata": {
  "anaconda-cloud": {},
  "kernelspec": {
   "display_name": "Python [conda root]",
   "language": "python",
   "name": "conda-root-py"
  },
  "language_info": {
   "codemirror_mode": {
    "name": "ipython",
    "version": 3
   },
   "file_extension": ".py",
   "mimetype": "text/x-python",
   "name": "python",
   "nbconvert_exporter": "python",
   "pygments_lexer": "ipython3",
   "version": "3.5.2"
  }
 },
 "nbformat": 4,
 "nbformat_minor": 1
}
