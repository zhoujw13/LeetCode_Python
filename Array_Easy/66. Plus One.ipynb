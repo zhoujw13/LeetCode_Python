{
 "cells": [
  {
   "cell_type": "markdown",
   "metadata": {},
   "source": [
    "# 66. Plus One"
   ]
  },
  {
   "cell_type": "code",
   "execution_count": null,
   "metadata": {},
   "outputs": [],
   "source": [
    "\"\"\"\n",
    "时间：20180920\n",
    "\"\"\""
   ]
  },
  {
   "cell_type": "code",
   "execution_count": 107,
   "metadata": {},
   "outputs": [],
   "source": [
    "digits = [1,3,9]"
   ]
  },
  {
   "cell_type": "code",
   "execution_count": 86,
   "metadata": {},
   "outputs": [
    {
     "name": "stdout",
     "output_type": "stream",
     "text": [
      "None\n"
     ]
    }
   ],
   "source": [
    "# 递归失败\n",
    "\n",
    "def plusOne1(digits):\n",
    "            \n",
    "            if digits[-1] == 9:\n",
    "                digits[-1] = 0\n",
    "                plusOne1(digits[:-1])\n",
    "            else:\n",
    "                digits[-1] = digits[-1] +1\n",
    "                return(digits)\n",
    "            \n",
    "\n",
    "print(plusOne1(digits))\n"
   ]
  },
  {
   "cell_type": "code",
   "execution_count": 73,
   "metadata": {},
   "outputs": [],
   "source": [
    "# 尝试递归实现，但是好像出不来\n",
    "# 目前失败\n",
    "\n",
    "def plusOne(self, digits):\n",
    "        \"\"\"\n",
    "        :type digits: List[int]\n",
    "        :rtype: List[int]\n",
    "        \"\"\"\n",
    "        def plusOne1(digits):\n",
    "            \n",
    "            if digits[-1] == 9:\n",
    "                digits[-1] = 0\n",
    "                plusOne1(digits[:-1])\n",
    "            else:\n",
    "                digits[-1] = digits[-1] +1\n",
    "                return(digits)\n",
    "            \n",
    "        res = plusOne1(digits)\n",
    "        return(res)"
   ]
  },
  {
   "cell_type": "code",
   "execution_count": 74,
   "metadata": {},
   "outputs": [
    {
     "name": "stdout",
     "output_type": "stream",
     "text": [
      "None\n"
     ]
    }
   ],
   "source": [
    "print(plusOne(digits,digits))"
   ]
  },
  {
   "cell_type": "code",
   "execution_count": 110,
   "metadata": {},
   "outputs": [],
   "source": [
    "# 用笨办法做，先转换成一个整数，然后再加一，再转换成一个数列\n",
    "# 该方法成功\n",
    "\n",
    "def plusOne(self, digits):\n",
    "        \"\"\"\n",
    "        :type digits: List[int]\n",
    "        :rtype: List[int]\n",
    "        \"\"\"\n",
    "        \n",
    "        amount = 0\n",
    "        length = len(digits)\n",
    "        \n",
    "        for i in range(length):\n",
    "            amount = amount*10 + digits[i]\n",
    "        \n",
    "        amount = amount+1\n",
    "        ds = str(amount)\n",
    "        \n",
    "        result = []\n",
    "        for i in range(len(ds)):\n",
    "            result.append(int(ds[i]))\n",
    "                          \n",
    "        return(result)\n",
    "            \n",
    "            \n"
   ]
  },
  {
   "cell_type": "code",
   "execution_count": 112,
   "metadata": {},
   "outputs": [
    {
     "data": {
      "text/plain": [
       "[1, 4, 0]"
      ]
     },
     "execution_count": 112,
     "metadata": {},
     "output_type": "execute_result"
    }
   ],
   "source": [
    "plusOne(digits,digits)\n"
   ]
  },
  {
   "cell_type": "code",
   "execution_count": 102,
   "metadata": {},
   "outputs": [
    {
     "data": {
      "text/plain": [
       "3"
      ]
     },
     "execution_count": 102,
     "metadata": {},
     "output_type": "execute_result"
    }
   ],
   "source": [
    "a = range(3)\n",
    "a\n",
    "\n",
    "a.stop"
   ]
  },
  {
   "cell_type": "code",
   "execution_count": null,
   "metadata": {},
   "outputs": [],
   "source": []
  }
 ],
 "metadata": {
  "kernelspec": {
   "display_name": "Python 3",
   "language": "python",
   "name": "python3"
  },
  "language_info": {
   "codemirror_mode": {
    "name": "ipython",
    "version": 3
   },
   "file_extension": ".py",
   "mimetype": "text/x-python",
   "name": "python",
   "nbconvert_exporter": "python",
   "pygments_lexer": "ipython3",
   "version": "3.6.5"
  }
 },
 "nbformat": 4,
 "nbformat_minor": 2
}
