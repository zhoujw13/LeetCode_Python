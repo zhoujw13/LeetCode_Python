{
 "cells": [
  {
   "cell_type": "code",
   "execution_count": 1,
   "metadata": {},
   "outputs": [],
   "source": [
    "# 724. Find Pivot Index"
   ]
  },
  {
   "cell_type": "markdown",
   "metadata": {},
   "source": [
    "我的想法是：\n",
    "方法一：左边一个指针，右边一个指针，然后向中间运动，小了就加，看能不能有相等的情况产生。但是数字里有负数啊！！！那就分类讨论？\n",
    "感觉自己做不出来。。。。。\n",
    "方法二：最笨的方法，每一位都把数列分成两部分然后求和！！！我看讨论区答案了，发现这个最笨的方法其实时间复杂度没有那么高啊！！！可以实现的"
   ]
  },
  {
   "cell_type": "code",
   "execution_count": 10,
   "metadata": {},
   "outputs": [
    {
     "name": "stdout",
     "output_type": "stream",
     "text": [
      "-1\n"
     ]
    }
   ],
   "source": [
    "class Solution:\n",
    "    def pivotIndex(self, nums):\n",
    "        \"\"\"\n",
    "        :type nums: List[int]\n",
    "        :rtype: int\n",
    "        \"\"\"\n",
    "        \n",
    "        i =  0\n",
    "        j = len(nums)-1\n",
    "        left = 0\n",
    "        right = 0\n",
    "        \n",
    "        while(i<j-1):\n",
    "            left = left +nums[i]\n",
    "            right = right +nums[j]\n",
    "            \n",
    "            if left >= right:\n",
    "                if nums[i+1] <= 0:\n",
    "                    i=i+1\n",
    "                else:\n",
    "                    j=j-1\n",
    "        \n",
    "            else:\n",
    "                if nums[i+1] >= 0:\n",
    "                    i=i+1\n",
    "                else:\n",
    "                    j=j-1\n",
    "        \n",
    "        if left == right:\n",
    "            return(i+1)\n",
    "        else:\n",
    "            return(-1)\n",
    "\n",
    "        \n",
    "    nums = [1, 7, 3, 6, 5, 6]\n",
    "    print( pivotIndex(nums,nums))"
   ]
  },
  {
   "cell_type": "code",
   "execution_count": 17,
   "metadata": {},
   "outputs": [
    {
     "name": "stdout",
     "output_type": "stream",
     "text": [
      "3\n"
     ]
    }
   ],
   "source": [
    "class Solution:\n",
    "    def pivotIndex(self, nums):\n",
    "        \"\"\"\n",
    "        :type nums: List[int]\n",
    "        :rtype: int\n",
    "        \"\"\"\n",
    "        if len(nums) ==0:\n",
    "            return(-1)\n",
    "        index = 0\n",
    "        left = 0\n",
    "        right = sum(nums)-nums[0]\n",
    "        while(index < len(nums)-1):\n",
    "            if left == right:\n",
    "                return(index)\n",
    "            else:\n",
    "                left = left + nums[index]\n",
    "                right = right - nums[index+1]\n",
    "                index = index +1\n",
    "        return(-1)\n",
    "    \n",
    "    nums = [1, 7, 3, 6, 5, 6]\n",
    "    #nums = [1, 2, 3]\n",
    "    print(pivotIndex(nums,nums))\n",
    "    \"\"\"\n",
    "    这个提交上去还是有各种问题，尤其是索引超出的问题\n",
    "    \"\"\""
   ]
  },
  {
   "cell_type": "code",
   "execution_count": 20,
   "metadata": {},
   "outputs": [
    {
     "name": "stdout",
     "output_type": "stream",
     "text": [
      "-1\n"
     ]
    }
   ],
   "source": [
    "class Solution:\n",
    "    def pivotIndex(self, nums):\n",
    "        \"\"\"\n",
    "        :type nums: List[int]\n",
    "        :rtype: int\n",
    "        \"\"\"\n",
    "        if len(nums) ==0:\n",
    "            return(-1)\n",
    "        index = 0\n",
    "        left = 0\n",
    "        right = sum(nums)\n",
    "        while(index < len(nums)):\n",
    "            right = right - nums[index]\n",
    "            if left == right:\n",
    "                return(index)\n",
    "            else:\n",
    "                left = left + nums[index]\n",
    "            index = index +1\n",
    "        return(-1)\n",
    "    \n",
    "    nums = [1, 7, 3, 6, 5, 6]\n",
    "    nums = [1, 2, 3]\n",
    "    print(pivotIndex(nums,nums))\n",
    "    \n",
    "    "
   ]
  },
  {
   "cell_type": "code",
   "execution_count": null,
   "metadata": {},
   "outputs": [],
   "source": []
  }
 ],
 "metadata": {
  "kernelspec": {
   "display_name": "Python 3",
   "language": "python",
   "name": "python3"
  },
  "language_info": {
   "codemirror_mode": {
    "name": "ipython",
    "version": 3
   },
   "file_extension": ".py",
   "mimetype": "text/x-python",
   "name": "python",
   "nbconvert_exporter": "python",
   "pygments_lexer": "ipython3",
   "version": "3.6.5"
  }
 },
 "nbformat": 4,
 "nbformat_minor": 2
}
