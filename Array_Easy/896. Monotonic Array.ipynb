{
 "cells": [
  {
   "cell_type": "code",
   "execution_count": 1,
   "metadata": {},
   "outputs": [],
   "source": [
    "# 896. Monotonic Array"
   ]
  },
  {
   "cell_type": "markdown",
   "metadata": {},
   "source": [
    "纯粹笨办法！！就是遍历"
   ]
  },
  {
   "cell_type": "code",
   "execution_count": 6,
   "metadata": {},
   "outputs": [],
   "source": [
    "class Solution:\n",
    "    def isMonotonic(self, A):\n",
    "        \"\"\"\n",
    "        :type A: List[int]\n",
    "        :rtype: bool\n",
    "        \"\"\"\n",
    "        \n",
    "        n = len(A)\n",
    "        flag1 = flag2 = True\n",
    "        i=0\n",
    "        j=0\n",
    "        \n",
    "        while(i<n-1 and A[i]<=A[i+1]):\n",
    "            i=i+1\n",
    "        if i != n-1:\n",
    "            flag1 = False\n",
    "        \n",
    "        while(j<n-1 and A[j]>= A[j+1]):\n",
    "            j=j+1\n",
    "        if j!= n-1:\n",
    "            flag2 = False\n",
    "        \n",
    "        return (flag1 or flag2)"
   ]
  },
  {
   "cell_type": "code",
   "execution_count": 8,
   "metadata": {},
   "outputs": [
    {
     "name": "stdout",
     "output_type": "stream",
     "text": [
      "False\n"
     ]
    }
   ],
   "source": [
    "A = [1,2,4,5]\n",
    "A=[3,1,2]\n",
    "print(Solution().isMonotonic(A))"
   ]
  },
  {
   "cell_type": "code",
   "execution_count": null,
   "metadata": {},
   "outputs": [],
   "source": []
  }
 ],
 "metadata": {
  "kernelspec": {
   "display_name": "Python 3",
   "language": "python",
   "name": "python3"
  },
  "language_info": {
   "codemirror_mode": {
    "name": "ipython",
    "version": 3
   },
   "file_extension": ".py",
   "mimetype": "text/x-python",
   "name": "python",
   "nbconvert_exporter": "python",
   "pygments_lexer": "ipython3",
   "version": "3.6.5"
  }
 },
 "nbformat": 4,
 "nbformat_minor": 2
}
