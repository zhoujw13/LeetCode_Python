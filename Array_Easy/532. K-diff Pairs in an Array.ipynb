{
 "cells": [
  {
   "cell_type": "markdown",
   "metadata": {},
   "source": [
    "# 532. K-diff Pairs in an Array"
   ]
  },
  {
   "cell_type": "code",
   "execution_count": 44,
   "metadata": {},
   "outputs": [],
   "source": [
    "nums = [3, 1, 4, 1, 5]\n",
    "k = 2"
   ]
  },
  {
   "cell_type": "code",
   "execution_count": null,
   "metadata": {},
   "outputs": [],
   "source": []
  },
  {
   "cell_type": "code",
   "execution_count": null,
   "metadata": {},
   "outputs": [],
   "source": []
  },
  {
   "cell_type": "code",
   "execution_count": 45,
   "metadata": {},
   "outputs": [
    {
     "name": "stdout",
     "output_type": "stream",
     "text": [
      "4\n"
     ]
    }
   ],
   "source": [
    "\"\"\"\n",
    "自己想用dict做,但是貌似不太对重复对的问题比较严重？\n",
    "\"\"\"\n",
    "nums.sort()\n",
    "dic = dict()\n",
    "res = 0\n",
    "for index, value in enumerate(nums):\n",
    "    r = value - k\n",
    "    if res not in dic :\n",
    "        dic[index] = value\n",
    "    else:\n",
    "        res = res+1\n",
    "        dic[index] = value\n",
    "print(res)"
   ]
  },
  {
   "cell_type": "code",
   "execution_count": 46,
   "metadata": {},
   "outputs": [
    {
     "ename": "SyntaxError",
     "evalue": "'return' outside function (<ipython-input-46-942a59b8b678>, line 6)",
     "output_type": "error",
     "traceback": [
      "\u001b[0;36m  File \u001b[0;32m\"<ipython-input-46-942a59b8b678>\"\u001b[0;36m, line \u001b[0;32m6\u001b[0m\n\u001b[0;31m    return len(set(nums) & set(n+k for n in nums))\u001b[0m\n\u001b[0m    ^\u001b[0m\n\u001b[0;31mSyntaxError\u001b[0m\u001b[0;31m:\u001b[0m 'return' outside function\n"
     ]
    }
   ],
   "source": [
    "\"\"\"\n",
    "网上找了一个，感觉代码很简洁！！学习了\n",
    "\"\"\"\n",
    "import collections\n",
    "if k>0:\n",
    "    return len(set(nums) & set(n+k for n in nums)) #这个”&“非常重要，用来取两个集合里面相同元素\n",
    "elif k==0:\n",
    "    return sum(v>1 for v in collections.Counter(nums).values())\n",
    "else:\n",
    "    return 0"
   ]
  },
  {
   "cell_type": "code",
   "execution_count": 52,
   "metadata": {},
   "outputs": [],
   "source": [
    "a= set([1,4,3])\n",
    "b=set([4,2])"
   ]
  },
  {
   "cell_type": "code",
   "execution_count": 53,
   "metadata": {},
   "outputs": [
    {
     "data": {
      "text/plain": [
       "{2, 4}"
      ]
     },
     "execution_count": 53,
     "metadata": {},
     "output_type": "execute_result"
    }
   ],
   "source": [
    "a and b\n"
   ]
  },
  {
   "cell_type": "code",
   "execution_count": 54,
   "metadata": {},
   "outputs": [
    {
     "data": {
      "text/plain": [
       "{1, 2, 3, 4}"
      ]
     },
     "execution_count": 54,
     "metadata": {},
     "output_type": "execute_result"
    }
   ],
   "source": [
    "a | b"
   ]
  },
  {
   "cell_type": "code",
   "execution_count": 55,
   "metadata": {},
   "outputs": [
    {
     "data": {
      "text/plain": [
       "{1, 3, 4}"
      ]
     },
     "execution_count": 55,
     "metadata": {},
     "output_type": "execute_result"
    }
   ],
   "source": [
    "a or b"
   ]
  },
  {
   "cell_type": "code",
   "execution_count": null,
   "metadata": {},
   "outputs": [],
   "source": [
    "\"\"\"\n",
    "主要的原因是 & ！= and , | != or\n",
    "\n",
    "python 中 & 、| 代表的是位运算符， and 、or代表的是逻辑运算符\n",
    "\n",
    "\n",
    "\n",
    "---------------------\n",
    "\n",
    "本文来自 就叫10啊 的CSDN 博客 ，全文地址请点击：https://blog.csdn.net/qq_37195276/article/details/79467917?utm_source=copy \n",
    "\n",
    "\"\"\""
   ]
  }
 ],
 "metadata": {
  "kernelspec": {
   "display_name": "Python 3",
   "language": "python",
   "name": "python3"
  },
  "language_info": {
   "codemirror_mode": {
    "name": "ipython",
    "version": 3
   },
   "file_extension": ".py",
   "mimetype": "text/x-python",
   "name": "python",
   "nbconvert_exporter": "python",
   "pygments_lexer": "ipython3",
   "version": "3.6.5"
  }
 },
 "nbformat": 4,
 "nbformat_minor": 2
}
