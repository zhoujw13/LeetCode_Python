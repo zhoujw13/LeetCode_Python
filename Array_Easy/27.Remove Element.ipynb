{
 "cells": [
  {
   "cell_type": "markdown",
   "metadata": {},
   "source": [
    "# 27. Remove Element"
   ]
  },
  {
   "cell_type": "code",
   "execution_count": null,
   "metadata": {},
   "outputs": [],
   "source": [
    "\"\"\"\n",
    "时间：20180919\n",
    "\"\"\""
   ]
  },
  {
   "cell_type": "code",
   "execution_count": null,
   "metadata": {},
   "outputs": [],
   "source": [
    "# this time the list is not sorted!!"
   ]
  },
  {
   "cell_type": "code",
   "execution_count": 48,
   "metadata": {},
   "outputs": [],
   "source": [
    "nums = [3,0,1,2,2,3,0,4,2,3]\n",
    "val =3\n"
   ]
  },
  {
   "cell_type": "code",
   "execution_count": 49,
   "metadata": {},
   "outputs": [
    {
     "name": "stdout",
     "output_type": "stream",
     "text": [
      "0\n",
      "[3, 0, 1, 2, 2, 3, 0, 4, 2, 3]\n",
      "0\n",
      "[0, 1, 2, 2, 3, 0, 4, 2, 3]\n",
      "1\n",
      "[0, 1, 2, 2, 3, 0, 4, 2, 3]\n",
      "2\n",
      "[0, 1, 2, 2, 3, 0, 4, 2, 3]\n",
      "3\n",
      "[0, 1, 2, 2, 3, 0, 4, 2, 3]\n",
      "4\n",
      "[0, 1, 2, 2, 3, 0, 4, 2, 3]\n",
      "4\n",
      "[0, 1, 2, 2, 0, 4, 2, 3]\n",
      "5\n",
      "[0, 1, 2, 2, 0, 4, 2, 3]\n",
      "6\n",
      "[0, 1, 2, 2, 0, 4, 2, 3]\n",
      "7\n",
      "[0, 1, 2, 2, 0, 4, 2, 3]\n",
      "[0, 1, 2, 2, 0, 4, 2]\n",
      "7\n"
     ]
    }
   ],
   "source": [
    "# succeed!!!!!!!!   bang!!!!!\n",
    "length = len(nums)\n",
    "i=0\n",
    "\n",
    "while(i<len(nums)):\n",
    "    print(i)\n",
    "    print(nums)\n",
    "    if nums[i] == val:\n",
    "        nums.pop(i)\n",
    "        i=i-1\n",
    "    i=i+1\n",
    "    \n",
    "print(nums)\n",
    "print(i)\n",
    "    "
   ]
  },
  {
   "cell_type": "code",
   "execution_count": 20,
   "metadata": {},
   "outputs": [
    {
     "data": {
      "text/plain": [
       "range(0, 1)"
      ]
     },
     "execution_count": 20,
     "metadata": {},
     "output_type": "execute_result"
    }
   ],
   "source": [
    "range(0,1)\n"
   ]
  },
  {
   "cell_type": "code",
   "execution_count": 24,
   "metadata": {},
   "outputs": [],
   "source": [
    "for i in range(0,0):\n",
    "    print(i)\n",
    "    "
   ]
  },
  {
   "cell_type": "code",
   "execution_count": null,
   "metadata": {},
   "outputs": [],
   "source": []
  }
 ],
 "metadata": {
  "kernelspec": {
   "display_name": "Python 3",
   "language": "python",
   "name": "python3"
  },
  "language_info": {
   "codemirror_mode": {
    "name": "ipython",
    "version": 3
   },
   "file_extension": ".py",
   "mimetype": "text/x-python",
   "name": "python",
   "nbconvert_exporter": "python",
   "pygments_lexer": "ipython3",
   "version": "3.6.5"
  }
 },
 "nbformat": 4,
 "nbformat_minor": 2
}
