{
 "cells": [
  {
   "cell_type": "code",
   "execution_count": 1,
   "metadata": {},
   "outputs": [],
   "source": [
    "# 746. Min Cost Climbing Stairs"
   ]
  },
  {
   "cell_type": "markdown",
   "metadata": {},
   "source": [
    "感觉这是一个很明显的要用递归的做法吧\n",
    "注意了\n",
    "能不用递归就不用递归\n",
    "递归很费时间的！！！！"
   ]
  },
  {
   "cell_type": "code",
   "execution_count": 5,
   "metadata": {},
   "outputs": [
    {
     "name": "stdout",
     "output_type": "stream",
     "text": [
      "6\n"
     ]
    }
   ],
   "source": [
    "class Solution:\n",
    "    def minCostClimbingStairs(self, cost):\n",
    "        \"\"\"\n",
    "        :type cost: List[int]\n",
    "        :rtype: int\n",
    "        \"\"\"\n",
    "    \n",
    "        def Costmin(cost):\n",
    "            if len(cost)==0 or len(cost)==1:\n",
    "                 return(0)\n",
    "            else:\n",
    "                return( min(cost[0]+Costmin(cost[1:]),cost[1]+ Costmin(cost[2:])))\n",
    "            \n",
    "        return(Costmin(cost))\n",
    "\n",
    "    cost = [10, 15, 20]\n",
    "    cost = [1, 100, 1, 1, 1, 100, 1, 1, 100, 1]\n",
    "    print(minCostClimbingStairs(cost,cost))\n",
    "    \n",
    "\"\"\"\n",
    "感觉这个方法上我应该是对的，但是时间上递归超时了\n",
    "所以得把递归改成循环？\n",
    "\"\"\""
   ]
  },
  {
   "cell_type": "markdown",
   "metadata": {},
   "source": [
    "其实这是一个DP问题（动态规划），可以用非递归的方法编程实现！！！\n",
    "\n",
    "用d[i]表示到达第i-th个台阶的最小损失\n",
    "那么\n",
    "d[0]=cost[0]\n",
    "d[1]=cost[1]\n",
    "从i>=2开始\n",
    "d[i] = cost[i] + min(d[i-1],d[i-2])\n",
    "\n",
    "然后就可以循环求出第n-th个台阶被到达的时候即到达对岸的cost\n",
    "以下是求解！！！正确通过！！\n"
   ]
  },
  {
   "cell_type": "code",
   "execution_count": 10,
   "metadata": {},
   "outputs": [
    {
     "name": "stdout",
     "output_type": "stream",
     "text": [
      "6\n"
     ]
    }
   ],
   "source": [
    "class Solution:\n",
    "    def minCostClimbingStairs(self, cost):\n",
    "        \"\"\"\n",
    "        :type cost: List[int]\n",
    "        :rtype: int\n",
    "        \"\"\"\n",
    "        \n",
    "        n = len(cost)\n",
    "        d = list(range(n))\n",
    "        d[0] = cost[0]\n",
    "        d[1] = cost[1]\n",
    "        \n",
    "        for i in range(2,n):\n",
    "            d[i] = cost[i]+min(d[i-1],d[i-2])\n",
    "        \n",
    "        return(min(d[n-1],d[n-2]))\n",
    "    \n",
    "    cost = [10, 15, 20]\n",
    "    cost = [1, 100, 1, 1, 1, 100, 1, 1, 100, 1]\n",
    "    print(minCostClimbingStairs(cost,cost))\n",
    "    \n",
    "    \n",
    "        \n",
    "    "
   ]
  },
  {
   "cell_type": "code",
   "execution_count": null,
   "metadata": {},
   "outputs": [],
   "source": []
  }
 ],
 "metadata": {
  "kernelspec": {
   "display_name": "Python 3",
   "language": "python",
   "name": "python3"
  },
  "language_info": {
   "codemirror_mode": {
    "name": "ipython",
    "version": 3
   },
   "file_extension": ".py",
   "mimetype": "text/x-python",
   "name": "python",
   "nbconvert_exporter": "python",
   "pygments_lexer": "ipython3",
   "version": "3.6.5"
  }
 },
 "nbformat": 4,
 "nbformat_minor": 2
}
