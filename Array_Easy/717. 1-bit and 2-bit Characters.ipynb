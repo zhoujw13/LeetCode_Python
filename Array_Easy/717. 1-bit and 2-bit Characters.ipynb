{
 "cells": [
  {
   "cell_type": "code",
   "execution_count": 1,
   "metadata": {},
   "outputs": [],
   "source": [
    "# 717. 1-bit and 2-bit Characters"
   ]
  },
  {
   "cell_type": "markdown",
   "metadata": {},
   "source": [
    "直接解码，遇到1则跳一位，作为两位去看；遇到0则作为一位。然后看最后一位剩下了没有"
   ]
  },
  {
   "cell_type": "code",
   "execution_count": 4,
   "metadata": {},
   "outputs": [
    {
     "name": "stdout",
     "output_type": "stream",
     "text": [
      "True\n"
     ]
    }
   ],
   "source": [
    "class Solution:\n",
    "    def isOneBitCharacter(self, bits):\n",
    "        \"\"\"\n",
    "        :type bits: List[int]\n",
    "        :rtype: bool\n",
    "        \"\"\"\n",
    "        \n",
    "        i = 0\n",
    "        while (i<len(bits)):\n",
    "            if i == len(bits)-1:\n",
    "                return True\n",
    "            if bits[i] == 1:\n",
    "                i = i+2\n",
    "            else:\n",
    "                i=i+1\n",
    "        return False\n",
    "    \n",
    "\n",
    "    bits = [1, 1, 0]\n",
    "    print(isOneBitCharacter(bits,bits))"
   ]
  },
  {
   "cell_type": "code",
   "execution_count": null,
   "metadata": {},
   "outputs": [],
   "source": []
  }
 ],
 "metadata": {
  "kernelspec": {
   "display_name": "Python 3",
   "language": "python",
   "name": "python3"
  },
  "language_info": {
   "codemirror_mode": {
    "name": "ipython",
    "version": 3
   },
   "file_extension": ".py",
   "mimetype": "text/x-python",
   "name": "python",
   "nbconvert_exporter": "python",
   "pygments_lexer": "ipython3",
   "version": "3.6.5"
  }
 },
 "nbformat": 4,
 "nbformat_minor": 2
}
