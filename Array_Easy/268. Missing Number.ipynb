{
 "cells": [
  {
   "cell_type": "markdown",
   "metadata": {},
   "source": [
    "# 268. Missing Number"
   ]
  },
  {
   "cell_type": "code",
   "execution_count": 5,
   "metadata": {
    "collapsed": false
   },
   "outputs": [
    {
     "name": "stdout",
     "output_type": "stream",
     "text": [
      "2\n"
     ]
    }
   ],
   "source": [
    "\n",
    "# dict?\n",
    "nums = [3,0,1]\n",
    "n= len(nums)+1\n",
    "\n",
    "dic = dict()\n",
    "\n",
    "for i in range(n+1):\n",
    "    if i not in nums:\n",
    "        print i \n",
    "        break\n",
    "# over time\n"
   ]
  },
  {
   "cell_type": "code",
   "execution_count": 8,
   "metadata": {
    "collapsed": false
   },
   "outputs": [
    {
     "name": "stdout",
     "output_type": "stream",
     "text": [
      "2\n"
     ]
    }
   ],
   "source": [
    "# wokao!!!\n",
    "# use math?!!!!!\n",
    "nums = [3,0,1]\n",
    "n= len(nums)\n",
    "\n",
    "sum1 = n*(n+1)/2\n",
    "sum2 = sum(nums)\n",
    "print sum1-sum2"
   ]
  },
  {
   "cell_type": "code",
   "execution_count": null,
   "metadata": {
    "collapsed": true
   },
   "outputs": [],
   "source": [
    "nums = [3,0,1]\n",
    "n= len(nums)+1\n",
    "\n",
    "dic = dict()\n",
    "for index, value in enumerate(nums):\n",
    "    if value in dic:\n",
    "        "
   ]
  }
 ],
 "metadata": {
  "kernelspec": {
   "display_name": "Python 2",
   "language": "python",
   "name": "python2"
  },
  "language_info": {
   "codemirror_mode": {
    "name": "ipython",
    "version": 2
   },
   "file_extension": ".py",
   "mimetype": "text/x-python",
   "name": "python",
   "nbconvert_exporter": "python",
   "pygments_lexer": "ipython2",
   "version": "2.7.11"
  }
 },
 "nbformat": 4,
 "nbformat_minor": 0
}
