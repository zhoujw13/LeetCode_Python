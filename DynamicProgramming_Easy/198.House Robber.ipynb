{
 "cells": [
  {
   "cell_type": "code",
   "execution_count": null,
   "metadata": {},
   "outputs": [],
   "source": [
    "# 198.House Robber"
   ]
  },
  {
   "cell_type": "code",
   "execution_count": 3,
   "metadata": {},
   "outputs": [],
   "source": [
    "class Solution(object):\n",
    "    def rob(self, nums):\n",
    "        \"\"\"\n",
    "        :type nums: List[int]\n",
    "        :rtype: int\n",
    "        \"\"\"\n",
    "        if nums ==[]:\n",
    "            return 0 \n",
    "        elif len(nums) ==[1]:\n",
    "            return nums[0]\n",
    "        return max(nums[0]+self.rob(nums[2:]),self.rob(nums[1:]))"
   ]
  },
  {
   "cell_type": "code",
   "execution_count": 5,
   "metadata": {},
   "outputs": [
    {
     "name": "stdout",
     "output_type": "stream",
     "text": [
      "4\n"
     ]
    }
   ],
   "source": [
    "print(Solution().rob([1,2,3,1]))"
   ]
  },
  {
   "cell_type": "markdown",
   "metadata": {},
   "source": [
    "递归容易超时，用列表从后往前记录吧！"
   ]
  },
  {
   "cell_type": "code",
   "execution_count": 40,
   "metadata": {},
   "outputs": [],
   "source": [
    "class Solution(object):\n",
    "    def rob(self, nums):\n",
    "        \"\"\"\n",
    "        :type nums: List[int]\n",
    "        :rtype: int\n",
    "        \"\"\"\n",
    "        if nums ==[]:\n",
    "            return 0 \n",
    "        elif len(nums) ==[1]:\n",
    "            return nums[0]\n",
    "        \n",
    "        res = [0]*(len(nums)+1)\n",
    "        res[0] = 0\n",
    "        res[1] = nums[-1]\n",
    "\n",
    "        for i in range(2,len(nums)+1):\n",
    "            res[i] = max(res[i-2]+nums[-i] ,res[i-1])\n",
    "        return res[-1]"
   ]
  },
  {
   "cell_type": "code",
   "execution_count": 43,
   "metadata": {},
   "outputs": [
    {
     "name": "stdout",
     "output_type": "stream",
     "text": [
      "12\n"
     ]
    }
   ],
   "source": [
    "print(Solution().rob([2,7,9,3,1]))"
   ]
  },
  {
   "cell_type": "markdown",
   "metadata": {},
   "source": [
    "可否认为从后往前与从前往后是一样的呢？\n",
    "\n",
    "好像确实是一样的！！\n",
    "\n",
    "所以可以改成下面这种\n",
    "\n",
    "这样运算速度就快了！！！"
   ]
  },
  {
   "cell_type": "code",
   "execution_count": 44,
   "metadata": {},
   "outputs": [],
   "source": [
    "class Solution(object):\n",
    "    def rob(self, nums):\n",
    "        \"\"\"\n",
    "        :type nums: List[int]\n",
    "        :rtype: int\n",
    "        \"\"\"\n",
    "        if nums ==[]:\n",
    "            return 0 \n",
    "        elif len(nums) ==[1]:\n",
    "            return nums[0]\n",
    "        \n",
    "        res = [0]*(len(nums)+1)\n",
    "        res[0] = 0\n",
    "        res[1] = nums[0]\n",
    "\n",
    "        for i in range(2,len(nums)+1):\n",
    "            res[i] = max(res[i-2]+nums[i-1] ,res[i-1])\n",
    "        return res[-1]"
   ]
  },
  {
   "cell_type": "code",
   "execution_count": 45,
   "metadata": {},
   "outputs": [
    {
     "name": "stdout",
     "output_type": "stream",
     "text": [
      "12\n"
     ]
    }
   ],
   "source": [
    "print(Solution().rob([2,7,9,3,1]))"
   ]
  },
  {
   "cell_type": "code",
   "execution_count": null,
   "metadata": {},
   "outputs": [],
   "source": []
  }
 ],
 "metadata": {
  "kernelspec": {
   "display_name": "Python 3",
   "language": "python",
   "name": "python3"
  },
  "language_info": {
   "codemirror_mode": {
    "name": "ipython",
    "version": 3
   },
   "file_extension": ".py",
   "mimetype": "text/x-python",
   "name": "python",
   "nbconvert_exporter": "python",
   "pygments_lexer": "ipython3",
   "version": "3.6.5"
  }
 },
 "nbformat": 4,
 "nbformat_minor": 2
}
